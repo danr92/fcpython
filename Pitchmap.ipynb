{
 "cells": [
  {
   "cell_type": "code",
   "execution_count": 2,
   "metadata": {},
   "outputs": [],
   "source": [
    "import matplotlib.pyplot as plt\n",
    "from matplotlib.patches import Arc"
   ]
  },
  {
   "cell_type": "code",
   "execution_count": 40,
   "metadata": {},
   "outputs": [
    {
     "data": {
      "text/plain": [
       "<matplotlib.patches.Arc at 0x7fc1ff624f50>"
      ]
     },
     "execution_count": 40,
     "metadata": {},
     "output_type": "execute_result"
    },
    {
     "data": {
      "image/png": "[encoded data removed]",
      "text/plain": [
       "<Figure size 432x288 with 1 Axes>"
      ]
     },
     "metadata": {
      "needs_background": "light"
     },
     "output_type": "display_data"
    }
   ],
   "source": [
    "fig = plt.figure()\n",
    "ax = fig.add_subplot(1,1,1) \n",
    "\n",
    "plt.plot([0,0],[0,90],color='black')\n",
    "plt.plot([0,130],[90,90],color='black')\n",
    "plt.plot([130,130],[90,0],color='black')\n",
    "plt.plot([130,0],[0,0],color='black')\n",
    "plt.plot([65,65],[0,90],color='black')\n",
    "\n",
    "plt.plot([0,20],[20,20],color='black')\n",
    "plt.plot([20,20],[20,70],color='black')\n",
    "plt.plot([0,20],[70,70],color='black')\n",
    "\n",
    "plt.plot([110,130],[20,20],color='black')\n",
    "plt.plot([110,110],[20,70],color='black')\n",
    "plt.plot([110,130],[70,70],color='black')\n",
    "\n",
    "plt.plot([0,6],[30,30],color='black')\n",
    "plt.plot([6,6],[30,60],color='black')\n",
    "plt.plot([0,6],[60,60],color='black')\n",
    "\n",
    "plt.plot([124,130],[30,30],color='black')\n",
    "plt.plot([124,124],[30,60],color='black')\n",
    "plt.plot([124,130],[60,60],color='black')\n",
    "\n",
    "centreCircle = plt.Circle([65,45],9.15,color='black',fill=False)\n",
    "centreSpot = plt.Circle([65,45],1,color='black')\n",
    "leftPen = plt.Circle([12,45],0.5,color='black')\n",
    "rightPen = plt.Circle([118,45],0.5,color='black')\n",
    "ax.add_patch(centreCircle)\n",
    "ax.add_patch(centreSpot)\n",
    "ax.add_patch(leftPen)\n",
    "ax.add_patch(rightPen)\n",
    "leftArc = Arc((12,45),height=25,width=25,angle=0,theta1=310,theta2=50)\n",
    "ax.add_patch(leftArc)\n",
    "\n",
    "rightArc = Arc((118,45),height=25,width=25,angle=180,theta1=310,theta2=50)\n",
    "ax.add_patch(rightArc)"
   ]
  },
  {
   "cell_type": "code",
   "execution_count": 23,
   "metadata": {},
   "outputs": [],
   "source": []
  },
  {
   "cell_type": "code",
   "execution_count": null,
   "metadata": {},
   "outputs": [],
   "source": []
  }
 ],
 "metadata": {
  "kernelspec": {
   "display_name": "Python 3",
   "language": "python",
   "name": "python3"
  },
  "language_info": {
   "codemirror_mode": {
    "name": "ipython",
    "version": 3
   },
   "file_extension": ".py",
   "mimetype": "text/x-python",
   "name": "python",
   "nbconvert_exporter": "python",
   "pygments_lexer": "ipython3",
   "version": "3.7.6"
  }
 },
 "nbformat": 4,
 "nbformat_minor": 4
}
