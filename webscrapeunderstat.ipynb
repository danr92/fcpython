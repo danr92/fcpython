{
 "cells": [
  {
   "cell_type": "code",
   "execution_count": 1,
   "metadata": {},
   "outputs": [],
   "source": [
    "import requests\n",
    "from bs4 import BeautifulSoup\n",
    "import pandas as pd"
   ]
  },
  {
   "cell_type": "code",
   "execution_count": 2,
   "metadata": {},
   "outputs": [],
   "source": [
    "headers = {'User-Agent': \n",
    "           'Mozilla/5.0 (X11; Linux x86_64) AppleWebKit/537.36 (KHTML, like Gecko) Chrome/47.0.2526.106 Safari/537.36'}\n",
    "\n",
    "page = \"https://understat.com/league/EPL/2020\"\n",
    "pageTree = requests.get(page, headers=headers)\n",
    "pageSoup = BeautifulSoup(pageTree.content, 'html.parser')"
   ]
  },
  {
   "cell_type": "code",
   "execution_count": 8,
   "metadata": {},
   "outputs": [],
   "source": [
    "teams = pageSoup.find_all('a',{'class':'Matches'})"
   ]
  },
  {
   "cell_type": "code",
   "execution_count": 10,
   "metadata": {},
   "outputs": [
    {
     "data": {
      "text/plain": [
       "[<base href=\"https://understat.com/\"/>,\n",
       " <title>EPL xG Table and Scorers for the 2020/2021 season | Understat.com</title>,\n",
       " <meta charset=\"utf-8\"/>,\n",
       " <meta content=\"xG table of EPL standings and top scorers for the 2020/2021 season, also tables from past seasons and other European football leagues.\" name=\"description\"/>,\n",
       " <meta content=\"EPL, xg table,scorers, expected goals table, season 2020/2021\" name=\"Keywords\"/>,\n",
       " <link href=\"apple-touch-icon.png\" rel=\"apple-touch-icon\" sizes=\"180x180\"/>,\n",
       " <link href=\"favicon-32x32.png\" rel=\"icon\" sizes=\"32x32\" type=\"image/png\"/>,\n",
       " <link href=\"favicon-16x16.png\" rel=\"icon\" sizes=\"16x16\" type=\"image/png\"/>,\n",
       " <link href=\"manifest.json\" rel=\"manifest\"/>,\n",
       " <link color=\"#5bbad5\" href=\"safari-pinned-tab.svg\" rel=\"mask-icon\"/>,\n",
       " <meta content=\"understat\" name=\"apple-mobile-web-app-title\"/>,\n",
       " <meta content=\"understat\" name=\"application-name\"/>,\n",
       " <meta content=\"#ffffff\" name=\"theme-color\"/>,\n",
       " <meta content=\"no-cache\" http-equiv=\"cache-control\"/>,\n",
       " <meta content=\"0\" http-equiv=\"expires\"/>,\n",
       " <link href=\"css/main.css?v=2.8\" media=\"screen\" rel=\"stylesheet\"/>]"
      ]
     },
     "execution_count": 10,
     "metadata": {},
     "output_type": "execute_result"
    }
   ],
   "source": []
  },
  {
   "cell_type": "code",
   "execution_count": null,
   "metadata": {},
   "outputs": [],
   "source": []
  }
 ],
 "metadata": {
  "kernelspec": {
   "display_name": "Python 3",
   "language": "python",
   "name": "python3"
  },
  "language_info": {
   "codemirror_mode": {
    "name": "ipython",
    "version": 3
   },
   "file_extension": ".py",
   "mimetype": "text/x-python",
   "name": "python",
   "nbconvert_exporter": "python",
   "pygments_lexer": "ipython3",
   "version": "3.7.6"
  }
 },
 "nbformat": 4,
 "nbformat_minor": 4
}
