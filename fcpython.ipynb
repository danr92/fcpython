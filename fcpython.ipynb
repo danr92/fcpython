{
 "cells": [
  {
   "cell_type": "code",
   "execution_count": 173,
   "metadata": {},
   "outputs": [],
   "source": [
    "taa_1819_assists=12\n",
    "taa_1920_assists=13"
   ]
  },
  {
   "cell_type": "code",
   "execution_count": 174,
   "metadata": {},
   "outputs": [],
   "source": [
    "taa_assists=taa_1819_assists+taa_1920_assists"
   ]
  },
  {
   "cell_type": "code",
   "execution_count": 175,
   "metadata": {},
   "outputs": [
    {
     "data": {
      "text/plain": [
       "25"
      ]
     },
     "execution_count": 175,
     "metadata": {},
     "output_type": "execute_result"
    }
   ],
   "source": [
    "taa_assists"
   ]
  },
  {
   "cell_type": "code",
   "execution_count": 176,
   "metadata": {},
   "outputs": [
    {
     "name": "stdout",
     "output_type": "stream",
     "text": [
      "25\n"
     ]
    }
   ],
   "source": [
    "print(taa_assists)"
   ]
  },
  {
   "cell_type": "code",
   "execution_count": 177,
   "metadata": {},
   "outputs": [
    {
     "data": {
      "text/plain": [
       "True"
      ]
     },
     "execution_count": 177,
     "metadata": {},
     "output_type": "execute_result"
    }
   ],
   "source": [
    "4>3"
   ]
  },
  {
   "cell_type": "code",
   "execution_count": 178,
   "metadata": {},
   "outputs": [
    {
     "data": {
      "text/plain": [
       "False"
      ]
     },
     "execution_count": 178,
     "metadata": {},
     "output_type": "execute_result"
    }
   ],
   "source": [
    "3>4"
   ]
  },
  {
   "cell_type": "code",
   "execution_count": 179,
   "metadata": {},
   "outputs": [
    {
     "data": {
      "text/plain": [
       "True"
      ]
     },
     "execution_count": 179,
     "metadata": {},
     "output_type": "execute_result"
    }
   ],
   "source": [
    "3<=4"
   ]
  },
  {
   "cell_type": "code",
   "execution_count": 180,
   "metadata": {},
   "outputs": [
    {
     "name": "stdout",
     "output_type": "stream",
     "text": [
      "25\n",
      "Bonus\n"
     ]
    }
   ],
   "source": [
    "taa_fouls=15\n",
    "taa_assists=taa_1819_assists+taa_1920_assists\n",
    "print(taa_assists)\n",
    "if taa_fouls<150 and taa_assists>10:\n",
    "    print(\"Bonus\")"
   ]
  },
  {
   "cell_type": "code",
   "execution_count": 181,
   "metadata": {},
   "outputs": [
    {
     "name": "stdout",
     "output_type": "stream",
     "text": [
      "Fucking go for it!\n"
     ]
    }
   ],
   "source": [
    "liverpool_score=3\n",
    "united_score=4\n",
    "time=83\n",
    "if liverpool_score>united_score and time>=80:\n",
    "    print(\"Park the Bus\")\n",
    "if time<80:\n",
    "    print(\"Patience lads\")\n",
    "if liverpool_score<united_score and time>=80:\n",
    "    print(\"Fucking go for it!\")\n",
    "else:\n",
    "    print(\"Gurning Jurgen\")"
   ]
  },
  {
   "cell_type": "code",
   "execution_count": 182,
   "metadata": {},
   "outputs": [],
   "source": [
    "Milan=[\"Maldini\",\"Crespo\",\"Kaka\",\"Pirlo\"]\n",
    "Reds=[\"Dudek\",\"Carra\",\"Alonso\",\"Gerrard\"]"
   ]
  },
  {
   "cell_type": "code",
   "execution_count": 183,
   "metadata": {},
   "outputs": [
    {
     "name": "stdout",
     "output_type": "stream",
     "text": [
      "Welcome to the pitch, Maldini\n",
      "Welcome to the pitch, Crespo\n",
      "Welcome to the pitch, Kaka\n",
      "Welcome to the pitch, Pirlo\n"
     ]
    }
   ],
   "source": [
    "for player in Milan:\n",
    "    print(\"Welcome to the pitch, \" + player)"
   ]
  },
  {
   "cell_type": "code",
   "execution_count": 184,
   "metadata": {},
   "outputs": [
    {
     "name": "stdout",
     "output_type": "stream",
     "text": [
      "Welcome to the pitch, Dudek\n",
      "Welcome to the pitch, Carra\n",
      "Welcome to the pitch, Alonso\n",
      "Welcome to the pitch, Gerrard\n"
     ]
    }
   ],
   "source": [
    "for player in Reds:\n",
    "    print(\"Welcome to the pitch, \" + player)"
   ]
  },
  {
   "cell_type": "code",
   "execution_count": 185,
   "metadata": {},
   "outputs": [
    {
     "name": "stdout",
     "output_type": "stream",
     "text": [
      "Here comes Maldini\n",
      "Here comes Crespo\n",
      "Here comes Kaka\n",
      "Here comes Pirlo\n",
      "Here comes Dudek\n",
      "Here comes Carra\n",
      "Here comes Alonso\n",
      "Here comes Gerrard\n"
     ]
    }
   ],
   "source": [
    "Teams=[Milan,Reds]\n",
    "for team in Teams:\n",
    "    for player in team:\n",
    "        print(\"Here comes \" + player)"
   ]
  },
  {
   "cell_type": "code",
   "execution_count": 186,
   "metadata": {},
   "outputs": [
    {
     "name": "stdout",
     "output_type": "stream",
     "text": [
      "That's 90 minutes, full time!\n"
     ]
    }
   ],
   "source": [
    "minutes_played = 0\n",
    "while minutes_played < 90:\n",
    "    minutes_played += 1\n",
    "   \n",
    "\n",
    "print(\"That's \" +str(minutes_played)+\" minutes, full time!\")"
   ]
  },
  {
   "cell_type": "code",
   "execution_count": 187,
   "metadata": {},
   "outputs": [],
   "source": [
    "import random"
   ]
  },
  {
   "cell_type": "code",
   "execution_count": 188,
   "metadata": {},
   "outputs": [],
   "source": [
    "keep_possession= True\n",
    "pass_skill=74\n",
    "completed_passes=0"
   ]
  },
  {
   "cell_type": "code",
   "execution_count": 189,
   "metadata": {},
   "outputs": [
    {
     "name": "stdout",
     "output_type": "stream",
     "text": [
      "0\n"
     ]
    }
   ],
   "source": [
    "while keep_possession==True:\n",
    "    \n",
    "    if random.randint(0,100) > pass_skill:\n",
    "        \n",
    "        keep_possession = False\n",
    "        \n",
    "    else:\n",
    "        \n",
    "        completed_passes += 1\n",
    "        \n",
    "print(completed_passes)"
   ]
  },
  {
   "cell_type": "code",
   "execution_count": 190,
   "metadata": {},
   "outputs": [
    {
     "name": "stdout",
     "output_type": "stream",
     "text": [
      "[4, 2, 3, 3, 3, 2, 1, 2, 1, 2, 2, 3, 2, 2, 5, 3, 2, 4, 1, 2, 1, 2, 2, 2, 4, 1, 3, 0, 2]\n",
      "[1, 1, 1, 0, 1, 1, 0, 1, 1, 1, 1, 1, 1, 1, 2, 0, 0, 0, 0, 0, 0, 0, 1, 0, 0, 0, 2, 3, 1]\n"
     ]
    }
   ],
   "source": [
    "GF = [4,2,3,3,3,2,1,2,1,2,2,3,2,2,5,3,2,4,1,2,1,2,2,2,4,1,3,0,2]\n",
    "GA = [1,1,1,0,1,1,0,1,1,1,1,1,1,1,2,0,0,0,0,0,0,0,1,0,0,0,2,3,1]\n",
    "print(GF)\n",
    "print(GA)"
   ]
  },
  {
   "cell_type": "code",
   "execution_count": 191,
   "metadata": {},
   "outputs": [
    {
     "name": "stdout",
     "output_type": "stream",
     "text": [
      "2\n",
      "1\n",
      "1\n"
     ]
    }
   ],
   "source": [
    "print(GF[9])\n",
    "print(GA[9])\n",
    "print(GF[9]-GA[9])"
   ]
  },
  {
   "cell_type": "code",
   "execution_count": 192,
   "metadata": {},
   "outputs": [
    {
     "name": "stdout",
     "output_type": "stream",
     "text": [
      "-3\n"
     ]
    }
   ],
   "source": [
    "print(GF[27]-GA[27])\n"
   ]
  },
  {
   "cell_type": "code",
   "execution_count": null,
   "metadata": {},
   "outputs": [],
   "source": []
  },
  {
   "cell_type": "code",
   "execution_count": 193,
   "metadata": {},
   "outputs": [],
   "source": [
    "P = 0\n",
    "GD = 0\n",
    "W = 0\n",
    "D = 0\n",
    "L = 0\n",
    "\n",
    "for i  in range(28):\n",
    "    if GF[i]>GA[i]:\n",
    "        P +=3\n",
    "        W +=1\n",
    "        GD += (GF[i]-GA[i])\n",
    "    elif GF[i] == GA[i]:\n",
    "        P += 1\n",
    "        D += 1\n",
    "    else:\n",
    "        L += 1\n",
    "        GD += (GF[i]-GA[i])"
   ]
  },
  {
   "cell_type": "code",
   "execution_count": 194,
   "metadata": {},
   "outputs": [
    {
     "name": "stdout",
     "output_type": "stream",
     "text": [
      "44\n",
      "79\n",
      "26\n",
      "1\n",
      "1\n"
     ]
    }
   ],
   "source": [
    "print(GD)\n",
    "print(P)\n",
    "print(W)\n",
    "print(D)\n",
    "print(L)"
   ]
  },
  {
   "cell_type": "code",
   "execution_count": 195,
   "metadata": {},
   "outputs": [
    {
     "data": {
      "text/plain": [
       "[0, 1, 2, 3, 4, 5, 6, 7, 8, 9]"
      ]
     },
     "execution_count": 195,
     "metadata": {},
     "output_type": "execute_result"
    }
   ],
   "source": [
    "list(range(10))"
   ]
  },
  {
   "cell_type": "code",
   "execution_count": 196,
   "metadata": {},
   "outputs": [
    {
     "data": {
      "text/plain": [
       "[5, 6, 7, 8, 9]"
      ]
     },
     "execution_count": 196,
     "metadata": {},
     "output_type": "execute_result"
    }
   ],
   "source": [
    "list(range(5,10))"
   ]
  },
  {
   "cell_type": "code",
   "execution_count": 197,
   "metadata": {},
   "outputs": [
    {
     "data": {
      "text/plain": [
       "[0, 3, 6, 9, 12, 15]"
      ]
     },
     "execution_count": 197,
     "metadata": {},
     "output_type": "execute_result"
    }
   ],
   "source": [
    "list(range(0,16,3))"
   ]
  },
  {
   "cell_type": "code",
   "execution_count": 198,
   "metadata": {},
   "outputs": [
    {
     "name": "stdout",
     "output_type": "stream",
     "text": [
      "Bobby\n",
      "['Virg', 'Fab']\n"
     ]
    }
   ],
   "source": [
    "players = [\"Ali\", \"Virg\", \"Fab\", \"Bobby\"]\n",
    "print(players[3])\n",
    "print(players[1:3])"
   ]
  },
  {
   "cell_type": "code",
   "execution_count": 199,
   "metadata": {},
   "outputs": [],
   "source": [
    "GF.append(0)\n",
    "GA.append(0)"
   ]
  },
  {
   "cell_type": "code",
   "execution_count": 200,
   "metadata": {},
   "outputs": [
    {
     "name": "stdout",
     "output_type": "stream",
     "text": [
      "[0, 2, 0, 3, 1, 4, 2, 2, 2]\n",
      "[0, 1, 3, 2, 0, 0, 0, 1, 0]\n"
     ]
    }
   ],
   "source": [
    "GF.reverse()\n",
    "GA.reverse()\n",
    "print(GF[0:9])\n",
    "print(GA[0:9])"
   ]
  },
  {
   "cell_type": "code",
   "execution_count": null,
   "metadata": {},
   "outputs": [],
   "source": []
  },
  {
   "cell_type": "code",
   "execution_count": 201,
   "metadata": {},
   "outputs": [],
   "source": [
    "import math\n"
   ]
  },
  {
   "cell_type": "code",
   "execution_count": 202,
   "metadata": {},
   "outputs": [
    {
     "name": "stdout",
     "output_type": "stream",
     "text": [
      "3.141592653589793\n"
     ]
    }
   ],
   "source": [
    "print(math.pi)"
   ]
  },
  {
   "cell_type": "code",
   "execution_count": 203,
   "metadata": {},
   "outputs": [],
   "source": [
    "import pandas as pd\n",
    "import numpy as np"
   ]
  },
  {
   "cell_type": "code",
   "execution_count": 204,
   "metadata": {},
   "outputs": [
    {
     "data": {
      "text/plain": [
       "array([0, 2, 4, 6, 8])"
      ]
     },
     "execution_count": 204,
     "metadata": {},
     "output_type": "execute_result"
    }
   ],
   "source": [
    "np.arange(0,10,2)"
   ]
  },
  {
   "cell_type": "code",
   "execution_count": 205,
   "metadata": {},
   "outputs": [],
   "source": [
    "def doubleMe(number):\n",
    "    return number*2"
   ]
  },
  {
   "cell_type": "code",
   "execution_count": 206,
   "metadata": {},
   "outputs": [
    {
     "data": {
      "text/plain": [
       "8"
      ]
     },
     "execution_count": 206,
     "metadata": {},
     "output_type": "execute_result"
    }
   ],
   "source": [
    "doubleMe(4)"
   ]
  },
  {
   "cell_type": "code",
   "execution_count": 207,
   "metadata": {},
   "outputs": [],
   "source": [
    "def newTweet(player, action, success):\n",
    "    tweet = player + \" plays a \" + action + \". \"\n",
    "    if success:\n",
    "        if action == \"pass\":\n",
    "            tweet += \"And they keep possession of the ball.\"\n",
    "        if action == \"shot\":\n",
    "            tweet += \"GOLGOLGOLGOL! What a hit son, what a hit!\"\n",
    "    else:\n",
    "        if action == \"pass\":\n",
    "            tweet += \"That was a sloppy pass and they've given away possession.\"\n",
    "        if action == \"shot\":\n",
    "            tweet += \"And they've missed an absolute sitter.\"\n",
    "    \n",
    "    return tweet"
   ]
  },
  {
   "cell_type": "code",
   "execution_count": 208,
   "metadata": {},
   "outputs": [
    {
     "data": {
      "text/plain": [
       "'Pogba plays a shot. GOLGOLGOLGOL! What a hit son, what a hit!'"
      ]
     },
     "execution_count": 208,
     "metadata": {},
     "output_type": "execute_result"
    }
   ],
   "source": [
    "newTweet(\"Pogba\", \"shot\", True)"
   ]
  },
  {
   "cell_type": "code",
   "execution_count": 209,
   "metadata": {},
   "outputs": [],
   "source": [
    "import random"
   ]
  },
  {
   "cell_type": "code",
   "execution_count": 210,
   "metadata": {},
   "outputs": [
    {
     "data": {
      "text/plain": [
       "0.13714812115295516"
      ]
     },
     "execution_count": 210,
     "metadata": {},
     "output_type": "execute_result"
    }
   ],
   "source": [
    "random.random()"
   ]
  },
  {
   "cell_type": "code",
   "execution_count": 211,
   "metadata": {},
   "outputs": [
    {
     "data": {
      "text/plain": [
       "21"
      ]
     },
     "execution_count": 211,
     "metadata": {},
     "output_type": "execute_result"
    }
   ],
   "source": [
    "int(random.random()*100)"
   ]
  },
  {
   "cell_type": "code",
   "execution_count": 212,
   "metadata": {},
   "outputs": [
    {
     "data": {
      "text/plain": [
       "1"
      ]
     },
     "execution_count": 212,
     "metadata": {},
     "output_type": "execute_result"
    }
   ],
   "source": [
    "random.randint(1,5)"
   ]
  },
  {
   "cell_type": "code",
   "execution_count": 213,
   "metadata": {},
   "outputs": [],
   "source": [
    "HomexG = [0.04,0.03,0.03,0.05,0.06,0.35,0.32,0.06,0.06,0.06]\n",
    "AwayxG = [0.03,0.02,0.01,0.02,0.05,0.02,0.03,0.04,0.08,0.48,0.40,0.43]"
   ]
  },
  {
   "cell_type": "code",
   "execution_count": 214,
   "metadata": {},
   "outputs": [
    {
     "name": "stdout",
     "output_type": "stream",
     "text": [
      "Miss!\n"
     ]
    }
   ],
   "source": [
    "if random.random()<=0.21:\n",
    "    print(\"Goal!\")\n",
    "else:\n",
    "    print(\"Miss!\")"
   ]
  },
  {
   "cell_type": "code",
   "execution_count": 215,
   "metadata": {},
   "outputs": [],
   "source": [
    "Goals = 0\n",
    "\n",
    "for i in range(0,10000):\n",
    "    if random.random()<=0.21:\n",
    "        Goals +=1"
   ]
  },
  {
   "cell_type": "code",
   "execution_count": 216,
   "metadata": {},
   "outputs": [
    {
     "data": {
      "text/plain": [
       "2124"
      ]
     },
     "execution_count": 216,
     "metadata": {},
     "output_type": "execute_result"
    }
   ],
   "source": [
    "Goals"
   ]
  },
  {
   "cell_type": "code",
   "execution_count": 217,
   "metadata": {},
   "outputs": [],
   "source": [
    "def calcWinner(home, away):\n",
    "    #match starts 0-0\n",
    "    home_goals=0\n",
    "    away_goals=0\n",
    "    \n",
    "    def testShots(shots):\n",
    "        #tests each shot\n",
    "        goals=0\n",
    "        \n",
    "        for shot in shots:\n",
    "            if random.random() <= shot:\n",
    "                goals += 1\n",
    "                \n",
    "        #return outside the for loop\n",
    "        return goals\n",
    "  \n",
    "    home_goals = testShots(home)\n",
    "    away_goals = testShots(away)\n",
    "    \n",
    "    if home_goals > away_goals:\n",
    "        print(\"Home team wins!{} - {}\".format(home_goals,away_goals))\n",
    "    elif home_goals < away_goals:\n",
    "        print(\"It's an away win! {} - {}\".format(home_goals,away_goals))\n",
    "    else:\n",
    "         print(\"And it's a tie! {} - {}\".format(home_goals,away_goals))"
   ]
  },
  {
   "cell_type": "code",
   "execution_count": 218,
   "metadata": {},
   "outputs": [
    {
     "name": "stdout",
     "output_type": "stream",
     "text": [
      "Home team wins!2 - 1\n"
     ]
    }
   ],
   "source": [
    "calcWinner(HomexG,AwayxG)"
   ]
  },
  {
   "cell_type": "code",
   "execution_count": 219,
   "metadata": {},
   "outputs": [],
   "source": [
    "def calcWin(home, away):\n",
    "    #match starts 0-0\n",
    "    home_goals=0\n",
    "    away_goals=0\n",
    "    \n",
    "    def testShots(shots):\n",
    "        #tests each shot\n",
    "        goals=0\n",
    "        \n",
    "        for shot in shots:\n",
    "            if random.random() <= shot:\n",
    "                goals += 1\n",
    "                \n",
    "        #return outside the for loop\n",
    "        return goals\n",
    "  \n",
    "    home_goals = testShots(home)\n",
    "    away_goals = testShots(away)\n",
    "    \n",
    "    #no longer printing results, just returning them\n",
    "    if home_goals > away_goals:\n",
    "        return(\"home\")\n",
    "    elif home_goals < away_goals:\n",
    "        return(\"away\")\n",
    "    else:\n",
    "        return(\"draw\")"
   ]
  },
  {
   "cell_type": "code",
   "execution_count": 220,
   "metadata": {},
   "outputs": [],
   "source": [
    "def calcChance(team1, team2):\n",
    "    \n",
    "    home = 0\n",
    "    away = 0\n",
    "    draw = 0\n",
    "    \n",
    "    for i in range(0,10000):\n",
    "        matchwinner = calcWin(team1, team2)\n",
    "        \n",
    "        if matchwinner == \"home\":\n",
    "            home += 1\n",
    "        elif matchwinner == \"away\":\n",
    "            away += 1\n",
    "        else:\n",
    "            draw += 1\n",
    "            \n",
    "    home = home/100\n",
    "    away = away/100\n",
    "    draw = draw/100\n",
    "    \n",
    "    print(\"Over 10000 matches: {}% home win, {}% away win, {}% a draw\".format(home,away,draw))"
   ]
  },
  {
   "cell_type": "code",
   "execution_count": 221,
   "metadata": {},
   "outputs": [
    {
     "name": "stdout",
     "output_type": "stream",
     "text": [
      "Over 10000 matches: 21.68% home win, 51.55% away win, 26.77% a draw\n"
     ]
    }
   ],
   "source": [
    "calcChance(HomexG, AwayxG)"
   ]
  },
  {
   "cell_type": "code",
   "execution_count": 222,
   "metadata": {},
   "outputs": [],
   "source": [
    "HomexG = [0.63]\n",
    "AwayxG = [0.07,0.12,0.08,0.11,0.02,0.03,0.03,0.08,0.04,0.05]"
   ]
  },
  {
   "cell_type": "code",
   "execution_count": 223,
   "metadata": {},
   "outputs": [
    {
     "name": "stdout",
     "output_type": "stream",
     "text": [
      "Over 10000 matches: 32.5% home win, 24.76% away win, 42.74% a draw\n"
     ]
    }
   ],
   "source": [
    "calcChance(HomexG, AwayxG)"
   ]
  },
  {
   "cell_type": "code",
   "execution_count": 224,
   "metadata": {},
   "outputs": [],
   "source": [
    "GKname = [\"Alisson\", \"Ederson\",\"Kepa\", \"De Gea\",\"Leno\",\"Lloris\"]\n",
    "GKheight = [191,188,186,192,190,188]\n",
    "GKweight = [91,89,88,82,79,78]"
   ]
  },
  {
   "cell_type": "code",
   "execution_count": 225,
   "metadata": {},
   "outputs": [
    {
     "name": "stdout",
     "output_type": "stream",
     "text": [
      "['Alisson' 'Ederson' 'Kepa' 'De Gea' 'Leno' 'Lloris']\n"
     ]
    }
   ],
   "source": [
    "print(np.array(GKname))"
   ]
  },
  {
   "cell_type": "code",
   "execution_count": 226,
   "metadata": {},
   "outputs": [
    {
     "name": "stdout",
     "output_type": "stream",
     "text": [
      "[['Alisson' 'Ederson' 'Kepa' 'De Gea' 'Leno' 'Lloris']\n",
      " ['191' '188' '186' '192' '190' '188']\n",
      " ['91' '89' '88' '82' '79' '78']]\n"
     ]
    }
   ],
   "source": [
    "GKmatrix = [GKname, GKheight, GKweight]\n",
    "print(np.array(GKmatrix))"
   ]
  },
  {
   "cell_type": "code",
   "execution_count": 227,
   "metadata": {},
   "outputs": [
    {
     "data": {
      "text/plain": [
       "array([ 0,  1,  2,  3,  4,  5,  6,  7,  8,  9, 10, 11])"
      ]
     },
     "execution_count": 227,
     "metadata": {},
     "output_type": "execute_result"
    }
   ],
   "source": [
    "np.arange(0,12)"
   ]
  },
  {
   "cell_type": "code",
   "execution_count": 228,
   "metadata": {},
   "outputs": [
    {
     "data": {
      "text/plain": [
       "array([[0., 0., 0.],\n",
       "       [0., 0., 0.],\n",
       "       [0., 0., 0.],\n",
       "       [0., 0., 0.]])"
      ]
     },
     "execution_count": 228,
     "metadata": {},
     "output_type": "execute_result"
    }
   ],
   "source": [
    "np.zeros((4,3))"
   ]
  },
  {
   "cell_type": "code",
   "execution_count": 229,
   "metadata": {},
   "outputs": [
    {
     "data": {
      "text/plain": [
       "array([[1., 1., 1.],\n",
       "       [1., 1., 1.],\n",
       "       [1., 1., 1.],\n",
       "       [1., 1., 1.]])"
      ]
     },
     "execution_count": 229,
     "metadata": {},
     "output_type": "execute_result"
    }
   ],
   "source": [
    "np.ones((4,3))"
   ]
  },
  {
   "cell_type": "code",
   "execution_count": 230,
   "metadata": {},
   "outputs": [
    {
     "name": "stdout",
     "output_type": "stream",
     "text": [
      "[[ 0.94897474  0.53313107  0.38013117  0.55446833]\n",
      " [-0.37948353  0.81904011 -2.21237619  1.6365747 ]\n",
      " [ 2.42040425  0.05639891 -0.02289356  0.18124617]]\n"
     ]
    }
   ],
   "source": [
    "print(np.random.randn(3,4))"
   ]
  },
  {
   "cell_type": "code",
   "execution_count": 231,
   "metadata": {},
   "outputs": [
    {
     "name": "stdout",
     "output_type": "stream",
     "text": [
      "[[7 3 5 3]\n",
      " [9 3 6 9]\n",
      " [5 3 4 7]]\n"
     ]
    }
   ],
   "source": [
    "print(np.random.randint(1,10,(3,4)))"
   ]
  },
  {
   "cell_type": "code",
   "execution_count": 232,
   "metadata": {},
   "outputs": [
    {
     "data": {
      "text/plain": [
       "array([91, 89, 88, 82, 79, 78])"
      ]
     },
     "execution_count": 232,
     "metadata": {},
     "output_type": "execute_result"
    }
   ],
   "source": [
    "np.array(GKname)\n",
    "GKheight = np.array(GKheight)\n",
    "np.array(GKweight)"
   ]
  },
  {
   "cell_type": "code",
   "execution_count": 233,
   "metadata": {},
   "outputs": [
    {
     "data": {
      "text/plain": [
       "192"
      ]
     },
     "execution_count": 233,
     "metadata": {},
     "output_type": "execute_result"
    }
   ],
   "source": [
    "GKheight.max()"
   ]
  },
  {
   "cell_type": "code",
   "execution_count": 234,
   "metadata": {},
   "outputs": [
    {
     "data": {
      "text/plain": [
       "3"
      ]
     },
     "execution_count": 234,
     "metadata": {},
     "output_type": "execute_result"
    }
   ],
   "source": [
    "GKheight.argmax()"
   ]
  },
  {
   "cell_type": "code",
   "execution_count": 235,
   "metadata": {},
   "outputs": [
    {
     "data": {
      "text/plain": [
       "'De Gea'"
      ]
     },
     "execution_count": 235,
     "metadata": {},
     "output_type": "execute_result"
    }
   ],
   "source": [
    "GKname[GKheight.argmax()]"
   ]
  },
  {
   "cell_type": "code",
   "execution_count": 236,
   "metadata": {},
   "outputs": [
    {
     "data": {
      "text/plain": [
       "'Kepa'"
      ]
     },
     "execution_count": 236,
     "metadata": {},
     "output_type": "execute_result"
    }
   ],
   "source": [
    "GKname[GKheight.argmin()]"
   ]
  },
  {
   "cell_type": "code",
   "execution_count": 237,
   "metadata": {},
   "outputs": [],
   "source": [
    "import numpy as np\n",
    "import pandas as pd\n",
    "df = pd.read_csv(\"1920table.csv\")"
   ]
  },
  {
   "cell_type": "code",
   "execution_count": 238,
   "metadata": {},
   "outputs": [
    {
     "data": {
      "text/html": [
       "<div>\n",
       "<style scoped>\n",
       "    .dataframe tbody tr th:only-of-type {\n",
       "        vertical-align: middle;\n",
       "    }\n",
       "\n",
       "    .dataframe tbody tr th {\n",
       "        vertical-align: top;\n",
       "    }\n",
       "\n",
       "    .dataframe thead th {\n",
       "        text-align: right;\n",
       "    }\n",
       "</style>\n",
       "<table border=\"1\" class=\"dataframe\">\n",
       "  <thead>\n",
       "    <tr style=\"text-align: right;\">\n",
       "      <th></th>\n",
       "      <th>Squad</th>\n",
       "      <th># Pl</th>\n",
       "      <th>SCA</th>\n",
       "      <th>SCA90</th>\n",
       "      <th>PassLive</th>\n",
       "      <th>PassDead</th>\n",
       "      <th>Drib</th>\n",
       "      <th>Sh</th>\n",
       "      <th>Fld</th>\n",
       "      <th>GCA</th>\n",
       "      <th>GCA90</th>\n",
       "      <th>PassLive.1</th>\n",
       "      <th>PassDead.1</th>\n",
       "      <th>Drib.1</th>\n",
       "      <th>Sh.1</th>\n",
       "      <th>Fld.1</th>\n",
       "      <th>OG</th>\n",
       "    </tr>\n",
       "  </thead>\n",
       "  <tbody>\n",
       "    <tr>\n",
       "      <th>0</th>\n",
       "      <td>Arsenal</td>\n",
       "      <td>29</td>\n",
       "      <td>615</td>\n",
       "      <td>16.18</td>\n",
       "      <td>435</td>\n",
       "      <td>57</td>\n",
       "      <td>51</td>\n",
       "      <td>36</td>\n",
       "      <td>36</td>\n",
       "      <td>78</td>\n",
       "      <td>2.05</td>\n",
       "      <td>57</td>\n",
       "      <td>4</td>\n",
       "      <td>4</td>\n",
       "      <td>9</td>\n",
       "      <td>4</td>\n",
       "      <td>0</td>\n",
       "    </tr>\n",
       "    <tr>\n",
       "      <th>1</th>\n",
       "      <td>Aston Villa</td>\n",
       "      <td>28</td>\n",
       "      <td>747</td>\n",
       "      <td>19.66</td>\n",
       "      <td>549</td>\n",
       "      <td>80</td>\n",
       "      <td>36</td>\n",
       "      <td>27</td>\n",
       "      <td>54</td>\n",
       "      <td>67</td>\n",
       "      <td>1.76</td>\n",
       "      <td>46</td>\n",
       "      <td>7</td>\n",
       "      <td>5</td>\n",
       "      <td>4</td>\n",
       "      <td>4</td>\n",
       "      <td>1</td>\n",
       "    </tr>\n",
       "    <tr>\n",
       "      <th>2</th>\n",
       "      <td>Bournemouth</td>\n",
       "      <td>27</td>\n",
       "      <td>562</td>\n",
       "      <td>14.79</td>\n",
       "      <td>393</td>\n",
       "      <td>66</td>\n",
       "      <td>32</td>\n",
       "      <td>30</td>\n",
       "      <td>40</td>\n",
       "      <td>59</td>\n",
       "      <td>1.55</td>\n",
       "      <td>32</td>\n",
       "      <td>4</td>\n",
       "      <td>5</td>\n",
       "      <td>10</td>\n",
       "      <td>7</td>\n",
       "      <td>1</td>\n",
       "    </tr>\n",
       "    <tr>\n",
       "      <th>3</th>\n",
       "      <td>Brighton</td>\n",
       "      <td>25</td>\n",
       "      <td>694</td>\n",
       "      <td>18.26</td>\n",
       "      <td>512</td>\n",
       "      <td>69</td>\n",
       "      <td>42</td>\n",
       "      <td>35</td>\n",
       "      <td>32</td>\n",
       "      <td>63</td>\n",
       "      <td>1.66</td>\n",
       "      <td>39</td>\n",
       "      <td>8</td>\n",
       "      <td>5</td>\n",
       "      <td>2</td>\n",
       "      <td>5</td>\n",
       "      <td>4</td>\n",
       "    </tr>\n",
       "    <tr>\n",
       "      <th>4</th>\n",
       "      <td>Burnley</td>\n",
       "      <td>22</td>\n",
       "      <td>556</td>\n",
       "      <td>14.63</td>\n",
       "      <td>393</td>\n",
       "      <td>66</td>\n",
       "      <td>25</td>\n",
       "      <td>36</td>\n",
       "      <td>35</td>\n",
       "      <td>62</td>\n",
       "      <td>1.63</td>\n",
       "      <td>43</td>\n",
       "      <td>8</td>\n",
       "      <td>3</td>\n",
       "      <td>5</td>\n",
       "      <td>2</td>\n",
       "      <td>1</td>\n",
       "    </tr>\n",
       "  </tbody>\n",
       "</table>\n",
       "</div>"
      ],
      "text/plain": [
       "         Squad  # Pl  SCA  SCA90  PassLive  PassDead  Drib  Sh  Fld  GCA  \\\n",
       "0      Arsenal    29  615  16.18       435        57    51  36   36   78   \n",
       "1  Aston Villa    28  747  19.66       549        80    36  27   54   67   \n",
       "2  Bournemouth    27  562  14.79       393        66    32  30   40   59   \n",
       "3     Brighton    25  694  18.26       512        69    42  35   32   63   \n",
       "4      Burnley    22  556  14.63       393        66    25  36   35   62   \n",
       "\n",
       "   GCA90  PassLive.1  PassDead.1  Drib.1  Sh.1  Fld.1  OG  \n",
       "0   2.05          57           4       4     9      4   0  \n",
       "1   1.76          46           7       5     4      4   1  \n",
       "2   1.55          32           4       5    10      7   1  \n",
       "3   1.66          39           8       5     2      5   4  \n",
       "4   1.63          43           8       3     5      2   1  "
      ]
     },
     "execution_count": 238,
     "metadata": {},
     "output_type": "execute_result"
    }
   ],
   "source": [
    "df.head()"
   ]
  },
  {
   "cell_type": "code",
   "execution_count": 239,
   "metadata": {},
   "outputs": [
    {
     "data": {
      "text/html": [
       "<div>\n",
       "<style scoped>\n",
       "    .dataframe tbody tr th:only-of-type {\n",
       "        vertical-align: middle;\n",
       "    }\n",
       "\n",
       "    .dataframe tbody tr th {\n",
       "        vertical-align: top;\n",
       "    }\n",
       "\n",
       "    .dataframe thead th {\n",
       "        text-align: right;\n",
       "    }\n",
       "</style>\n",
       "<table border=\"1\" class=\"dataframe\">\n",
       "  <thead>\n",
       "    <tr style=\"text-align: right;\">\n",
       "      <th></th>\n",
       "      <th>Squad</th>\n",
       "      <th># Pl</th>\n",
       "      <th>SCA</th>\n",
       "      <th>SCA90</th>\n",
       "      <th>PassLive</th>\n",
       "      <th>PassDead</th>\n",
       "      <th>Drib</th>\n",
       "      <th>Sh</th>\n",
       "      <th>Fld</th>\n",
       "      <th>GCA</th>\n",
       "      <th>GCA90</th>\n",
       "      <th>PassLive.1</th>\n",
       "      <th>PassDead.1</th>\n",
       "      <th>Drib.1</th>\n",
       "      <th>Sh.1</th>\n",
       "      <th>Fld.1</th>\n",
       "      <th>OG</th>\n",
       "    </tr>\n",
       "  </thead>\n",
       "  <tbody>\n",
       "    <tr>\n",
       "      <th>0</th>\n",
       "      <td>Arsenal</td>\n",
       "      <td>29</td>\n",
       "      <td>615</td>\n",
       "      <td>16.18</td>\n",
       "      <td>435</td>\n",
       "      <td>57</td>\n",
       "      <td>51</td>\n",
       "      <td>36</td>\n",
       "      <td>36</td>\n",
       "      <td>78</td>\n",
       "      <td>2.05</td>\n",
       "      <td>57</td>\n",
       "      <td>4</td>\n",
       "      <td>4</td>\n",
       "      <td>9</td>\n",
       "      <td>4</td>\n",
       "      <td>0</td>\n",
       "    </tr>\n",
       "    <tr>\n",
       "      <th>1</th>\n",
       "      <td>Aston Villa</td>\n",
       "      <td>28</td>\n",
       "      <td>747</td>\n",
       "      <td>19.66</td>\n",
       "      <td>549</td>\n",
       "      <td>80</td>\n",
       "      <td>36</td>\n",
       "      <td>27</td>\n",
       "      <td>54</td>\n",
       "      <td>67</td>\n",
       "      <td>1.76</td>\n",
       "      <td>46</td>\n",
       "      <td>7</td>\n",
       "      <td>5</td>\n",
       "      <td>4</td>\n",
       "      <td>4</td>\n",
       "      <td>1</td>\n",
       "    </tr>\n",
       "    <tr>\n",
       "      <th>2</th>\n",
       "      <td>Bournemouth</td>\n",
       "      <td>27</td>\n",
       "      <td>562</td>\n",
       "      <td>14.79</td>\n",
       "      <td>393</td>\n",
       "      <td>66</td>\n",
       "      <td>32</td>\n",
       "      <td>30</td>\n",
       "      <td>40</td>\n",
       "      <td>59</td>\n",
       "      <td>1.55</td>\n",
       "      <td>32</td>\n",
       "      <td>4</td>\n",
       "      <td>5</td>\n",
       "      <td>10</td>\n",
       "      <td>7</td>\n",
       "      <td>1</td>\n",
       "    </tr>\n",
       "    <tr>\n",
       "      <th>3</th>\n",
       "      <td>Brighton</td>\n",
       "      <td>25</td>\n",
       "      <td>694</td>\n",
       "      <td>18.26</td>\n",
       "      <td>512</td>\n",
       "      <td>69</td>\n",
       "      <td>42</td>\n",
       "      <td>35</td>\n",
       "      <td>32</td>\n",
       "      <td>63</td>\n",
       "      <td>1.66</td>\n",
       "      <td>39</td>\n",
       "      <td>8</td>\n",
       "      <td>5</td>\n",
       "      <td>2</td>\n",
       "      <td>5</td>\n",
       "      <td>4</td>\n",
       "    </tr>\n",
       "    <tr>\n",
       "      <th>4</th>\n",
       "      <td>Burnley</td>\n",
       "      <td>22</td>\n",
       "      <td>556</td>\n",
       "      <td>14.63</td>\n",
       "      <td>393</td>\n",
       "      <td>66</td>\n",
       "      <td>25</td>\n",
       "      <td>36</td>\n",
       "      <td>35</td>\n",
       "      <td>62</td>\n",
       "      <td>1.63</td>\n",
       "      <td>43</td>\n",
       "      <td>8</td>\n",
       "      <td>3</td>\n",
       "      <td>5</td>\n",
       "      <td>2</td>\n",
       "      <td>1</td>\n",
       "    </tr>\n",
       "    <tr>\n",
       "      <th>5</th>\n",
       "      <td>Chelsea</td>\n",
       "      <td>27</td>\n",
       "      <td>978</td>\n",
       "      <td>25.74</td>\n",
       "      <td>739</td>\n",
       "      <td>86</td>\n",
       "      <td>53</td>\n",
       "      <td>46</td>\n",
       "      <td>54</td>\n",
       "      <td>108</td>\n",
       "      <td>2.84</td>\n",
       "      <td>76</td>\n",
       "      <td>6</td>\n",
       "      <td>8</td>\n",
       "      <td>8</td>\n",
       "      <td>10</td>\n",
       "      <td>0</td>\n",
       "    </tr>\n",
       "    <tr>\n",
       "      <th>6</th>\n",
       "      <td>Crystal Palace</td>\n",
       "      <td>25</td>\n",
       "      <td>520</td>\n",
       "      <td>13.68</td>\n",
       "      <td>341</td>\n",
       "      <td>64</td>\n",
       "      <td>50</td>\n",
       "      <td>22</td>\n",
       "      <td>41</td>\n",
       "      <td>54</td>\n",
       "      <td>1.42</td>\n",
       "      <td>35</td>\n",
       "      <td>4</td>\n",
       "      <td>5</td>\n",
       "      <td>2</td>\n",
       "      <td>6</td>\n",
       "      <td>2</td>\n",
       "    </tr>\n",
       "    <tr>\n",
       "      <th>7</th>\n",
       "      <td>Everton</td>\n",
       "      <td>24</td>\n",
       "      <td>685</td>\n",
       "      <td>18.03</td>\n",
       "      <td>457</td>\n",
       "      <td>83</td>\n",
       "      <td>46</td>\n",
       "      <td>54</td>\n",
       "      <td>43</td>\n",
       "      <td>65</td>\n",
       "      <td>1.71</td>\n",
       "      <td>43</td>\n",
       "      <td>5</td>\n",
       "      <td>5</td>\n",
       "      <td>8</td>\n",
       "      <td>2</td>\n",
       "      <td>2</td>\n",
       "    </tr>\n",
       "    <tr>\n",
       "      <th>8</th>\n",
       "      <td>Leicester City</td>\n",
       "      <td>24</td>\n",
       "      <td>860</td>\n",
       "      <td>22.63</td>\n",
       "      <td>625</td>\n",
       "      <td>77</td>\n",
       "      <td>64</td>\n",
       "      <td>40</td>\n",
       "      <td>52</td>\n",
       "      <td>110</td>\n",
       "      <td>2.89</td>\n",
       "      <td>87</td>\n",
       "      <td>5</td>\n",
       "      <td>7</td>\n",
       "      <td>2</td>\n",
       "      <td>7</td>\n",
       "      <td>2</td>\n",
       "    </tr>\n",
       "    <tr>\n",
       "      <th>9</th>\n",
       "      <td>Liverpool</td>\n",
       "      <td>24</td>\n",
       "      <td>897</td>\n",
       "      <td>23.61</td>\n",
       "      <td>674</td>\n",
       "      <td>72</td>\n",
       "      <td>73</td>\n",
       "      <td>37</td>\n",
       "      <td>39</td>\n",
       "      <td>138</td>\n",
       "      <td>3.63</td>\n",
       "      <td>95</td>\n",
       "      <td>10</td>\n",
       "      <td>14</td>\n",
       "      <td>8</td>\n",
       "      <td>9</td>\n",
       "      <td>2</td>\n",
       "    </tr>\n",
       "    <tr>\n",
       "      <th>10</th>\n",
       "      <td>Manchester City</td>\n",
       "      <td>24</td>\n",
       "      <td>1212</td>\n",
       "      <td>31.89</td>\n",
       "      <td>939</td>\n",
       "      <td>63</td>\n",
       "      <td>94</td>\n",
       "      <td>62</td>\n",
       "      <td>54</td>\n",
       "      <td>162</td>\n",
       "      <td>4.26</td>\n",
       "      <td>116</td>\n",
       "      <td>6</td>\n",
       "      <td>14</td>\n",
       "      <td>12</td>\n",
       "      <td>14</td>\n",
       "      <td>0</td>\n",
       "    </tr>\n",
       "    <tr>\n",
       "      <th>11</th>\n",
       "      <td>Manchester Utd</td>\n",
       "      <td>29</td>\n",
       "      <td>896</td>\n",
       "      <td>23.58</td>\n",
       "      <td>701</td>\n",
       "      <td>53</td>\n",
       "      <td>56</td>\n",
       "      <td>27</td>\n",
       "      <td>57</td>\n",
       "      <td>102</td>\n",
       "      <td>2.68</td>\n",
       "      <td>76</td>\n",
       "      <td>4</td>\n",
       "      <td>8</td>\n",
       "      <td>1</td>\n",
       "      <td>11</td>\n",
       "      <td>2</td>\n",
       "    </tr>\n",
       "    <tr>\n",
       "      <th>12</th>\n",
       "      <td>Newcastle Utd</td>\n",
       "      <td>28</td>\n",
       "      <td>583</td>\n",
       "      <td>15.34</td>\n",
       "      <td>417</td>\n",
       "      <td>60</td>\n",
       "      <td>45</td>\n",
       "      <td>30</td>\n",
       "      <td>31</td>\n",
       "      <td>58</td>\n",
       "      <td>1.53</td>\n",
       "      <td>40</td>\n",
       "      <td>6</td>\n",
       "      <td>3</td>\n",
       "      <td>6</td>\n",
       "      <td>3</td>\n",
       "      <td>0</td>\n",
       "    </tr>\n",
       "    <tr>\n",
       "      <th>13</th>\n",
       "      <td>Norwich City</td>\n",
       "      <td>30</td>\n",
       "      <td>636</td>\n",
       "      <td>16.74</td>\n",
       "      <td>467</td>\n",
       "      <td>50</td>\n",
       "      <td>48</td>\n",
       "      <td>37</td>\n",
       "      <td>33</td>\n",
       "      <td>36</td>\n",
       "      <td>0.95</td>\n",
       "      <td>27</td>\n",
       "      <td>2</td>\n",
       "      <td>3</td>\n",
       "      <td>2</td>\n",
       "      <td>1</td>\n",
       "      <td>1</td>\n",
       "    </tr>\n",
       "    <tr>\n",
       "      <th>14</th>\n",
       "      <td>Sheffield Utd</td>\n",
       "      <td>26</td>\n",
       "      <td>545</td>\n",
       "      <td>14.34</td>\n",
       "      <td>402</td>\n",
       "      <td>61</td>\n",
       "      <td>34</td>\n",
       "      <td>28</td>\n",
       "      <td>17</td>\n",
       "      <td>59</td>\n",
       "      <td>1.55</td>\n",
       "      <td>42</td>\n",
       "      <td>2</td>\n",
       "      <td>5</td>\n",
       "      <td>6</td>\n",
       "      <td>1</td>\n",
       "      <td>3</td>\n",
       "    </tr>\n",
       "    <tr>\n",
       "      <th>15</th>\n",
       "      <td>Southampton</td>\n",
       "      <td>25</td>\n",
       "      <td>717</td>\n",
       "      <td>18.87</td>\n",
       "      <td>496</td>\n",
       "      <td>67</td>\n",
       "      <td>62</td>\n",
       "      <td>39</td>\n",
       "      <td>53</td>\n",
       "      <td>68</td>\n",
       "      <td>1.79</td>\n",
       "      <td>38</td>\n",
       "      <td>4</td>\n",
       "      <td>10</td>\n",
       "      <td>8</td>\n",
       "      <td>8</td>\n",
       "      <td>0</td>\n",
       "    </tr>\n",
       "    <tr>\n",
       "      <th>16</th>\n",
       "      <td>Tottenham</td>\n",
       "      <td>29</td>\n",
       "      <td>694</td>\n",
       "      <td>18.26</td>\n",
       "      <td>530</td>\n",
       "      <td>42</td>\n",
       "      <td>54</td>\n",
       "      <td>31</td>\n",
       "      <td>35</td>\n",
       "      <td>87</td>\n",
       "      <td>2.29</td>\n",
       "      <td>55</td>\n",
       "      <td>3</td>\n",
       "      <td>12</td>\n",
       "      <td>12</td>\n",
       "      <td>3</td>\n",
       "      <td>2</td>\n",
       "    </tr>\n",
       "    <tr>\n",
       "      <th>17</th>\n",
       "      <td>Watford</td>\n",
       "      <td>26</td>\n",
       "      <td>618</td>\n",
       "      <td>16.26</td>\n",
       "      <td>445</td>\n",
       "      <td>54</td>\n",
       "      <td>42</td>\n",
       "      <td>35</td>\n",
       "      <td>42</td>\n",
       "      <td>48</td>\n",
       "      <td>1.26</td>\n",
       "      <td>30</td>\n",
       "      <td>4</td>\n",
       "      <td>2</td>\n",
       "      <td>4</td>\n",
       "      <td>8</td>\n",
       "      <td>0</td>\n",
       "    </tr>\n",
       "    <tr>\n",
       "      <th>18</th>\n",
       "      <td>West Ham</td>\n",
       "      <td>29</td>\n",
       "      <td>653</td>\n",
       "      <td>17.18</td>\n",
       "      <td>471</td>\n",
       "      <td>73</td>\n",
       "      <td>40</td>\n",
       "      <td>28</td>\n",
       "      <td>41</td>\n",
       "      <td>82</td>\n",
       "      <td>2.16</td>\n",
       "      <td>54</td>\n",
       "      <td>7</td>\n",
       "      <td>6</td>\n",
       "      <td>6</td>\n",
       "      <td>9</td>\n",
       "      <td>0</td>\n",
       "    </tr>\n",
       "    <tr>\n",
       "      <th>19</th>\n",
       "      <td>Wolves</td>\n",
       "      <td>21</td>\n",
       "      <td>686</td>\n",
       "      <td>18.05</td>\n",
       "      <td>477</td>\n",
       "      <td>63</td>\n",
       "      <td>70</td>\n",
       "      <td>32</td>\n",
       "      <td>42</td>\n",
       "      <td>82</td>\n",
       "      <td>2.16</td>\n",
       "      <td>48</td>\n",
       "      <td>8</td>\n",
       "      <td>8</td>\n",
       "      <td>8</td>\n",
       "      <td>8</td>\n",
       "      <td>2</td>\n",
       "    </tr>\n",
       "  </tbody>\n",
       "</table>\n",
       "</div>"
      ],
      "text/plain": [
       "              Squad  # Pl   SCA  SCA90  PassLive  PassDead  Drib  Sh  Fld  \\\n",
       "0           Arsenal    29   615  16.18       435        57    51  36   36   \n",
       "1       Aston Villa    28   747  19.66       549        80    36  27   54   \n",
       "2       Bournemouth    27   562  14.79       393        66    32  30   40   \n",
       "3          Brighton    25   694  18.26       512        69    42  35   32   \n",
       "4           Burnley    22   556  14.63       393        66    25  36   35   \n",
       "5           Chelsea    27   978  25.74       739        86    53  46   54   \n",
       "6    Crystal Palace    25   520  13.68       341        64    50  22   41   \n",
       "7           Everton    24   685  18.03       457        83    46  54   43   \n",
       "8    Leicester City    24   860  22.63       625        77    64  40   52   \n",
       "9         Liverpool    24   897  23.61       674        72    73  37   39   \n",
       "10  Manchester City    24  1212  31.89       939        63    94  62   54   \n",
       "11   Manchester Utd    29   896  23.58       701        53    56  27   57   \n",
       "12    Newcastle Utd    28   583  15.34       417        60    45  30   31   \n",
       "13     Norwich City    30   636  16.74       467        50    48  37   33   \n",
       "14    Sheffield Utd    26   545  14.34       402        61    34  28   17   \n",
       "15      Southampton    25   717  18.87       496        67    62  39   53   \n",
       "16        Tottenham    29   694  18.26       530        42    54  31   35   \n",
       "17          Watford    26   618  16.26       445        54    42  35   42   \n",
       "18         West Ham    29   653  17.18       471        73    40  28   41   \n",
       "19           Wolves    21   686  18.05       477        63    70  32   42   \n",
       "\n",
       "    GCA  GCA90  PassLive.1  PassDead.1  Drib.1  Sh.1  Fld.1  OG  \n",
       "0    78   2.05          57           4       4     9      4   0  \n",
       "1    67   1.76          46           7       5     4      4   1  \n",
       "2    59   1.55          32           4       5    10      7   1  \n",
       "3    63   1.66          39           8       5     2      5   4  \n",
       "4    62   1.63          43           8       3     5      2   1  \n",
       "5   108   2.84          76           6       8     8     10   0  \n",
       "6    54   1.42          35           4       5     2      6   2  \n",
       "7    65   1.71          43           5       5     8      2   2  \n",
       "8   110   2.89          87           5       7     2      7   2  \n",
       "9   138   3.63          95          10      14     8      9   2  \n",
       "10  162   4.26         116           6      14    12     14   0  \n",
       "11  102   2.68          76           4       8     1     11   2  \n",
       "12   58   1.53          40           6       3     6      3   0  \n",
       "13   36   0.95          27           2       3     2      1   1  \n",
       "14   59   1.55          42           2       5     6      1   3  \n",
       "15   68   1.79          38           4      10     8      8   0  \n",
       "16   87   2.29          55           3      12    12      3   2  \n",
       "17   48   1.26          30           4       2     4      8   0  \n",
       "18   82   2.16          54           7       6     6      9   0  \n",
       "19   82   2.16          48           8       8     8      8   2  "
      ]
     },
     "execution_count": 239,
     "metadata": {},
     "output_type": "execute_result"
    }
   ],
   "source": [
    "df"
   ]
  },
  {
   "cell_type": "code",
   "execution_count": 240,
   "metadata": {},
   "outputs": [],
   "source": [
    "df.columns = [\"Team\",\"# of Players\",\"Shot Creating Actions\",\"Shot Creating Actions p90\",\n",
    "                \"Live-ball pass\",\"Dead-ball pass\",\"Dribbles\",\"Shot\",\"Fouls drawn\",\n",
    "                \"Goal Creating Actions\", \"Goal Creating Actions p90\",\n",
    "                \"Goal Live-ball pass\",\"Goal Dead-ball pass\",\"Goal Dribbles\",\"Goal Shots\",\"Goal Fouls drawn\",\"Own Goal\"]"
   ]
  },
  {
   "cell_type": "code",
   "execution_count": 241,
   "metadata": {},
   "outputs": [
    {
     "data": {
      "text/html": [
       "<div>\n",
       "<style scoped>\n",
       "    .dataframe tbody tr th:only-of-type {\n",
       "        vertical-align: middle;\n",
       "    }\n",
       "\n",
       "    .dataframe tbody tr th {\n",
       "        vertical-align: top;\n",
       "    }\n",
       "\n",
       "    .dataframe thead th {\n",
       "        text-align: right;\n",
       "    }\n",
       "</style>\n",
       "<table border=\"1\" class=\"dataframe\">\n",
       "  <thead>\n",
       "    <tr style=\"text-align: right;\">\n",
       "      <th></th>\n",
       "      <th>Team</th>\n",
       "      <th># of Players</th>\n",
       "      <th>Shot Creating Actions</th>\n",
       "      <th>Shot Creating Actions p90</th>\n",
       "      <th>Live-ball pass</th>\n",
       "      <th>Dead-ball pass</th>\n",
       "      <th>Dribbles</th>\n",
       "      <th>Shot</th>\n",
       "      <th>Fouls drawn</th>\n",
       "      <th>Goal Creating Actions</th>\n",
       "      <th>Goal Creating Actions p90</th>\n",
       "      <th>Goal Live-ball pass</th>\n",
       "      <th>Goal Dead-ball pass</th>\n",
       "      <th>Goal Dribbles</th>\n",
       "      <th>Goal Shots</th>\n",
       "      <th>Goal Fouls drawn</th>\n",
       "      <th>Own Goal</th>\n",
       "    </tr>\n",
       "  </thead>\n",
       "  <tbody>\n",
       "    <tr>\n",
       "      <th>0</th>\n",
       "      <td>Arsenal</td>\n",
       "      <td>29</td>\n",
       "      <td>615</td>\n",
       "      <td>16.18</td>\n",
       "      <td>435</td>\n",
       "      <td>57</td>\n",
       "      <td>51</td>\n",
       "      <td>36</td>\n",
       "      <td>36</td>\n",
       "      <td>78</td>\n",
       "      <td>2.05</td>\n",
       "      <td>57</td>\n",
       "      <td>4</td>\n",
       "      <td>4</td>\n",
       "      <td>9</td>\n",
       "      <td>4</td>\n",
       "      <td>0</td>\n",
       "    </tr>\n",
       "    <tr>\n",
       "      <th>1</th>\n",
       "      <td>Aston Villa</td>\n",
       "      <td>28</td>\n",
       "      <td>747</td>\n",
       "      <td>19.66</td>\n",
       "      <td>549</td>\n",
       "      <td>80</td>\n",
       "      <td>36</td>\n",
       "      <td>27</td>\n",
       "      <td>54</td>\n",
       "      <td>67</td>\n",
       "      <td>1.76</td>\n",
       "      <td>46</td>\n",
       "      <td>7</td>\n",
       "      <td>5</td>\n",
       "      <td>4</td>\n",
       "      <td>4</td>\n",
       "      <td>1</td>\n",
       "    </tr>\n",
       "    <tr>\n",
       "      <th>2</th>\n",
       "      <td>Bournemouth</td>\n",
       "      <td>27</td>\n",
       "      <td>562</td>\n",
       "      <td>14.79</td>\n",
       "      <td>393</td>\n",
       "      <td>66</td>\n",
       "      <td>32</td>\n",
       "      <td>30</td>\n",
       "      <td>40</td>\n",
       "      <td>59</td>\n",
       "      <td>1.55</td>\n",
       "      <td>32</td>\n",
       "      <td>4</td>\n",
       "      <td>5</td>\n",
       "      <td>10</td>\n",
       "      <td>7</td>\n",
       "      <td>1</td>\n",
       "    </tr>\n",
       "    <tr>\n",
       "      <th>3</th>\n",
       "      <td>Brighton</td>\n",
       "      <td>25</td>\n",
       "      <td>694</td>\n",
       "      <td>18.26</td>\n",
       "      <td>512</td>\n",
       "      <td>69</td>\n",
       "      <td>42</td>\n",
       "      <td>35</td>\n",
       "      <td>32</td>\n",
       "      <td>63</td>\n",
       "      <td>1.66</td>\n",
       "      <td>39</td>\n",
       "      <td>8</td>\n",
       "      <td>5</td>\n",
       "      <td>2</td>\n",
       "      <td>5</td>\n",
       "      <td>4</td>\n",
       "    </tr>\n",
       "    <tr>\n",
       "      <th>4</th>\n",
       "      <td>Burnley</td>\n",
       "      <td>22</td>\n",
       "      <td>556</td>\n",
       "      <td>14.63</td>\n",
       "      <td>393</td>\n",
       "      <td>66</td>\n",
       "      <td>25</td>\n",
       "      <td>36</td>\n",
       "      <td>35</td>\n",
       "      <td>62</td>\n",
       "      <td>1.63</td>\n",
       "      <td>43</td>\n",
       "      <td>8</td>\n",
       "      <td>3</td>\n",
       "      <td>5</td>\n",
       "      <td>2</td>\n",
       "      <td>1</td>\n",
       "    </tr>\n",
       "  </tbody>\n",
       "</table>\n",
       "</div>"
      ],
      "text/plain": [
       "          Team  # of Players  Shot Creating Actions  \\\n",
       "0      Arsenal            29                    615   \n",
       "1  Aston Villa            28                    747   \n",
       "2  Bournemouth            27                    562   \n",
       "3     Brighton            25                    694   \n",
       "4      Burnley            22                    556   \n",
       "\n",
       "   Shot Creating Actions p90  Live-ball pass  Dead-ball pass  Dribbles  Shot  \\\n",
       "0                      16.18             435              57        51    36   \n",
       "1                      19.66             549              80        36    27   \n",
       "2                      14.79             393              66        32    30   \n",
       "3                      18.26             512              69        42    35   \n",
       "4                      14.63             393              66        25    36   \n",
       "\n",
       "   Fouls drawn  Goal Creating Actions  Goal Creating Actions p90  \\\n",
       "0           36                     78                       2.05   \n",
       "1           54                     67                       1.76   \n",
       "2           40                     59                       1.55   \n",
       "3           32                     63                       1.66   \n",
       "4           35                     62                       1.63   \n",
       "\n",
       "   Goal Live-ball pass  Goal Dead-ball pass  Goal Dribbles  Goal Shots  \\\n",
       "0                   57                    4              4           9   \n",
       "1                   46                    7              5           4   \n",
       "2                   32                    4              5          10   \n",
       "3                   39                    8              5           2   \n",
       "4                   43                    8              3           5   \n",
       "\n",
       "   Goal Fouls drawn  Own Goal  \n",
       "0                 4         0  \n",
       "1                 4         1  \n",
       "2                 7         1  \n",
       "3                 5         4  \n",
       "4                 2         1  "
      ]
     },
     "execution_count": 241,
     "metadata": {},
     "output_type": "execute_result"
    }
   ],
   "source": [
    "df.head()"
   ]
  },
  {
   "cell_type": "code",
   "execution_count": 242,
   "metadata": {},
   "outputs": [
    {
     "data": {
      "text/plain": [
       "20"
      ]
     },
     "execution_count": 242,
     "metadata": {},
     "output_type": "execute_result"
    }
   ],
   "source": [
    "len(df)"
   ]
  },
  {
   "cell_type": "code",
   "execution_count": 243,
   "metadata": {},
   "outputs": [
    {
     "data": {
      "text/html": [
       "<div>\n",
       "<style scoped>\n",
       "    .dataframe tbody tr th:only-of-type {\n",
       "        vertical-align: middle;\n",
       "    }\n",
       "\n",
       "    .dataframe tbody tr th {\n",
       "        vertical-align: top;\n",
       "    }\n",
       "\n",
       "    .dataframe thead th {\n",
       "        text-align: right;\n",
       "    }\n",
       "</style>\n",
       "<table border=\"1\" class=\"dataframe\">\n",
       "  <thead>\n",
       "    <tr style=\"text-align: right;\">\n",
       "      <th></th>\n",
       "      <th># of Players</th>\n",
       "      <th>Shot Creating Actions</th>\n",
       "      <th>Shot Creating Actions p90</th>\n",
       "      <th>Live-ball pass</th>\n",
       "      <th>Dead-ball pass</th>\n",
       "      <th>Dribbles</th>\n",
       "      <th>Shot</th>\n",
       "      <th>Fouls drawn</th>\n",
       "      <th>Goal Creating Actions</th>\n",
       "      <th>Goal Creating Actions p90</th>\n",
       "      <th>Goal Live-ball pass</th>\n",
       "      <th>Goal Dead-ball pass</th>\n",
       "      <th>Goal Dribbles</th>\n",
       "      <th>Goal Shots</th>\n",
       "      <th>Goal Fouls drawn</th>\n",
       "      <th>Own Goal</th>\n",
       "    </tr>\n",
       "  </thead>\n",
       "  <tbody>\n",
       "    <tr>\n",
       "      <th>count</th>\n",
       "      <td>20.000000</td>\n",
       "      <td>20.00000</td>\n",
       "      <td>20.000000</td>\n",
       "      <td>20.000000</td>\n",
       "      <td>20.000000</td>\n",
       "      <td>20.00000</td>\n",
       "      <td>20.000000</td>\n",
       "      <td>20.000000</td>\n",
       "      <td>20.000000</td>\n",
       "      <td>20.000000</td>\n",
       "      <td>20.000000</td>\n",
       "      <td>20.000000</td>\n",
       "      <td>20.000000</td>\n",
       "      <td>20.000000</td>\n",
       "      <td>20.000000</td>\n",
       "      <td>20.000000</td>\n",
       "    </tr>\n",
       "    <tr>\n",
       "      <th>mean</th>\n",
       "      <td>26.100000</td>\n",
       "      <td>717.70000</td>\n",
       "      <td>18.886000</td>\n",
       "      <td>523.150000</td>\n",
       "      <td>65.300000</td>\n",
       "      <td>50.85000</td>\n",
       "      <td>35.600000</td>\n",
       "      <td>41.550000</td>\n",
       "      <td>79.400000</td>\n",
       "      <td>2.088500</td>\n",
       "      <td>53.950000</td>\n",
       "      <td>5.350000</td>\n",
       "      <td>6.600000</td>\n",
       "      <td>6.150000</td>\n",
       "      <td>6.100000</td>\n",
       "      <td>1.250000</td>\n",
       "    </tr>\n",
       "    <tr>\n",
       "      <th>std</th>\n",
       "      <td>2.531902</td>\n",
       "      <td>173.07227</td>\n",
       "      <td>4.555106</td>\n",
       "      <td>146.020285</td>\n",
       "      <td>11.239498</td>\n",
       "      <td>16.10255</td>\n",
       "      <td>9.527799</td>\n",
       "      <td>10.133192</td>\n",
       "      <td>31.172525</td>\n",
       "      <td>0.819385</td>\n",
       "      <td>23.957144</td>\n",
       "      <td>2.158825</td>\n",
       "      <td>3.545197</td>\n",
       "      <td>3.360373</td>\n",
       "      <td>3.596782</td>\n",
       "      <td>1.164158</td>\n",
       "    </tr>\n",
       "    <tr>\n",
       "      <th>min</th>\n",
       "      <td>21.000000</td>\n",
       "      <td>520.00000</td>\n",
       "      <td>13.680000</td>\n",
       "      <td>341.000000</td>\n",
       "      <td>42.000000</td>\n",
       "      <td>25.00000</td>\n",
       "      <td>22.000000</td>\n",
       "      <td>17.000000</td>\n",
       "      <td>36.000000</td>\n",
       "      <td>0.950000</td>\n",
       "      <td>27.000000</td>\n",
       "      <td>2.000000</td>\n",
       "      <td>2.000000</td>\n",
       "      <td>1.000000</td>\n",
       "      <td>1.000000</td>\n",
       "      <td>0.000000</td>\n",
       "    </tr>\n",
       "    <tr>\n",
       "      <th>25%</th>\n",
       "      <td>24.000000</td>\n",
       "      <td>607.00000</td>\n",
       "      <td>15.970000</td>\n",
       "      <td>430.500000</td>\n",
       "      <td>59.250000</td>\n",
       "      <td>41.50000</td>\n",
       "      <td>29.500000</td>\n",
       "      <td>35.000000</td>\n",
       "      <td>59.000000</td>\n",
       "      <td>1.550000</td>\n",
       "      <td>38.750000</td>\n",
       "      <td>4.000000</td>\n",
       "      <td>4.750000</td>\n",
       "      <td>3.500000</td>\n",
       "      <td>3.000000</td>\n",
       "      <td>0.000000</td>\n",
       "    </tr>\n",
       "    <tr>\n",
       "      <th>50%</th>\n",
       "      <td>26.000000</td>\n",
       "      <td>685.50000</td>\n",
       "      <td>18.040000</td>\n",
       "      <td>474.000000</td>\n",
       "      <td>65.000000</td>\n",
       "      <td>49.00000</td>\n",
       "      <td>35.000000</td>\n",
       "      <td>41.000000</td>\n",
       "      <td>67.500000</td>\n",
       "      <td>1.775000</td>\n",
       "      <td>44.500000</td>\n",
       "      <td>5.000000</td>\n",
       "      <td>5.000000</td>\n",
       "      <td>6.000000</td>\n",
       "      <td>6.500000</td>\n",
       "      <td>1.000000</td>\n",
       "    </tr>\n",
       "    <tr>\n",
       "      <th>75%</th>\n",
       "      <td>28.250000</td>\n",
       "      <td>775.25000</td>\n",
       "      <td>20.402500</td>\n",
       "      <td>568.000000</td>\n",
       "      <td>72.250000</td>\n",
       "      <td>57.50000</td>\n",
       "      <td>37.500000</td>\n",
       "      <td>52.250000</td>\n",
       "      <td>90.750000</td>\n",
       "      <td>2.387500</td>\n",
       "      <td>61.750000</td>\n",
       "      <td>7.000000</td>\n",
       "      <td>8.000000</td>\n",
       "      <td>8.000000</td>\n",
       "      <td>8.250000</td>\n",
       "      <td>2.000000</td>\n",
       "    </tr>\n",
       "    <tr>\n",
       "      <th>max</th>\n",
       "      <td>30.000000</td>\n",
       "      <td>1212.00000</td>\n",
       "      <td>31.890000</td>\n",
       "      <td>939.000000</td>\n",
       "      <td>86.000000</td>\n",
       "      <td>94.00000</td>\n",
       "      <td>62.000000</td>\n",
       "      <td>57.000000</td>\n",
       "      <td>162.000000</td>\n",
       "      <td>4.260000</td>\n",
       "      <td>116.000000</td>\n",
       "      <td>10.000000</td>\n",
       "      <td>14.000000</td>\n",
       "      <td>12.000000</td>\n",
       "      <td>14.000000</td>\n",
       "      <td>4.000000</td>\n",
       "    </tr>\n",
       "  </tbody>\n",
       "</table>\n",
       "</div>"
      ],
      "text/plain": [
       "       # of Players  Shot Creating Actions  Shot Creating Actions p90  \\\n",
       "count     20.000000               20.00000                  20.000000   \n",
       "mean      26.100000              717.70000                  18.886000   \n",
       "std        2.531902              173.07227                   4.555106   \n",
       "min       21.000000              520.00000                  13.680000   \n",
       "25%       24.000000              607.00000                  15.970000   \n",
       "50%       26.000000              685.50000                  18.040000   \n",
       "75%       28.250000              775.25000                  20.402500   \n",
       "max       30.000000             1212.00000                  31.890000   \n",
       "\n",
       "       Live-ball pass  Dead-ball pass  Dribbles       Shot  Fouls drawn  \\\n",
       "count       20.000000       20.000000  20.00000  20.000000    20.000000   \n",
       "mean       523.150000       65.300000  50.85000  35.600000    41.550000   \n",
       "std        146.020285       11.239498  16.10255   9.527799    10.133192   \n",
       "min        341.000000       42.000000  25.00000  22.000000    17.000000   \n",
       "25%        430.500000       59.250000  41.50000  29.500000    35.000000   \n",
       "50%        474.000000       65.000000  49.00000  35.000000    41.000000   \n",
       "75%        568.000000       72.250000  57.50000  37.500000    52.250000   \n",
       "max        939.000000       86.000000  94.00000  62.000000    57.000000   \n",
       "\n",
       "       Goal Creating Actions  Goal Creating Actions p90  Goal Live-ball pass  \\\n",
       "count              20.000000                  20.000000            20.000000   \n",
       "mean               79.400000                   2.088500            53.950000   \n",
       "std                31.172525                   0.819385            23.957144   \n",
       "min                36.000000                   0.950000            27.000000   \n",
       "25%                59.000000                   1.550000            38.750000   \n",
       "50%                67.500000                   1.775000            44.500000   \n",
       "75%                90.750000                   2.387500            61.750000   \n",
       "max               162.000000                   4.260000           116.000000   \n",
       "\n",
       "       Goal Dead-ball pass  Goal Dribbles  Goal Shots  Goal Fouls drawn  \\\n",
       "count            20.000000      20.000000   20.000000         20.000000   \n",
       "mean              5.350000       6.600000    6.150000          6.100000   \n",
       "std               2.158825       3.545197    3.360373          3.596782   \n",
       "min               2.000000       2.000000    1.000000          1.000000   \n",
       "25%               4.000000       4.750000    3.500000          3.000000   \n",
       "50%               5.000000       5.000000    6.000000          6.500000   \n",
       "75%               7.000000       8.000000    8.000000          8.250000   \n",
       "max              10.000000      14.000000   12.000000         14.000000   \n",
       "\n",
       "        Own Goal  \n",
       "count  20.000000  \n",
       "mean    1.250000  \n",
       "std     1.164158  \n",
       "min     0.000000  \n",
       "25%     0.000000  \n",
       "50%     1.000000  \n",
       "75%     2.000000  \n",
       "max     4.000000  "
      ]
     },
     "execution_count": 243,
     "metadata": {},
     "output_type": "execute_result"
    }
   ],
   "source": [
    "df.describe()"
   ]
  },
  {
   "cell_type": "code",
   "execution_count": 244,
   "metadata": {},
   "outputs": [
    {
     "data": {
      "text/plain": [
       "<pandas.core.groupby.generic.DataFrameGroupBy object at 0x7fce7d5086d0>"
      ]
     },
     "execution_count": 244,
     "metadata": {},
     "output_type": "execute_result"
    }
   ],
   "source": [
    "df.groupby(\"Goal Creating Actions\")"
   ]
  },
  {
   "cell_type": "code",
   "execution_count": 245,
   "metadata": {},
   "outputs": [],
   "source": [
    "groupTeam = df.groupby(\"Team\")"
   ]
  },
  {
   "cell_type": "code",
   "execution_count": 246,
   "metadata": {},
   "outputs": [
    {
     "data": {
      "text/html": [
       "<div>\n",
       "<style scoped>\n",
       "    .dataframe tbody tr th:only-of-type {\n",
       "        vertical-align: middle;\n",
       "    }\n",
       "\n",
       "    .dataframe tbody tr th {\n",
       "        vertical-align: top;\n",
       "    }\n",
       "\n",
       "    .dataframe thead th {\n",
       "        text-align: right;\n",
       "    }\n",
       "</style>\n",
       "<table border=\"1\" class=\"dataframe\">\n",
       "  <thead>\n",
       "    <tr style=\"text-align: right;\">\n",
       "      <th></th>\n",
       "      <th>count</th>\n",
       "      <th>mean</th>\n",
       "      <th>std</th>\n",
       "      <th>min</th>\n",
       "      <th>25%</th>\n",
       "      <th>50%</th>\n",
       "      <th>75%</th>\n",
       "      <th>max</th>\n",
       "    </tr>\n",
       "    <tr>\n",
       "      <th>Team</th>\n",
       "      <th></th>\n",
       "      <th></th>\n",
       "      <th></th>\n",
       "      <th></th>\n",
       "      <th></th>\n",
       "      <th></th>\n",
       "      <th></th>\n",
       "      <th></th>\n",
       "    </tr>\n",
       "  </thead>\n",
       "  <tbody>\n",
       "    <tr>\n",
       "      <th>Arsenal</th>\n",
       "      <td>1.0</td>\n",
       "      <td>615.0</td>\n",
       "      <td>NaN</td>\n",
       "      <td>615.0</td>\n",
       "      <td>615.0</td>\n",
       "      <td>615.0</td>\n",
       "      <td>615.0</td>\n",
       "      <td>615.0</td>\n",
       "    </tr>\n",
       "    <tr>\n",
       "      <th>Aston Villa</th>\n",
       "      <td>1.0</td>\n",
       "      <td>747.0</td>\n",
       "      <td>NaN</td>\n",
       "      <td>747.0</td>\n",
       "      <td>747.0</td>\n",
       "      <td>747.0</td>\n",
       "      <td>747.0</td>\n",
       "      <td>747.0</td>\n",
       "    </tr>\n",
       "    <tr>\n",
       "      <th>Bournemouth</th>\n",
       "      <td>1.0</td>\n",
       "      <td>562.0</td>\n",
       "      <td>NaN</td>\n",
       "      <td>562.0</td>\n",
       "      <td>562.0</td>\n",
       "      <td>562.0</td>\n",
       "      <td>562.0</td>\n",
       "      <td>562.0</td>\n",
       "    </tr>\n",
       "    <tr>\n",
       "      <th>Brighton</th>\n",
       "      <td>1.0</td>\n",
       "      <td>694.0</td>\n",
       "      <td>NaN</td>\n",
       "      <td>694.0</td>\n",
       "      <td>694.0</td>\n",
       "      <td>694.0</td>\n",
       "      <td>694.0</td>\n",
       "      <td>694.0</td>\n",
       "    </tr>\n",
       "    <tr>\n",
       "      <th>Burnley</th>\n",
       "      <td>1.0</td>\n",
       "      <td>556.0</td>\n",
       "      <td>NaN</td>\n",
       "      <td>556.0</td>\n",
       "      <td>556.0</td>\n",
       "      <td>556.0</td>\n",
       "      <td>556.0</td>\n",
       "      <td>556.0</td>\n",
       "    </tr>\n",
       "    <tr>\n",
       "      <th>Chelsea</th>\n",
       "      <td>1.0</td>\n",
       "      <td>978.0</td>\n",
       "      <td>NaN</td>\n",
       "      <td>978.0</td>\n",
       "      <td>978.0</td>\n",
       "      <td>978.0</td>\n",
       "      <td>978.0</td>\n",
       "      <td>978.0</td>\n",
       "    </tr>\n",
       "    <tr>\n",
       "      <th>Crystal Palace</th>\n",
       "      <td>1.0</td>\n",
       "      <td>520.0</td>\n",
       "      <td>NaN</td>\n",
       "      <td>520.0</td>\n",
       "      <td>520.0</td>\n",
       "      <td>520.0</td>\n",
       "      <td>520.0</td>\n",
       "      <td>520.0</td>\n",
       "    </tr>\n",
       "    <tr>\n",
       "      <th>Everton</th>\n",
       "      <td>1.0</td>\n",
       "      <td>685.0</td>\n",
       "      <td>NaN</td>\n",
       "      <td>685.0</td>\n",
       "      <td>685.0</td>\n",
       "      <td>685.0</td>\n",
       "      <td>685.0</td>\n",
       "      <td>685.0</td>\n",
       "    </tr>\n",
       "    <tr>\n",
       "      <th>Leicester City</th>\n",
       "      <td>1.0</td>\n",
       "      <td>860.0</td>\n",
       "      <td>NaN</td>\n",
       "      <td>860.0</td>\n",
       "      <td>860.0</td>\n",
       "      <td>860.0</td>\n",
       "      <td>860.0</td>\n",
       "      <td>860.0</td>\n",
       "    </tr>\n",
       "    <tr>\n",
       "      <th>Liverpool</th>\n",
       "      <td>1.0</td>\n",
       "      <td>897.0</td>\n",
       "      <td>NaN</td>\n",
       "      <td>897.0</td>\n",
       "      <td>897.0</td>\n",
       "      <td>897.0</td>\n",
       "      <td>897.0</td>\n",
       "      <td>897.0</td>\n",
       "    </tr>\n",
       "    <tr>\n",
       "      <th>Manchester City</th>\n",
       "      <td>1.0</td>\n",
       "      <td>1212.0</td>\n",
       "      <td>NaN</td>\n",
       "      <td>1212.0</td>\n",
       "      <td>1212.0</td>\n",
       "      <td>1212.0</td>\n",
       "      <td>1212.0</td>\n",
       "      <td>1212.0</td>\n",
       "    </tr>\n",
       "    <tr>\n",
       "      <th>Manchester Utd</th>\n",
       "      <td>1.0</td>\n",
       "      <td>896.0</td>\n",
       "      <td>NaN</td>\n",
       "      <td>896.0</td>\n",
       "      <td>896.0</td>\n",
       "      <td>896.0</td>\n",
       "      <td>896.0</td>\n",
       "      <td>896.0</td>\n",
       "    </tr>\n",
       "    <tr>\n",
       "      <th>Newcastle Utd</th>\n",
       "      <td>1.0</td>\n",
       "      <td>583.0</td>\n",
       "      <td>NaN</td>\n",
       "      <td>583.0</td>\n",
       "      <td>583.0</td>\n",
       "      <td>583.0</td>\n",
       "      <td>583.0</td>\n",
       "      <td>583.0</td>\n",
       "    </tr>\n",
       "    <tr>\n",
       "      <th>Norwich City</th>\n",
       "      <td>1.0</td>\n",
       "      <td>636.0</td>\n",
       "      <td>NaN</td>\n",
       "      <td>636.0</td>\n",
       "      <td>636.0</td>\n",
       "      <td>636.0</td>\n",
       "      <td>636.0</td>\n",
       "      <td>636.0</td>\n",
       "    </tr>\n",
       "    <tr>\n",
       "      <th>Sheffield Utd</th>\n",
       "      <td>1.0</td>\n",
       "      <td>545.0</td>\n",
       "      <td>NaN</td>\n",
       "      <td>545.0</td>\n",
       "      <td>545.0</td>\n",
       "      <td>545.0</td>\n",
       "      <td>545.0</td>\n",
       "      <td>545.0</td>\n",
       "    </tr>\n",
       "    <tr>\n",
       "      <th>Southampton</th>\n",
       "      <td>1.0</td>\n",
       "      <td>717.0</td>\n",
       "      <td>NaN</td>\n",
       "      <td>717.0</td>\n",
       "      <td>717.0</td>\n",
       "      <td>717.0</td>\n",
       "      <td>717.0</td>\n",
       "      <td>717.0</td>\n",
       "    </tr>\n",
       "    <tr>\n",
       "      <th>Tottenham</th>\n",
       "      <td>1.0</td>\n",
       "      <td>694.0</td>\n",
       "      <td>NaN</td>\n",
       "      <td>694.0</td>\n",
       "      <td>694.0</td>\n",
       "      <td>694.0</td>\n",
       "      <td>694.0</td>\n",
       "      <td>694.0</td>\n",
       "    </tr>\n",
       "    <tr>\n",
       "      <th>Watford</th>\n",
       "      <td>1.0</td>\n",
       "      <td>618.0</td>\n",
       "      <td>NaN</td>\n",
       "      <td>618.0</td>\n",
       "      <td>618.0</td>\n",
       "      <td>618.0</td>\n",
       "      <td>618.0</td>\n",
       "      <td>618.0</td>\n",
       "    </tr>\n",
       "    <tr>\n",
       "      <th>West Ham</th>\n",
       "      <td>1.0</td>\n",
       "      <td>653.0</td>\n",
       "      <td>NaN</td>\n",
       "      <td>653.0</td>\n",
       "      <td>653.0</td>\n",
       "      <td>653.0</td>\n",
       "      <td>653.0</td>\n",
       "      <td>653.0</td>\n",
       "    </tr>\n",
       "    <tr>\n",
       "      <th>Wolves</th>\n",
       "      <td>1.0</td>\n",
       "      <td>686.0</td>\n",
       "      <td>NaN</td>\n",
       "      <td>686.0</td>\n",
       "      <td>686.0</td>\n",
       "      <td>686.0</td>\n",
       "      <td>686.0</td>\n",
       "      <td>686.0</td>\n",
       "    </tr>\n",
       "  </tbody>\n",
       "</table>\n",
       "</div>"
      ],
      "text/plain": [
       "                 count    mean  std     min     25%     50%     75%     max\n",
       "Team                                                                       \n",
       "Arsenal            1.0   615.0  NaN   615.0   615.0   615.0   615.0   615.0\n",
       "Aston Villa        1.0   747.0  NaN   747.0   747.0   747.0   747.0   747.0\n",
       "Bournemouth        1.0   562.0  NaN   562.0   562.0   562.0   562.0   562.0\n",
       "Brighton           1.0   694.0  NaN   694.0   694.0   694.0   694.0   694.0\n",
       "Burnley            1.0   556.0  NaN   556.0   556.0   556.0   556.0   556.0\n",
       "Chelsea            1.0   978.0  NaN   978.0   978.0   978.0   978.0   978.0\n",
       "Crystal Palace     1.0   520.0  NaN   520.0   520.0   520.0   520.0   520.0\n",
       "Everton            1.0   685.0  NaN   685.0   685.0   685.0   685.0   685.0\n",
       "Leicester City     1.0   860.0  NaN   860.0   860.0   860.0   860.0   860.0\n",
       "Liverpool          1.0   897.0  NaN   897.0   897.0   897.0   897.0   897.0\n",
       "Manchester City    1.0  1212.0  NaN  1212.0  1212.0  1212.0  1212.0  1212.0\n",
       "Manchester Utd     1.0   896.0  NaN   896.0   896.0   896.0   896.0   896.0\n",
       "Newcastle Utd      1.0   583.0  NaN   583.0   583.0   583.0   583.0   583.0\n",
       "Norwich City       1.0   636.0  NaN   636.0   636.0   636.0   636.0   636.0\n",
       "Sheffield Utd      1.0   545.0  NaN   545.0   545.0   545.0   545.0   545.0\n",
       "Southampton        1.0   717.0  NaN   717.0   717.0   717.0   717.0   717.0\n",
       "Tottenham          1.0   694.0  NaN   694.0   694.0   694.0   694.0   694.0\n",
       "Watford            1.0   618.0  NaN   618.0   618.0   618.0   618.0   618.0\n",
       "West Ham           1.0   653.0  NaN   653.0   653.0   653.0   653.0   653.0\n",
       "Wolves             1.0   686.0  NaN   686.0   686.0   686.0   686.0   686.0"
      ]
     },
     "execution_count": 246,
     "metadata": {},
     "output_type": "execute_result"
    }
   ],
   "source": [
    "groupTeam.describe()[\"Shot Creating Actions\"]"
   ]
  },
  {
   "cell_type": "code",
   "execution_count": 247,
   "metadata": {},
   "outputs": [
    {
     "data": {
      "text/html": [
       "<div>\n",
       "<style scoped>\n",
       "    .dataframe tbody tr th:only-of-type {\n",
       "        vertical-align: middle;\n",
       "    }\n",
       "\n",
       "    .dataframe tbody tr th {\n",
       "        vertical-align: top;\n",
       "    }\n",
       "\n",
       "    .dataframe thead th {\n",
       "        text-align: right;\n",
       "    }\n",
       "</style>\n",
       "<table border=\"1\" class=\"dataframe\">\n",
       "  <thead>\n",
       "    <tr style=\"text-align: right;\">\n",
       "      <th></th>\n",
       "      <th>Team</th>\n",
       "      <th># of Players</th>\n",
       "      <th>Shot Creating Actions</th>\n",
       "      <th>Shot Creating Actions p90</th>\n",
       "      <th>Live-ball pass</th>\n",
       "      <th>Dead-ball pass</th>\n",
       "      <th>Dribbles</th>\n",
       "      <th>Shot</th>\n",
       "      <th>Fouls drawn</th>\n",
       "      <th>Goal Creating Actions</th>\n",
       "      <th>Goal Creating Actions p90</th>\n",
       "      <th>Goal Live-ball pass</th>\n",
       "      <th>Goal Dead-ball pass</th>\n",
       "      <th>Goal Dribbles</th>\n",
       "      <th>Goal Shots</th>\n",
       "      <th>Goal Fouls drawn</th>\n",
       "      <th>Own Goal</th>\n",
       "    </tr>\n",
       "  </thead>\n",
       "  <tbody>\n",
       "    <tr>\n",
       "      <th>19</th>\n",
       "      <td>Wolves</td>\n",
       "      <td>21</td>\n",
       "      <td>686</td>\n",
       "      <td>18.05</td>\n",
       "      <td>477</td>\n",
       "      <td>63</td>\n",
       "      <td>70</td>\n",
       "      <td>32</td>\n",
       "      <td>42</td>\n",
       "      <td>82</td>\n",
       "      <td>2.16</td>\n",
       "      <td>48</td>\n",
       "      <td>8</td>\n",
       "      <td>8</td>\n",
       "      <td>8</td>\n",
       "      <td>8</td>\n",
       "      <td>2</td>\n",
       "    </tr>\n",
       "  </tbody>\n",
       "</table>\n",
       "</div>"
      ],
      "text/plain": [
       "      Team  # of Players  Shot Creating Actions  Shot Creating Actions p90  \\\n",
       "19  Wolves            21                    686                      18.05   \n",
       "\n",
       "    Live-ball pass  Dead-ball pass  Dribbles  Shot  Fouls drawn  \\\n",
       "19             477              63        70    32           42   \n",
       "\n",
       "    Goal Creating Actions  Goal Creating Actions p90  Goal Live-ball pass  \\\n",
       "19                     82                       2.16                   48   \n",
       "\n",
       "    Goal Dead-ball pass  Goal Dribbles  Goal Shots  Goal Fouls drawn  Own Goal  \n",
       "19                    8              8           8                 8         2  "
      ]
     },
     "execution_count": 247,
     "metadata": {},
     "output_type": "execute_result"
    }
   ],
   "source": [
    "df[df[\"# of Players\"]== 21]"
   ]
  },
  {
   "cell_type": "code",
   "execution_count": 248,
   "metadata": {},
   "outputs": [],
   "source": [
    "import numpy as np"
   ]
  },
  {
   "cell_type": "code",
   "execution_count": 249,
   "metadata": {},
   "outputs": [],
   "source": [
    "WCyears = np.arange(1930,2022,4)"
   ]
  },
  {
   "cell_type": "code",
   "execution_count": 250,
   "metadata": {},
   "outputs": [
    {
     "data": {
      "text/plain": [
       "array([1930, 1934, 1938, 1942, 1946, 1950, 1954, 1958, 1962, 1966, 1970,\n",
       "       1974, 1978, 1982, 1986, 1990, 1994, 1998, 2002, 2006, 2010, 2014,\n",
       "       2018])"
      ]
     },
     "execution_count": 250,
     "metadata": {},
     "output_type": "execute_result"
    }
   ],
   "source": [
    "WCyears"
   ]
  },
  {
   "cell_type": "code",
   "execution_count": 251,
   "metadata": {},
   "outputs": [],
   "source": [
    "WCyears= np.delete(WCyears,(3,4))"
   ]
  },
  {
   "cell_type": "code",
   "execution_count": 252,
   "metadata": {},
   "outputs": [
    {
     "data": {
      "text/plain": [
       "array([1930, 1934, 1938, 1950, 1954, 1958, 1962, 1966, 1970, 1974, 1978,\n",
       "       1982, 1986, 1990, 1994, 1998, 2002, 2006, 2010, 2014, 2018])"
      ]
     },
     "execution_count": 252,
     "metadata": {},
     "output_type": "execute_result"
    }
   ],
   "source": [
    "WCyears"
   ]
  },
  {
   "cell_type": "code",
   "execution_count": 253,
   "metadata": {},
   "outputs": [
    {
     "data": {
      "text/plain": [
       "array([1950, 1954, 1958, 1962, 1966, 1970])"
      ]
     },
     "execution_count": 253,
     "metadata": {},
     "output_type": "execute_result"
    }
   ],
   "source": [
    "WCyears[3:9]"
   ]
  },
  {
   "cell_type": "code",
   "execution_count": 254,
   "metadata": {},
   "outputs": [],
   "source": [
    "WCyears = [2002,2006,2010,2014,2018]\n",
    "WChosts = [\"Japan\",\"Germany\",\"South Africa\",\"Brazil\",\"Russia\"]\n",
    "WCwinners = [\"Brazil\",\"Italy\",\"Spain\", \"Germany\", \"France\"]\n",
    "WCArray = np.array((WCyears,WChosts, WCwinners))"
   ]
  },
  {
   "cell_type": "code",
   "execution_count": 255,
   "metadata": {},
   "outputs": [
    {
     "data": {
      "text/plain": [
       "array([['2002', '2006', '2010', '2014', '2018'],\n",
       "       ['Japan', 'Germany', 'South Africa', 'Brazil', 'Russia'],\n",
       "       ['Brazil', 'Italy', 'Spain', 'Germany', 'France']], dtype='<U21')"
      ]
     },
     "execution_count": 255,
     "metadata": {},
     "output_type": "execute_result"
    }
   ],
   "source": [
    "WCArray"
   ]
  },
  {
   "cell_type": "code",
   "execution_count": 256,
   "metadata": {},
   "outputs": [
    {
     "data": {
      "text/plain": [
       "'Germany'"
      ]
     },
     "execution_count": 256,
     "metadata": {},
     "output_type": "execute_result"
    }
   ],
   "source": [
    "WCArray[2,3]"
   ]
  },
  {
   "cell_type": "code",
   "execution_count": 257,
   "metadata": {},
   "outputs": [],
   "source": [
    "WCYears = np.arange(2002,2019,4)\n",
    "WCtopscorers = np.array([\"Ronaldo\",\"Klose\",\"Muller\",\"Rodriguez\",\"Kane\"])\n",
    "WCgoals = np.array([8,6,5,6,6])"
   ]
  },
  {
   "cell_type": "code",
   "execution_count": 258,
   "metadata": {},
   "outputs": [
    {
     "data": {
      "text/plain": [
       "array([ True, False, False, False, False])"
      ]
     },
     "execution_count": 258,
     "metadata": {},
     "output_type": "execute_result"
    }
   ],
   "source": [
    "WCgoals > 7"
   ]
  },
  {
   "cell_type": "code",
   "execution_count": 259,
   "metadata": {},
   "outputs": [
    {
     "data": {
      "text/plain": [
       "array(['Ronaldo'], dtype='<U9')"
      ]
     },
     "execution_count": 259,
     "metadata": {},
     "output_type": "execute_result"
    }
   ],
   "source": [
    "WCtopscorers[(WCgoals>6)]"
   ]
  },
  {
   "cell_type": "code",
   "execution_count": 260,
   "metadata": {},
   "outputs": [],
   "source": [
    "import matplotlib.pyplot as plt"
   ]
  },
  {
   "cell_type": "code",
   "execution_count": 261,
   "metadata": {},
   "outputs": [],
   "source": [
    "%matplotlib inline"
   ]
  },
  {
   "cell_type": "code",
   "execution_count": 262,
   "metadata": {},
   "outputs": [],
   "source": [
    "table = pd.read_csv(\"1920leaguetable.csv\")"
   ]
  },
  {
   "cell_type": "code",
   "execution_count": 263,
   "metadata": {},
   "outputs": [
    {
     "data": {
      "text/html": [
       "<div>\n",
       "<style scoped>\n",
       "    .dataframe tbody tr th:only-of-type {\n",
       "        vertical-align: middle;\n",
       "    }\n",
       "\n",
       "    .dataframe tbody tr th {\n",
       "        vertical-align: top;\n",
       "    }\n",
       "\n",
       "    .dataframe thead th {\n",
       "        text-align: right;\n",
       "    }\n",
       "</style>\n",
       "<table border=\"1\" class=\"dataframe\">\n",
       "  <thead>\n",
       "    <tr style=\"text-align: right;\">\n",
       "      <th></th>\n",
       "      <th>Rk</th>\n",
       "      <th>Squad</th>\n",
       "      <th>MP</th>\n",
       "      <th>W</th>\n",
       "      <th>D</th>\n",
       "      <th>L</th>\n",
       "      <th>GF</th>\n",
       "      <th>GA</th>\n",
       "      <th>GDiff</th>\n",
       "      <th>Pts</th>\n",
       "      <th>xG</th>\n",
       "      <th>xGA</th>\n",
       "      <th>xGDiff</th>\n",
       "      <th>xGDiff/90</th>\n",
       "      <th>Attendance</th>\n",
       "      <th>Top Team Scorer</th>\n",
       "      <th>Goalkeeper</th>\n",
       "      <th>Notes</th>\n",
       "      <th>Kit</th>\n",
       "    </tr>\n",
       "  </thead>\n",
       "  <tbody>\n",
       "    <tr>\n",
       "      <th>15</th>\n",
       "      <td>16</td>\n",
       "      <td>West Ham</td>\n",
       "      <td>38</td>\n",
       "      <td>10</td>\n",
       "      <td>9</td>\n",
       "      <td>19</td>\n",
       "      <td>49</td>\n",
       "      <td>62</td>\n",
       "      <td>-13</td>\n",
       "      <td>39</td>\n",
       "      <td>46.0</td>\n",
       "      <td>61.9</td>\n",
       "      <td>-15.8</td>\n",
       "      <td>-0.42</td>\n",
       "      <td>44155</td>\n",
       "      <td>Michail Antonio - 10</td>\n",
       "      <td>Łukasz Fabiański</td>\n",
       "      <td>NaN</td>\n",
       "      <td>#c5385c</td>\n",
       "    </tr>\n",
       "    <tr>\n",
       "      <th>16</th>\n",
       "      <td>17</td>\n",
       "      <td>Aston Villa</td>\n",
       "      <td>38</td>\n",
       "      <td>9</td>\n",
       "      <td>8</td>\n",
       "      <td>21</td>\n",
       "      <td>41</td>\n",
       "      <td>67</td>\n",
       "      <td>-26</td>\n",
       "      <td>35</td>\n",
       "      <td>40.2</td>\n",
       "      <td>65.8</td>\n",
       "      <td>-25.6</td>\n",
       "      <td>-0.67</td>\n",
       "      <td>28505</td>\n",
       "      <td>Jack Grealish - 8</td>\n",
       "      <td>Tom Heaton</td>\n",
       "      <td>NaN</td>\n",
       "      <td>#c5064a</td>\n",
       "    </tr>\n",
       "    <tr>\n",
       "      <th>17</th>\n",
       "      <td>18</td>\n",
       "      <td>Bournemouth</td>\n",
       "      <td>38</td>\n",
       "      <td>9</td>\n",
       "      <td>7</td>\n",
       "      <td>22</td>\n",
       "      <td>40</td>\n",
       "      <td>65</td>\n",
       "      <td>-25</td>\n",
       "      <td>34</td>\n",
       "      <td>42.5</td>\n",
       "      <td>56.7</td>\n",
       "      <td>-14.3</td>\n",
       "      <td>-0.38</td>\n",
       "      <td>7745</td>\n",
       "      <td>Callum Wilson - 8</td>\n",
       "      <td>Aaron Ramsdale</td>\n",
       "      <td>Relegated</td>\n",
       "      <td>#d83309</td>\n",
       "    </tr>\n",
       "    <tr>\n",
       "      <th>18</th>\n",
       "      <td>19</td>\n",
       "      <td>Watford</td>\n",
       "      <td>38</td>\n",
       "      <td>8</td>\n",
       "      <td>10</td>\n",
       "      <td>20</td>\n",
       "      <td>36</td>\n",
       "      <td>64</td>\n",
       "      <td>-28</td>\n",
       "      <td>34</td>\n",
       "      <td>45.5</td>\n",
       "      <td>57.1</td>\n",
       "      <td>-11.5</td>\n",
       "      <td>-0.30</td>\n",
       "      <td>15353</td>\n",
       "      <td>Troy Deeney - 10</td>\n",
       "      <td>Ben Foster</td>\n",
       "      <td>Relegated</td>\n",
       "      <td>#f2e80a</td>\n",
       "    </tr>\n",
       "    <tr>\n",
       "      <th>19</th>\n",
       "      <td>20</td>\n",
       "      <td>Norwich City</td>\n",
       "      <td>38</td>\n",
       "      <td>5</td>\n",
       "      <td>6</td>\n",
       "      <td>27</td>\n",
       "      <td>26</td>\n",
       "      <td>75</td>\n",
       "      <td>-49</td>\n",
       "      <td>21</td>\n",
       "      <td>38.2</td>\n",
       "      <td>61.8</td>\n",
       "      <td>-23.6</td>\n",
       "      <td>-0.62</td>\n",
       "      <td>19913</td>\n",
       "      <td>Teemu Pukki - 11</td>\n",
       "      <td>Tim Krul</td>\n",
       "      <td>Relegated</td>\n",
       "      <td>#FFFF00</td>\n",
       "    </tr>\n",
       "  </tbody>\n",
       "</table>\n",
       "</div>"
      ],
      "text/plain": [
       "    Rk         Squad  MP   W   D   L  GF  GA  GDiff  Pts    xG   xGA  xGDiff  \\\n",
       "15  16      West Ham  38  10   9  19  49  62    -13   39  46.0  61.9   -15.8   \n",
       "16  17   Aston Villa  38   9   8  21  41  67    -26   35  40.2  65.8   -25.6   \n",
       "17  18   Bournemouth  38   9   7  22  40  65    -25   34  42.5  56.7   -14.3   \n",
       "18  19       Watford  38   8  10  20  36  64    -28   34  45.5  57.1   -11.5   \n",
       "19  20  Norwich City  38   5   6  27  26  75    -49   21  38.2  61.8   -23.6   \n",
       "\n",
       "    xGDiff/90  Attendance       Top Team Scorer        Goalkeeper      Notes  \\\n",
       "15      -0.42       44155  Michail Antonio - 10  Łukasz Fabiański        NaN   \n",
       "16      -0.67       28505     Jack Grealish - 8        Tom Heaton        NaN   \n",
       "17      -0.38        7745     Callum Wilson - 8    Aaron Ramsdale  Relegated   \n",
       "18      -0.30       15353      Troy Deeney - 10        Ben Foster  Relegated   \n",
       "19      -0.62       19913      Teemu Pukki - 11          Tim Krul  Relegated   \n",
       "\n",
       "        Kit  \n",
       "15  #c5385c  \n",
       "16  #c5064a  \n",
       "17  #d83309  \n",
       "18  #f2e80a  \n",
       "19  #FFFF00  "
      ]
     },
     "execution_count": 263,
     "metadata": {},
     "output_type": "execute_result"
    }
   ],
   "source": [
    "table.tail()"
   ]
  },
  {
   "cell_type": "code",
   "execution_count": 264,
   "metadata": {},
   "outputs": [
    {
     "data": {
      "image/png": "[encoded data removed]",
      "text/plain": [
       "<Figure size 432x288 with 1 Axes>"
      ]
     },
     "metadata": {
      "needs_background": "light"
     },
     "output_type": "display_data"
    }
   ],
   "source": [
    "plt.hlines(y=np.arange(1,21), xmin=0, xmax=table[\"Pts\"], color = \"crimson\" )\n",
    "plt.yticks(np.arange(1,21), table['Squad'])\n",
    "plt.plot(table[\"Pts\"], np.arange(1,21), \"o\")\n",
    "plt.show()"
   ]
  },
  {
   "cell_type": "code",
   "execution_count": 265,
   "metadata": {},
   "outputs": [],
   "source": [
    "teamcolours = ['#f41e06','#06f4ee','#f44e06','#0652f4','#060af4',\n",
    "                '#fdfcfa','#fb770a','#fb0a53','#f083a4','#851033',\n",
    "                '#f98275','#0a55f4','#141515','#2059d4','#20abd4',\n",
    "                '#c5385c','#c5064a','#d83309','#f2e80a','#FFFF00',]"
   ]
  },
  {
   "cell_type": "code",
   "execution_count": 266,
   "metadata": {},
   "outputs": [
    {
     "data": {
      "image/png": "[encoded data removed]",
      "text/plain": [
       "<Figure size 432x288 with 1 Axes>"
      ]
     },
     "metadata": {
      "needs_background": "light"
     },
     "output_type": "display_data"
    }
   ],
   "source": [
    "plt.hlines(y=np.arange(1,21), xmin=0, xmax=table[\"Pts\"], color = teamcolours )\n",
    "plt.yticks(np.arange(1,21), table['Squad'])\n",
    "plt.plot(table[\"Pts\"], np.arange(1,21), \"o\")\n",
    "\n",
    "plt.ylabel(\"Team\")\n",
    "plt.xlabel(\"Points\")\n",
    "\n",
    "plt.title(\"Premier League 19/20\")\n",
    "\n",
    "plt.show()"
   ]
  },
  {
   "cell_type": "code",
   "execution_count": 267,
   "metadata": {},
   "outputs": [],
   "source": [
    "plwins = {\"Teams\":[\"Manchester United\",\"Chelsea\",\"Manchester City\",\"Arsenal\",\n",
    "                 \"Blackburn Rovers\",\"Leicester\",\"Liverpool\"], \"Titles\":[13,5,4,3,1,1,1]}\n",
    "\n",
    "df = pd.DataFrame(plwins, columns=[\"Teams\",\"Titles\"])"
   ]
  },
  {
   "cell_type": "code",
   "execution_count": 268,
   "metadata": {},
   "outputs": [
    {
     "data": {
      "text/html": [
       "<div>\n",
       "<style scoped>\n",
       "    .dataframe tbody tr th:only-of-type {\n",
       "        vertical-align: middle;\n",
       "    }\n",
       "\n",
       "    .dataframe tbody tr th {\n",
       "        vertical-align: top;\n",
       "    }\n",
       "\n",
       "    .dataframe thead th {\n",
       "        text-align: right;\n",
       "    }\n",
       "</style>\n",
       "<table border=\"1\" class=\"dataframe\">\n",
       "  <thead>\n",
       "    <tr style=\"text-align: right;\">\n",
       "      <th></th>\n",
       "      <th>Teams</th>\n",
       "      <th>Titles</th>\n",
       "    </tr>\n",
       "  </thead>\n",
       "  <tbody>\n",
       "    <tr>\n",
       "      <th>0</th>\n",
       "      <td>Manchester United</td>\n",
       "      <td>13</td>\n",
       "    </tr>\n",
       "    <tr>\n",
       "      <th>1</th>\n",
       "      <td>Chelsea</td>\n",
       "      <td>5</td>\n",
       "    </tr>\n",
       "    <tr>\n",
       "      <th>2</th>\n",
       "      <td>Manchester City</td>\n",
       "      <td>4</td>\n",
       "    </tr>\n",
       "    <tr>\n",
       "      <th>3</th>\n",
       "      <td>Arsenal</td>\n",
       "      <td>3</td>\n",
       "    </tr>\n",
       "    <tr>\n",
       "      <th>4</th>\n",
       "      <td>Blackburn Rovers</td>\n",
       "      <td>1</td>\n",
       "    </tr>\n",
       "    <tr>\n",
       "      <th>5</th>\n",
       "      <td>Leicester</td>\n",
       "      <td>1</td>\n",
       "    </tr>\n",
       "    <tr>\n",
       "      <th>6</th>\n",
       "      <td>Liverpool</td>\n",
       "      <td>1</td>\n",
       "    </tr>\n",
       "  </tbody>\n",
       "</table>\n",
       "</div>"
      ],
      "text/plain": [
       "               Teams  Titles\n",
       "0  Manchester United      13\n",
       "1            Chelsea       5\n",
       "2    Manchester City       4\n",
       "3            Arsenal       3\n",
       "4   Blackburn Rovers       1\n",
       "5          Leicester       1\n",
       "6          Liverpool       1"
      ]
     },
     "execution_count": 268,
     "metadata": {},
     "output_type": "execute_result"
    }
   ],
   "source": [
    "df"
   ]
  },
  {
   "cell_type": "code",
   "execution_count": 269,
   "metadata": {},
   "outputs": [
    {
     "data": {
      "image/png": "[encoded data removed]",
      "text/plain": [
       "<Figure size 432x288 with 1 Axes>"
      ]
     },
     "metadata": {},
     "output_type": "display_data"
    }
   ],
   "source": [
    "plt.pie(df[\"Titles\"])\n",
    "plt.tight_layout()"
   ]
  },
  {
   "cell_type": "code",
   "execution_count": 270,
   "metadata": {},
   "outputs": [],
   "source": [
    "kitcolours = [\"#ff3e3e\",\"#3e72ff\",\"#5af3ff\",\"#ff5a83\",\"#5ab8ff\",\"#0900ff\",\"#e70b0b\"]"
   ]
  },
  {
   "cell_type": "code",
   "execution_count": 271,
   "metadata": {},
   "outputs": [
    {
     "data": {
      "image/png": "[encoded data removed]",
      "text/plain": [
       "<Figure size 432x288 with 1 Axes>"
      ]
     },
     "metadata": {},
     "output_type": "display_data"
    }
   ],
   "source": [
    "plt.pie(df[\"Titles\"],\n",
    "    labels = df[\"Teams\"],\n",
    "    colors = kitcolours,\n",
    "    startangle = 0)\n",
    "plt.title(\"Premier League Titles\")\n",
    "plt.tight_layout()"
   ]
  },
  {
   "cell_type": "code",
   "execution_count": 272,
   "metadata": {},
   "outputs": [],
   "source": [
    "import numpy as np\n",
    "import pandas as pd"
   ]
  },
  {
   "cell_type": "code",
   "execution_count": 273,
   "metadata": {},
   "outputs": [],
   "source": [
    "capacity = pd.Series(data=[54167, 75731, 40157],\n",
    "                    index = [\"Anfield\",\"Old Trafford\",\"Goodison Park\"])"
   ]
  },
  {
   "cell_type": "code",
   "execution_count": 274,
   "metadata": {},
   "outputs": [
    {
     "data": {
      "text/plain": [
       "Anfield          54167\n",
       "Old Trafford     75731\n",
       "Goodison Park    40157\n",
       "dtype: int64"
      ]
     },
     "execution_count": 274,
     "metadata": {},
     "output_type": "execute_result"
    }
   ],
   "source": [
    "capacity"
   ]
  },
  {
   "cell_type": "code",
   "execution_count": 275,
   "metadata": {},
   "outputs": [
    {
     "data": {
      "text/plain": [
       "54167"
      ]
     },
     "execution_count": 275,
     "metadata": {},
     "output_type": "execute_result"
    }
   ],
   "source": [
    "capacity[\"Anfield\"]"
   ]
  },
  {
   "cell_type": "code",
   "execution_count": 276,
   "metadata": {},
   "outputs": [],
   "source": [
    "capacitydict = {\"Villa Park\":42785,\n",
    "               \"Hawthorns\":26850,\n",
    "               \"Molineux\":32050}"
   ]
  },
  {
   "cell_type": "code",
   "execution_count": 277,
   "metadata": {},
   "outputs": [],
   "source": [
    "Capacity=pd.Series(capacitydict)"
   ]
  },
  {
   "cell_type": "code",
   "execution_count": 278,
   "metadata": {},
   "outputs": [
    {
     "data": {
      "text/plain": [
       "Villa Park    42785\n",
       "Hawthorns     26850\n",
       "Molineux      32050\n",
       "dtype: int64"
      ]
     },
     "execution_count": 278,
     "metadata": {},
     "output_type": "execute_result"
    }
   ],
   "source": [
    "Capacity"
   ]
  },
  {
   "cell_type": "code",
   "execution_count": 279,
   "metadata": {},
   "outputs": [],
   "source": [
    "WCyears = np.arange(1930,2019,4)"
   ]
  },
  {
   "cell_type": "code",
   "execution_count": 280,
   "metadata": {},
   "outputs": [],
   "source": [
    "WCyears = np.delete(WCyears,[3,4])"
   ]
  },
  {
   "cell_type": "code",
   "execution_count": 281,
   "metadata": {},
   "outputs": [
    {
     "data": {
      "text/plain": [
       "array([1930, 1934, 1938, 1950, 1954, 1958, 1962, 1966, 1970, 1974, 1978,\n",
       "       1982, 1986, 1990, 1994, 1998, 2002, 2006, 2010, 2014, 2018])"
      ]
     },
     "execution_count": 281,
     "metadata": {},
     "output_type": "execute_result"
    }
   ],
   "source": [
    "WCyears"
   ]
  },
  {
   "cell_type": "code",
   "execution_count": 282,
   "metadata": {},
   "outputs": [
    {
     "data": {
      "text/plain": [
       "1966"
      ]
     },
     "execution_count": 282,
     "metadata": {},
     "output_type": "execute_result"
    }
   ],
   "source": [
    "WCyears[7]"
   ]
  },
  {
   "cell_type": "code",
   "execution_count": 283,
   "metadata": {},
   "outputs": [
    {
     "data": {
      "text/plain": [
       "array([1950, 1954, 1958, 1962])"
      ]
     },
     "execution_count": 283,
     "metadata": {},
     "output_type": "execute_result"
    }
   ],
   "source": [
    "WCyears[3:7]"
   ]
  },
  {
   "cell_type": "code",
   "execution_count": 284,
   "metadata": {},
   "outputs": [],
   "source": [
    "Euroyears = np.arange(1958,2016,4)"
   ]
  },
  {
   "cell_type": "code",
   "execution_count": 285,
   "metadata": {},
   "outputs": [
    {
     "data": {
      "text/plain": [
       "array([1958, 1962, 1966, 1970, 1974, 1978, 1982, 1986, 1990, 1994, 1998,\n",
       "       2002, 2006, 2010, 2014])"
      ]
     },
     "execution_count": 285,
     "metadata": {},
     "output_type": "execute_result"
    }
   ],
   "source": [
    "Euroyears"
   ]
  },
  {
   "cell_type": "code",
   "execution_count": 286,
   "metadata": {},
   "outputs": [],
   "source": [
    "Euroyears = np.arange(1960,2020,4)"
   ]
  },
  {
   "cell_type": "code",
   "execution_count": 287,
   "metadata": {},
   "outputs": [
    {
     "data": {
      "text/plain": [
       "array([1960, 1964, 1968, 1972, 1976, 1980, 1984, 1988, 1992, 1996, 2000,\n",
       "       2004, 2008, 2012, 2016])"
      ]
     },
     "execution_count": 287,
     "metadata": {},
     "output_type": "execute_result"
    }
   ],
   "source": [
    "Euroyears "
   ]
  },
  {
   "cell_type": "code",
   "execution_count": 288,
   "metadata": {},
   "outputs": [],
   "source": [
    "Euroyears = np.delete(Euroyears,[range(0,10)])"
   ]
  },
  {
   "cell_type": "code",
   "execution_count": 289,
   "metadata": {},
   "outputs": [
    {
     "data": {
      "text/plain": [
       "array([2000, 2004, 2008, 2012, 2016])"
      ]
     },
     "execution_count": 289,
     "metadata": {},
     "output_type": "execute_result"
    }
   ],
   "source": [
    "Euroyears"
   ]
  },
  {
   "cell_type": "code",
   "execution_count": 290,
   "metadata": {},
   "outputs": [],
   "source": [
    "Eurohosts = [\"Belgium/Netherlands\",\"Portugal\",\"Austria/Switzerland\",\"Poland/Ukraine\",\"France\"]"
   ]
  },
  {
   "cell_type": "code",
   "execution_count": 291,
   "metadata": {},
   "outputs": [],
   "source": [
    "Eurowinners = [\"France\",\"Greece\",\"Spain\",\"Spain\",\"Portugal\"]"
   ]
  },
  {
   "cell_type": "code",
   "execution_count": 292,
   "metadata": {},
   "outputs": [],
   "source": [
    "Euroarray = np.array((Euroyears,Eurohosts,Eurowinners))"
   ]
  },
  {
   "cell_type": "code",
   "execution_count": 293,
   "metadata": {},
   "outputs": [
    {
     "data": {
      "text/plain": [
       "array([['2000', '2004', '2008', '2012', '2016'],\n",
       "       ['Belgium/Netherlands', 'Portugal', 'Austria/Switzerland',\n",
       "        'Poland/Ukraine', 'France'],\n",
       "       ['France', 'Greece', 'Spain', 'Spain', 'Portugal']], dtype='<U21')"
      ]
     },
     "execution_count": 293,
     "metadata": {},
     "output_type": "execute_result"
    }
   ],
   "source": [
    "Euroarray"
   ]
  },
  {
   "cell_type": "code",
   "execution_count": 294,
   "metadata": {},
   "outputs": [
    {
     "data": {
      "text/plain": [
       "'Austria/Switzerland'"
      ]
     },
     "execution_count": 294,
     "metadata": {},
     "output_type": "execute_result"
    }
   ],
   "source": [
    "Euroarray[1,2]"
   ]
  },
  {
   "cell_type": "code",
   "execution_count": 295,
   "metadata": {},
   "outputs": [
    {
     "data": {
      "text/plain": [
       "'Portugal'"
      ]
     },
     "execution_count": 295,
     "metadata": {},
     "output_type": "execute_result"
    }
   ],
   "source": [
    "Euroarray[2,-1]"
   ]
  },
  {
   "cell_type": "code",
   "execution_count": 438,
   "metadata": {},
   "outputs": [],
   "source": [
    "players = [\"Gini\",\"Thiago\",\"Keita\",\"KdB\",\"Pogba\"]"
   ]
  },
  {
   "cell_type": "code",
   "execution_count": 439,
   "metadata": {},
   "outputs": [],
   "source": [
    "skills = [\"Passing\",\"Dribbling\",\"Shooting\",\"Tackling\",\"Creating\"]"
   ]
  },
  {
   "cell_type": "code",
   "execution_count": 440,
   "metadata": {},
   "outputs": [],
   "source": [
    "ScoresArray = np.random.randint(1,10,(5,5))"
   ]
  },
  {
   "cell_type": "code",
   "execution_count": 441,
   "metadata": {},
   "outputs": [
    {
     "data": {
      "text/plain": [
       "array([[9, 5, 2, 3, 2],\n",
       "       [8, 2, 4, 8, 5],\n",
       "       [9, 6, 1, 2, 9],\n",
       "       [2, 6, 3, 5, 5],\n",
       "       [5, 9, 7, 8, 9]])"
      ]
     },
     "execution_count": 441,
     "metadata": {},
     "output_type": "execute_result"
    }
   ],
   "source": [
    "ScoresArray"
   ]
  },
  {
   "cell_type": "code",
   "execution_count": 442,
   "metadata": {},
   "outputs": [],
   "source": [
    "df = pd.DataFrame(data=ScoresArray, index=players, columns=skills)"
   ]
  },
  {
   "cell_type": "code",
   "execution_count": 443,
   "metadata": {},
   "outputs": [
    {
     "data": {
      "text/html": [
       "<div>\n",
       "<style scoped>\n",
       "    .dataframe tbody tr th:only-of-type {\n",
       "        vertical-align: middle;\n",
       "    }\n",
       "\n",
       "    .dataframe tbody tr th {\n",
       "        vertical-align: top;\n",
       "    }\n",
       "\n",
       "    .dataframe thead th {\n",
       "        text-align: right;\n",
       "    }\n",
       "</style>\n",
       "<table border=\"1\" class=\"dataframe\">\n",
       "  <thead>\n",
       "    <tr style=\"text-align: right;\">\n",
       "      <th></th>\n",
       "      <th>Passing</th>\n",
       "      <th>Dribbling</th>\n",
       "      <th>Shooting</th>\n",
       "      <th>Tackling</th>\n",
       "      <th>Creating</th>\n",
       "    </tr>\n",
       "  </thead>\n",
       "  <tbody>\n",
       "    <tr>\n",
       "      <th>Gini</th>\n",
       "      <td>9</td>\n",
       "      <td>5</td>\n",
       "      <td>2</td>\n",
       "      <td>3</td>\n",
       "      <td>2</td>\n",
       "    </tr>\n",
       "    <tr>\n",
       "      <th>Thiago</th>\n",
       "      <td>8</td>\n",
       "      <td>2</td>\n",
       "      <td>4</td>\n",
       "      <td>8</td>\n",
       "      <td>5</td>\n",
       "    </tr>\n",
       "    <tr>\n",
       "      <th>Keita</th>\n",
       "      <td>9</td>\n",
       "      <td>6</td>\n",
       "      <td>1</td>\n",
       "      <td>2</td>\n",
       "      <td>9</td>\n",
       "    </tr>\n",
       "    <tr>\n",
       "      <th>KdB</th>\n",
       "      <td>2</td>\n",
       "      <td>6</td>\n",
       "      <td>3</td>\n",
       "      <td>5</td>\n",
       "      <td>5</td>\n",
       "    </tr>\n",
       "    <tr>\n",
       "      <th>Pogba</th>\n",
       "      <td>5</td>\n",
       "      <td>9</td>\n",
       "      <td>7</td>\n",
       "      <td>8</td>\n",
       "      <td>9</td>\n",
       "    </tr>\n",
       "  </tbody>\n",
       "</table>\n",
       "</div>"
      ],
      "text/plain": [
       "        Passing  Dribbling  Shooting  Tackling  Creating\n",
       "Gini          9          5         2         3         2\n",
       "Thiago        8          2         4         8         5\n",
       "Keita         9          6         1         2         9\n",
       "KdB           2          6         3         5         5\n",
       "Pogba         5          9         7         8         9"
      ]
     },
     "execution_count": 443,
     "metadata": {},
     "output_type": "execute_result"
    }
   ],
   "source": [
    "df.head()"
   ]
  },
  {
   "cell_type": "code",
   "execution_count": 444,
   "metadata": {},
   "outputs": [
    {
     "data": {
      "text/plain": [
       "Gini      2\n",
       "Thiago    4\n",
       "Keita     1\n",
       "KdB       3\n",
       "Pogba     7\n",
       "Name: Shooting, dtype: int64"
      ]
     },
     "execution_count": 444,
     "metadata": {},
     "output_type": "execute_result"
    }
   ],
   "source": [
    "df[\"Shooting\"]"
   ]
  },
  {
   "cell_type": "code",
   "execution_count": 445,
   "metadata": {},
   "outputs": [
    {
     "data": {
      "text/plain": [
       "8"
      ]
     },
     "execution_count": 445,
     "metadata": {},
     "output_type": "execute_result"
    }
   ],
   "source": [
    "df.iloc[1,3]"
   ]
  },
  {
   "cell_type": "code",
   "execution_count": 446,
   "metadata": {},
   "outputs": [],
   "source": [
    "df[\"Tactical\"] = np.random.randint(1,10,5)"
   ]
  },
  {
   "cell_type": "code",
   "execution_count": 448,
   "metadata": {},
   "outputs": [
    {
     "data": {
      "text/plain": [
       "Passing      9\n",
       "Dribbling    5\n",
       "Shooting     2\n",
       "Tackling     3\n",
       "Creating     2\n",
       "Tactical     5\n",
       "Name: Gini, dtype: int64"
      ]
     },
     "execution_count": 448,
     "metadata": {},
     "output_type": "execute_result"
    }
   ],
   "source": [
    "df.loc[\"Gini\"]"
   ]
  },
  {
   "cell_type": "code",
   "execution_count": 450,
   "metadata": {},
   "outputs": [
    {
     "data": {
      "text/html": [
       "<div>\n",
       "<style scoped>\n",
       "    .dataframe tbody tr th:only-of-type {\n",
       "        vertical-align: middle;\n",
       "    }\n",
       "\n",
       "    .dataframe tbody tr th {\n",
       "        vertical-align: top;\n",
       "    }\n",
       "\n",
       "    .dataframe thead th {\n",
       "        text-align: right;\n",
       "    }\n",
       "</style>\n",
       "<table border=\"1\" class=\"dataframe\">\n",
       "  <thead>\n",
       "    <tr style=\"text-align: right;\">\n",
       "      <th></th>\n",
       "      <th>Passing</th>\n",
       "      <th>Dribbling</th>\n",
       "      <th>Tackling</th>\n",
       "      <th>Creating</th>\n",
       "      <th>Tactical</th>\n",
       "    </tr>\n",
       "  </thead>\n",
       "  <tbody>\n",
       "    <tr>\n",
       "      <th>Gini</th>\n",
       "      <td>9</td>\n",
       "      <td>5</td>\n",
       "      <td>3</td>\n",
       "      <td>2</td>\n",
       "      <td>5</td>\n",
       "    </tr>\n",
       "    <tr>\n",
       "      <th>Thiago</th>\n",
       "      <td>8</td>\n",
       "      <td>2</td>\n",
       "      <td>8</td>\n",
       "      <td>5</td>\n",
       "      <td>2</td>\n",
       "    </tr>\n",
       "    <tr>\n",
       "      <th>Keita</th>\n",
       "      <td>9</td>\n",
       "      <td>6</td>\n",
       "      <td>2</td>\n",
       "      <td>9</td>\n",
       "      <td>7</td>\n",
       "    </tr>\n",
       "    <tr>\n",
       "      <th>KdB</th>\n",
       "      <td>2</td>\n",
       "      <td>6</td>\n",
       "      <td>5</td>\n",
       "      <td>5</td>\n",
       "      <td>5</td>\n",
       "    </tr>\n",
       "    <tr>\n",
       "      <th>Pogba</th>\n",
       "      <td>5</td>\n",
       "      <td>9</td>\n",
       "      <td>8</td>\n",
       "      <td>9</td>\n",
       "      <td>4</td>\n",
       "    </tr>\n",
       "  </tbody>\n",
       "</table>\n",
       "</div>"
      ],
      "text/plain": [
       "        Passing  Dribbling  Tackling  Creating  Tactical\n",
       "Gini          9          5         3         2         5\n",
       "Thiago        8          2         8         5         2\n",
       "Keita         9          6         2         9         7\n",
       "KdB           2          6         5         5         5\n",
       "Pogba         5          9         8         9         4"
      ]
     },
     "execution_count": 450,
     "metadata": {},
     "output_type": "execute_result"
    }
   ],
   "source": [
    "df.drop(\"Shooting\",axis=1)"
   ]
  },
  {
   "cell_type": "code",
   "execution_count": 452,
   "metadata": {},
   "outputs": [
    {
     "data": {
      "text/html": [
       "<div>\n",
       "<style scoped>\n",
       "    .dataframe tbody tr th:only-of-type {\n",
       "        vertical-align: middle;\n",
       "    }\n",
       "\n",
       "    .dataframe tbody tr th {\n",
       "        vertical-align: top;\n",
       "    }\n",
       "\n",
       "    .dataframe thead th {\n",
       "        text-align: right;\n",
       "    }\n",
       "</style>\n",
       "<table border=\"1\" class=\"dataframe\">\n",
       "  <thead>\n",
       "    <tr style=\"text-align: right;\">\n",
       "      <th></th>\n",
       "      <th>Passing</th>\n",
       "      <th>Dribbling</th>\n",
       "      <th>Shooting</th>\n",
       "      <th>Tackling</th>\n",
       "      <th>Creating</th>\n",
       "      <th>Tactical</th>\n",
       "    </tr>\n",
       "  </thead>\n",
       "  <tbody>\n",
       "    <tr>\n",
       "      <th>Gini</th>\n",
       "      <td>9</td>\n",
       "      <td>5</td>\n",
       "      <td>2</td>\n",
       "      <td>3</td>\n",
       "      <td>2</td>\n",
       "      <td>5</td>\n",
       "    </tr>\n",
       "    <tr>\n",
       "      <th>Thiago</th>\n",
       "      <td>8</td>\n",
       "      <td>2</td>\n",
       "      <td>4</td>\n",
       "      <td>8</td>\n",
       "      <td>5</td>\n",
       "      <td>2</td>\n",
       "    </tr>\n",
       "    <tr>\n",
       "      <th>KdB</th>\n",
       "      <td>2</td>\n",
       "      <td>6</td>\n",
       "      <td>3</td>\n",
       "      <td>5</td>\n",
       "      <td>5</td>\n",
       "      <td>5</td>\n",
       "    </tr>\n",
       "    <tr>\n",
       "      <th>Pogba</th>\n",
       "      <td>5</td>\n",
       "      <td>9</td>\n",
       "      <td>7</td>\n",
       "      <td>8</td>\n",
       "      <td>9</td>\n",
       "      <td>4</td>\n",
       "    </tr>\n",
       "  </tbody>\n",
       "</table>\n",
       "</div>"
      ],
      "text/plain": [
       "        Passing  Dribbling  Shooting  Tackling  Creating  Tactical\n",
       "Gini          9          5         2         3         2         5\n",
       "Thiago        8          2         4         8         5         2\n",
       "KdB           2          6         3         5         5         5\n",
       "Pogba         5          9         7         8         9         4"
      ]
     },
     "execution_count": 452,
     "metadata": {},
     "output_type": "execute_result"
    }
   ],
   "source": [
    "df.drop(\"Keita\",axis=0)"
   ]
  },
  {
   "cell_type": "code",
   "execution_count": 453,
   "metadata": {},
   "outputs": [],
   "source": [
    "df.loc[\"Jones\"] = np.random.randint(1,10,6)"
   ]
  },
  {
   "cell_type": "code",
   "execution_count": 454,
   "metadata": {},
   "outputs": [
    {
     "data": {
      "text/html": [
       "<div>\n",
       "<style scoped>\n",
       "    .dataframe tbody tr th:only-of-type {\n",
       "        vertical-align: middle;\n",
       "    }\n",
       "\n",
       "    .dataframe tbody tr th {\n",
       "        vertical-align: top;\n",
       "    }\n",
       "\n",
       "    .dataframe thead th {\n",
       "        text-align: right;\n",
       "    }\n",
       "</style>\n",
       "<table border=\"1\" class=\"dataframe\">\n",
       "  <thead>\n",
       "    <tr style=\"text-align: right;\">\n",
       "      <th></th>\n",
       "      <th>Passing</th>\n",
       "      <th>Dribbling</th>\n",
       "      <th>Shooting</th>\n",
       "      <th>Tackling</th>\n",
       "      <th>Creating</th>\n",
       "      <th>Tactical</th>\n",
       "    </tr>\n",
       "  </thead>\n",
       "  <tbody>\n",
       "    <tr>\n",
       "      <th>Gini</th>\n",
       "      <td>9</td>\n",
       "      <td>5</td>\n",
       "      <td>2</td>\n",
       "      <td>3</td>\n",
       "      <td>2</td>\n",
       "      <td>5</td>\n",
       "    </tr>\n",
       "    <tr>\n",
       "      <th>Thiago</th>\n",
       "      <td>8</td>\n",
       "      <td>2</td>\n",
       "      <td>4</td>\n",
       "      <td>8</td>\n",
       "      <td>5</td>\n",
       "      <td>2</td>\n",
       "    </tr>\n",
       "    <tr>\n",
       "      <th>Keita</th>\n",
       "      <td>9</td>\n",
       "      <td>6</td>\n",
       "      <td>1</td>\n",
       "      <td>2</td>\n",
       "      <td>9</td>\n",
       "      <td>7</td>\n",
       "    </tr>\n",
       "    <tr>\n",
       "      <th>KdB</th>\n",
       "      <td>2</td>\n",
       "      <td>6</td>\n",
       "      <td>3</td>\n",
       "      <td>5</td>\n",
       "      <td>5</td>\n",
       "      <td>5</td>\n",
       "    </tr>\n",
       "    <tr>\n",
       "      <th>Pogba</th>\n",
       "      <td>5</td>\n",
       "      <td>9</td>\n",
       "      <td>7</td>\n",
       "      <td>8</td>\n",
       "      <td>9</td>\n",
       "      <td>4</td>\n",
       "    </tr>\n",
       "    <tr>\n",
       "      <th>Jones</th>\n",
       "      <td>4</td>\n",
       "      <td>4</td>\n",
       "      <td>3</td>\n",
       "      <td>5</td>\n",
       "      <td>1</td>\n",
       "      <td>1</td>\n",
       "    </tr>\n",
       "  </tbody>\n",
       "</table>\n",
       "</div>"
      ],
      "text/plain": [
       "        Passing  Dribbling  Shooting  Tackling  Creating  Tactical\n",
       "Gini          9          5         2         3         2         5\n",
       "Thiago        8          2         4         8         5         2\n",
       "Keita         9          6         1         2         9         7\n",
       "KdB           2          6         3         5         5         5\n",
       "Pogba         5          9         7         8         9         4\n",
       "Jones         4          4         3         5         1         1"
      ]
     },
     "execution_count": 454,
     "metadata": {},
     "output_type": "execute_result"
    }
   ],
   "source": [
    "df"
   ]
  },
  {
   "cell_type": "code",
   "execution_count": 360,
   "metadata": {},
   "outputs": [
    {
     "data": {
      "text/html": [
       "<div>\n",
       "<style scoped>\n",
       "    .dataframe tbody tr th:only-of-type {\n",
       "        vertical-align: middle;\n",
       "    }\n",
       "\n",
       "    .dataframe tbody tr th {\n",
       "        vertical-align: top;\n",
       "    }\n",
       "\n",
       "    .dataframe thead th {\n",
       "        text-align: right;\n",
       "    }\n",
       "</style>\n",
       "<table border=\"1\" class=\"dataframe\">\n",
       "  <thead>\n",
       "    <tr style=\"text-align: right;\">\n",
       "      <th></th>\n",
       "      <th>Passing</th>\n",
       "      <th>Dribbling</th>\n",
       "      <th>Shooting</th>\n",
       "      <th>Tackling</th>\n",
       "      <th>Creating</th>\n",
       "      <th>Tactical</th>\n",
       "    </tr>\n",
       "  </thead>\n",
       "  <tbody>\n",
       "    <tr>\n",
       "      <th>Thiago</th>\n",
       "      <td>True</td>\n",
       "      <td>False</td>\n",
       "      <td>True</td>\n",
       "      <td>True</td>\n",
       "      <td>True</td>\n",
       "      <td>True</td>\n",
       "    </tr>\n",
       "    <tr>\n",
       "      <th>Keita</th>\n",
       "      <td>True</td>\n",
       "      <td>False</td>\n",
       "      <td>False</td>\n",
       "      <td>True</td>\n",
       "      <td>False</td>\n",
       "      <td>False</td>\n",
       "    </tr>\n",
       "    <tr>\n",
       "      <th>KdB</th>\n",
       "      <td>False</td>\n",
       "      <td>False</td>\n",
       "      <td>False</td>\n",
       "      <td>True</td>\n",
       "      <td>False</td>\n",
       "      <td>True</td>\n",
       "    </tr>\n",
       "    <tr>\n",
       "      <th>Pogba</th>\n",
       "      <td>True</td>\n",
       "      <td>True</td>\n",
       "      <td>False</td>\n",
       "      <td>False</td>\n",
       "      <td>False</td>\n",
       "      <td>False</td>\n",
       "    </tr>\n",
       "    <tr>\n",
       "      <th>Jones</th>\n",
       "      <td>False</td>\n",
       "      <td>True</td>\n",
       "      <td>True</td>\n",
       "      <td>True</td>\n",
       "      <td>False</td>\n",
       "      <td>True</td>\n",
       "    </tr>\n",
       "  </tbody>\n",
       "</table>\n",
       "</div>"
      ],
      "text/plain": [
       "        Passing  Dribbling  Shooting  Tackling  Creating  Tactical\n",
       "Thiago     True      False      True      True      True      True\n",
       "Keita      True      False     False      True     False     False\n",
       "KdB       False      False     False      True     False      True\n",
       "Pogba      True       True     False     False     False     False\n",
       "Jones     False       True      True      True     False      True"
      ]
     },
     "execution_count": 360,
     "metadata": {},
     "output_type": "execute_result"
    }
   ],
   "source": [
    "df>5"
   ]
  },
  {
   "cell_type": "code",
   "execution_count": 361,
   "metadata": {},
   "outputs": [
    {
     "data": {
      "text/plain": [
       "Thiago     True\n",
       "Keita     False\n",
       "KdB        True\n",
       "Pogba     False\n",
       "Jones      True\n",
       "Name: Tactical, dtype: bool"
      ]
     },
     "execution_count": 361,
     "metadata": {},
     "output_type": "execute_result"
    }
   ],
   "source": [
    "df[\"Tactical\"]>5"
   ]
  },
  {
   "cell_type": "code",
   "execution_count": 362,
   "metadata": {},
   "outputs": [
    {
     "data": {
      "text/html": [
       "<div>\n",
       "<style scoped>\n",
       "    .dataframe tbody tr th:only-of-type {\n",
       "        vertical-align: middle;\n",
       "    }\n",
       "\n",
       "    .dataframe tbody tr th {\n",
       "        vertical-align: top;\n",
       "    }\n",
       "\n",
       "    .dataframe thead th {\n",
       "        text-align: right;\n",
       "    }\n",
       "</style>\n",
       "<table border=\"1\" class=\"dataframe\">\n",
       "  <thead>\n",
       "    <tr style=\"text-align: right;\">\n",
       "      <th></th>\n",
       "      <th>Passing</th>\n",
       "      <th>Dribbling</th>\n",
       "      <th>Shooting</th>\n",
       "      <th>Tackling</th>\n",
       "      <th>Creating</th>\n",
       "      <th>Tactical</th>\n",
       "    </tr>\n",
       "  </thead>\n",
       "  <tbody>\n",
       "    <tr>\n",
       "      <th>Thiago</th>\n",
       "      <td>6</td>\n",
       "      <td>1</td>\n",
       "      <td>9</td>\n",
       "      <td>7</td>\n",
       "      <td>7</td>\n",
       "      <td>6</td>\n",
       "    </tr>\n",
       "    <tr>\n",
       "      <th>Keita</th>\n",
       "      <td>6</td>\n",
       "      <td>1</td>\n",
       "      <td>5</td>\n",
       "      <td>9</td>\n",
       "      <td>1</td>\n",
       "      <td>4</td>\n",
       "    </tr>\n",
       "    <tr>\n",
       "      <th>Pogba</th>\n",
       "      <td>7</td>\n",
       "      <td>8</td>\n",
       "      <td>3</td>\n",
       "      <td>4</td>\n",
       "      <td>4</td>\n",
       "      <td>2</td>\n",
       "    </tr>\n",
       "  </tbody>\n",
       "</table>\n",
       "</div>"
      ],
      "text/plain": [
       "        Passing  Dribbling  Shooting  Tackling  Creating  Tactical\n",
       "Thiago        6          1         9         7         7         6\n",
       "Keita         6          1         5         9         1         4\n",
       "Pogba         7          8         3         4         4         2"
      ]
     },
     "execution_count": 362,
     "metadata": {},
     "output_type": "execute_result"
    }
   ],
   "source": [
    "df[df[\"Passing\"]>5]"
   ]
  },
  {
   "cell_type": "code",
   "execution_count": 363,
   "metadata": {},
   "outputs": [
    {
     "data": {
      "text/html": [
       "<div>\n",
       "<style scoped>\n",
       "    .dataframe tbody tr th:only-of-type {\n",
       "        vertical-align: middle;\n",
       "    }\n",
       "\n",
       "    .dataframe tbody tr th {\n",
       "        vertical-align: top;\n",
       "    }\n",
       "\n",
       "    .dataframe thead th {\n",
       "        text-align: right;\n",
       "    }\n",
       "</style>\n",
       "<table border=\"1\" class=\"dataframe\">\n",
       "  <thead>\n",
       "    <tr style=\"text-align: right;\">\n",
       "      <th></th>\n",
       "      <th>Passing</th>\n",
       "      <th>Dribbling</th>\n",
       "      <th>Shooting</th>\n",
       "      <th>Tackling</th>\n",
       "      <th>Creating</th>\n",
       "      <th>Tactical</th>\n",
       "    </tr>\n",
       "  </thead>\n",
       "  <tbody>\n",
       "    <tr>\n",
       "      <th>Thiago</th>\n",
       "      <td>6</td>\n",
       "      <td>1</td>\n",
       "      <td>9</td>\n",
       "      <td>7</td>\n",
       "      <td>7</td>\n",
       "      <td>6</td>\n",
       "    </tr>\n",
       "    <tr>\n",
       "      <th>Keita</th>\n",
       "      <td>6</td>\n",
       "      <td>1</td>\n",
       "      <td>5</td>\n",
       "      <td>9</td>\n",
       "      <td>1</td>\n",
       "      <td>4</td>\n",
       "    </tr>\n",
       "    <tr>\n",
       "      <th>KdB</th>\n",
       "      <td>5</td>\n",
       "      <td>2</td>\n",
       "      <td>2</td>\n",
       "      <td>8</td>\n",
       "      <td>3</td>\n",
       "      <td>6</td>\n",
       "    </tr>\n",
       "    <tr>\n",
       "      <th>Pogba</th>\n",
       "      <td>7</td>\n",
       "      <td>8</td>\n",
       "      <td>3</td>\n",
       "      <td>4</td>\n",
       "      <td>4</td>\n",
       "      <td>2</td>\n",
       "    </tr>\n",
       "    <tr>\n",
       "      <th>Jones</th>\n",
       "      <td>2</td>\n",
       "      <td>7</td>\n",
       "      <td>8</td>\n",
       "      <td>9</td>\n",
       "      <td>4</td>\n",
       "      <td>7</td>\n",
       "    </tr>\n",
       "  </tbody>\n",
       "</table>\n",
       "</div>"
      ],
      "text/plain": [
       "        Passing  Dribbling  Shooting  Tackling  Creating  Tactical\n",
       "Thiago        6          1         9         7         7         6\n",
       "Keita         6          1         5         9         1         4\n",
       "KdB           5          2         2         8         3         6\n",
       "Pogba         7          8         3         4         4         2\n",
       "Jones         2          7         8         9         4         7"
      ]
     },
     "execution_count": 363,
     "metadata": {},
     "output_type": "execute_result"
    }
   ],
   "source": [
    "df"
   ]
  },
  {
   "cell_type": "code",
   "execution_count": 365,
   "metadata": {},
   "outputs": [],
   "source": [
    "df.loc[\"Gini\"] = np.random.randint(1,10,6)"
   ]
  },
  {
   "cell_type": "code",
   "execution_count": 366,
   "metadata": {},
   "outputs": [
    {
     "data": {
      "text/html": [
       "<div>\n",
       "<style scoped>\n",
       "    .dataframe tbody tr th:only-of-type {\n",
       "        vertical-align: middle;\n",
       "    }\n",
       "\n",
       "    .dataframe tbody tr th {\n",
       "        vertical-align: top;\n",
       "    }\n",
       "\n",
       "    .dataframe thead th {\n",
       "        text-align: right;\n",
       "    }\n",
       "</style>\n",
       "<table border=\"1\" class=\"dataframe\">\n",
       "  <thead>\n",
       "    <tr style=\"text-align: right;\">\n",
       "      <th></th>\n",
       "      <th>Passing</th>\n",
       "      <th>Dribbling</th>\n",
       "      <th>Shooting</th>\n",
       "      <th>Tackling</th>\n",
       "      <th>Creating</th>\n",
       "      <th>Tactical</th>\n",
       "    </tr>\n",
       "  </thead>\n",
       "  <tbody>\n",
       "    <tr>\n",
       "      <th>Thiago</th>\n",
       "      <td>6</td>\n",
       "      <td>1</td>\n",
       "      <td>9</td>\n",
       "      <td>7</td>\n",
       "      <td>7</td>\n",
       "      <td>6</td>\n",
       "    </tr>\n",
       "    <tr>\n",
       "      <th>Keita</th>\n",
       "      <td>6</td>\n",
       "      <td>1</td>\n",
       "      <td>5</td>\n",
       "      <td>9</td>\n",
       "      <td>1</td>\n",
       "      <td>4</td>\n",
       "    </tr>\n",
       "    <tr>\n",
       "      <th>KdB</th>\n",
       "      <td>5</td>\n",
       "      <td>2</td>\n",
       "      <td>2</td>\n",
       "      <td>8</td>\n",
       "      <td>3</td>\n",
       "      <td>6</td>\n",
       "    </tr>\n",
       "    <tr>\n",
       "      <th>Pogba</th>\n",
       "      <td>7</td>\n",
       "      <td>8</td>\n",
       "      <td>3</td>\n",
       "      <td>4</td>\n",
       "      <td>4</td>\n",
       "      <td>2</td>\n",
       "    </tr>\n",
       "    <tr>\n",
       "      <th>Jones</th>\n",
       "      <td>2</td>\n",
       "      <td>7</td>\n",
       "      <td>8</td>\n",
       "      <td>9</td>\n",
       "      <td>4</td>\n",
       "      <td>7</td>\n",
       "    </tr>\n",
       "    <tr>\n",
       "      <th>Gini</th>\n",
       "      <td>9</td>\n",
       "      <td>4</td>\n",
       "      <td>3</td>\n",
       "      <td>9</td>\n",
       "      <td>7</td>\n",
       "      <td>3</td>\n",
       "    </tr>\n",
       "  </tbody>\n",
       "</table>\n",
       "</div>"
      ],
      "text/plain": [
       "        Passing  Dribbling  Shooting  Tackling  Creating  Tactical\n",
       "Thiago        6          1         9         7         7         6\n",
       "Keita         6          1         5         9         1         4\n",
       "KdB           5          2         2         8         3         6\n",
       "Pogba         7          8         3         4         4         2\n",
       "Jones         2          7         8         9         4         7\n",
       "Gini          9          4         3         9         7         3"
      ]
     },
     "execution_count": 366,
     "metadata": {},
     "output_type": "execute_result"
    }
   ],
   "source": [
    "df"
   ]
  },
  {
   "cell_type": "code",
   "execution_count": 408,
   "metadata": {},
   "outputs": [],
   "source": [
    "import numpy as np\n",
    "import pandas as pd\n",
    "\n",
    "df = pd.DataFrame({\"Wage\":[120000,np.nan,np.nan,150000],\n",
    "                 \"Goal Bonus\":[4000,np.nan,4500,np.nan],\n",
    "                \"Image Rights\":[30000,25000,60000,45000]},\n",
    "                  index = [\"Mane\",\"Van Dijk\",\"Salah\",\"Trent\"],\n",
    "                  columns = [\"Wage\",\"Goal Bonus\",\"Image Rights\"])"
   ]
  },
  {
   "cell_type": "code",
   "execution_count": 409,
   "metadata": {},
   "outputs": [
    {
     "data": {
      "text/html": [
       "<div>\n",
       "<style scoped>\n",
       "    .dataframe tbody tr th:only-of-type {\n",
       "        vertical-align: middle;\n",
       "    }\n",
       "\n",
       "    .dataframe tbody tr th {\n",
       "        vertical-align: top;\n",
       "    }\n",
       "\n",
       "    .dataframe thead th {\n",
       "        text-align: right;\n",
       "    }\n",
       "</style>\n",
       "<table border=\"1\" class=\"dataframe\">\n",
       "  <thead>\n",
       "    <tr style=\"text-align: right;\">\n",
       "      <th></th>\n",
       "      <th>Wage</th>\n",
       "      <th>Goal Bonus</th>\n",
       "      <th>Image Rights</th>\n",
       "    </tr>\n",
       "  </thead>\n",
       "  <tbody>\n",
       "    <tr>\n",
       "      <th>Mane</th>\n",
       "      <td>120000.0</td>\n",
       "      <td>4000.0</td>\n",
       "      <td>30000</td>\n",
       "    </tr>\n",
       "    <tr>\n",
       "      <th>Van Dijk</th>\n",
       "      <td>NaN</td>\n",
       "      <td>NaN</td>\n",
       "      <td>25000</td>\n",
       "    </tr>\n",
       "    <tr>\n",
       "      <th>Salah</th>\n",
       "      <td>NaN</td>\n",
       "      <td>4500.0</td>\n",
       "      <td>60000</td>\n",
       "    </tr>\n",
       "    <tr>\n",
       "      <th>Trent</th>\n",
       "      <td>150000.0</td>\n",
       "      <td>NaN</td>\n",
       "      <td>45000</td>\n",
       "    </tr>\n",
       "  </tbody>\n",
       "</table>\n",
       "</div>"
      ],
      "text/plain": [
       "              Wage  Goal Bonus  Image Rights\n",
       "Mane      120000.0      4000.0         30000\n",
       "Van Dijk       NaN         NaN         25000\n",
       "Salah          NaN      4500.0         60000\n",
       "Trent     150000.0         NaN         45000"
      ]
     },
     "execution_count": 409,
     "metadata": {},
     "output_type": "execute_result"
    }
   ],
   "source": [
    "df"
   ]
  },
  {
   "cell_type": "code",
   "execution_count": 410,
   "metadata": {},
   "outputs": [
    {
     "data": {
      "text/html": [
       "<div>\n",
       "<style scoped>\n",
       "    .dataframe tbody tr th:only-of-type {\n",
       "        vertical-align: middle;\n",
       "    }\n",
       "\n",
       "    .dataframe tbody tr th {\n",
       "        vertical-align: top;\n",
       "    }\n",
       "\n",
       "    .dataframe thead th {\n",
       "        text-align: right;\n",
       "    }\n",
       "</style>\n",
       "<table border=\"1\" class=\"dataframe\">\n",
       "  <thead>\n",
       "    <tr style=\"text-align: right;\">\n",
       "      <th></th>\n",
       "      <th>Wage</th>\n",
       "      <th>Goal Bonus</th>\n",
       "      <th>Image Rights</th>\n",
       "    </tr>\n",
       "  </thead>\n",
       "  <tbody>\n",
       "    <tr>\n",
       "      <th>Mane</th>\n",
       "      <td>120000.0</td>\n",
       "      <td>4000.0</td>\n",
       "      <td>30000</td>\n",
       "    </tr>\n",
       "  </tbody>\n",
       "</table>\n",
       "</div>"
      ],
      "text/plain": [
       "          Wage  Goal Bonus  Image Rights\n",
       "Mane  120000.0      4000.0         30000"
      ]
     },
     "execution_count": 410,
     "metadata": {},
     "output_type": "execute_result"
    }
   ],
   "source": [
    "df.dropna()"
   ]
  },
  {
   "cell_type": "code",
   "execution_count": 411,
   "metadata": {},
   "outputs": [
    {
     "data": {
      "text/html": [
       "<div>\n",
       "<style scoped>\n",
       "    .dataframe tbody tr th:only-of-type {\n",
       "        vertical-align: middle;\n",
       "    }\n",
       "\n",
       "    .dataframe tbody tr th {\n",
       "        vertical-align: top;\n",
       "    }\n",
       "\n",
       "    .dataframe thead th {\n",
       "        text-align: right;\n",
       "    }\n",
       "</style>\n",
       "<table border=\"1\" class=\"dataframe\">\n",
       "  <thead>\n",
       "    <tr style=\"text-align: right;\">\n",
       "      <th></th>\n",
       "      <th>Image Rights</th>\n",
       "    </tr>\n",
       "  </thead>\n",
       "  <tbody>\n",
       "    <tr>\n",
       "      <th>Mane</th>\n",
       "      <td>30000</td>\n",
       "    </tr>\n",
       "    <tr>\n",
       "      <th>Van Dijk</th>\n",
       "      <td>25000</td>\n",
       "    </tr>\n",
       "    <tr>\n",
       "      <th>Salah</th>\n",
       "      <td>60000</td>\n",
       "    </tr>\n",
       "    <tr>\n",
       "      <th>Trent</th>\n",
       "      <td>45000</td>\n",
       "    </tr>\n",
       "  </tbody>\n",
       "</table>\n",
       "</div>"
      ],
      "text/plain": [
       "          Image Rights\n",
       "Mane             30000\n",
       "Van Dijk         25000\n",
       "Salah            60000\n",
       "Trent            45000"
      ]
     },
     "execution_count": 411,
     "metadata": {},
     "output_type": "execute_result"
    }
   ],
   "source": [
    "df.dropna(axis=1)"
   ]
  },
  {
   "cell_type": "code",
   "execution_count": 412,
   "metadata": {},
   "outputs": [
    {
     "data": {
      "text/html": [
       "<div>\n",
       "<style scoped>\n",
       "    .dataframe tbody tr th:only-of-type {\n",
       "        vertical-align: middle;\n",
       "    }\n",
       "\n",
       "    .dataframe tbody tr th {\n",
       "        vertical-align: top;\n",
       "    }\n",
       "\n",
       "    .dataframe thead th {\n",
       "        text-align: right;\n",
       "    }\n",
       "</style>\n",
       "<table border=\"1\" class=\"dataframe\">\n",
       "  <thead>\n",
       "    <tr style=\"text-align: right;\">\n",
       "      <th></th>\n",
       "      <th>Wage</th>\n",
       "      <th>Goal Bonus</th>\n",
       "      <th>Image Rights</th>\n",
       "    </tr>\n",
       "  </thead>\n",
       "  <tbody>\n",
       "    <tr>\n",
       "      <th>Mane</th>\n",
       "      <td>120000.0</td>\n",
       "      <td>4000.0</td>\n",
       "      <td>30000</td>\n",
       "    </tr>\n",
       "    <tr>\n",
       "      <th>Salah</th>\n",
       "      <td>NaN</td>\n",
       "      <td>4500.0</td>\n",
       "      <td>60000</td>\n",
       "    </tr>\n",
       "    <tr>\n",
       "      <th>Trent</th>\n",
       "      <td>150000.0</td>\n",
       "      <td>NaN</td>\n",
       "      <td>45000</td>\n",
       "    </tr>\n",
       "  </tbody>\n",
       "</table>\n",
       "</div>"
      ],
      "text/plain": [
       "           Wage  Goal Bonus  Image Rights\n",
       "Mane   120000.0      4000.0         30000\n",
       "Salah       NaN      4500.0         60000\n",
       "Trent  150000.0         NaN         45000"
      ]
     },
     "execution_count": 412,
     "metadata": {},
     "output_type": "execute_result"
    }
   ],
   "source": [
    "df.dropna(thresh=2)"
   ]
  },
  {
   "cell_type": "code",
   "execution_count": 413,
   "metadata": {},
   "outputs": [
    {
     "data": {
      "text/html": [
       "<div>\n",
       "<style scoped>\n",
       "    .dataframe tbody tr th:only-of-type {\n",
       "        vertical-align: middle;\n",
       "    }\n",
       "\n",
       "    .dataframe tbody tr th {\n",
       "        vertical-align: top;\n",
       "    }\n",
       "\n",
       "    .dataframe thead th {\n",
       "        text-align: right;\n",
       "    }\n",
       "</style>\n",
       "<table border=\"1\" class=\"dataframe\">\n",
       "  <thead>\n",
       "    <tr style=\"text-align: right;\">\n",
       "      <th></th>\n",
       "      <th>Wage</th>\n",
       "      <th>Goal Bonus</th>\n",
       "      <th>Image Rights</th>\n",
       "    </tr>\n",
       "  </thead>\n",
       "  <tbody>\n",
       "    <tr>\n",
       "      <th>Mane</th>\n",
       "      <td>120000.0</td>\n",
       "      <td>4000.0</td>\n",
       "      <td>30000</td>\n",
       "    </tr>\n",
       "    <tr>\n",
       "      <th>Van Dijk</th>\n",
       "      <td>0.0</td>\n",
       "      <td>0.0</td>\n",
       "      <td>25000</td>\n",
       "    </tr>\n",
       "    <tr>\n",
       "      <th>Salah</th>\n",
       "      <td>0.0</td>\n",
       "      <td>4500.0</td>\n",
       "      <td>60000</td>\n",
       "    </tr>\n",
       "    <tr>\n",
       "      <th>Trent</th>\n",
       "      <td>150000.0</td>\n",
       "      <td>0.0</td>\n",
       "      <td>45000</td>\n",
       "    </tr>\n",
       "  </tbody>\n",
       "</table>\n",
       "</div>"
      ],
      "text/plain": [
       "              Wage  Goal Bonus  Image Rights\n",
       "Mane      120000.0      4000.0         30000\n",
       "Van Dijk       0.0         0.0         25000\n",
       "Salah          0.0      4500.0         60000\n",
       "Trent     150000.0         0.0         45000"
      ]
     },
     "execution_count": 413,
     "metadata": {},
     "output_type": "execute_result"
    }
   ],
   "source": [
    "df.fillna(value=0)"
   ]
  },
  {
   "cell_type": "code",
   "execution_count": 414,
   "metadata": {},
   "outputs": [],
   "source": [
    "wagemean = df[\"Wage\"].mean()\n",
    "goalmean = df[\"Goal Bonus\"].mean()\n",
    "rightsmean = df[\"Image Rights\"].mean()"
   ]
  },
  {
   "cell_type": "code",
   "execution_count": null,
   "metadata": {},
   "outputs": [],
   "source": []
  },
  {
   "cell_type": "code",
   "execution_count": 415,
   "metadata": {},
   "outputs": [
    {
     "data": {
      "text/html": [
       "<div>\n",
       "<style scoped>\n",
       "    .dataframe tbody tr th:only-of-type {\n",
       "        vertical-align: middle;\n",
       "    }\n",
       "\n",
       "    .dataframe tbody tr th {\n",
       "        vertical-align: top;\n",
       "    }\n",
       "\n",
       "    .dataframe thead th {\n",
       "        text-align: right;\n",
       "    }\n",
       "</style>\n",
       "<table border=\"1\" class=\"dataframe\">\n",
       "  <thead>\n",
       "    <tr style=\"text-align: right;\">\n",
       "      <th></th>\n",
       "      <th>Wage</th>\n",
       "      <th>Goal Bonus</th>\n",
       "      <th>Image Rights</th>\n",
       "    </tr>\n",
       "  </thead>\n",
       "  <tbody>\n",
       "    <tr>\n",
       "      <th>Mane</th>\n",
       "      <td>120000.0</td>\n",
       "      <td>4000.0</td>\n",
       "      <td>30000</td>\n",
       "    </tr>\n",
       "    <tr>\n",
       "      <th>Van Dijk</th>\n",
       "      <td>NaN</td>\n",
       "      <td>NaN</td>\n",
       "      <td>25000</td>\n",
       "    </tr>\n",
       "    <tr>\n",
       "      <th>Salah</th>\n",
       "      <td>NaN</td>\n",
       "      <td>4500.0</td>\n",
       "      <td>60000</td>\n",
       "    </tr>\n",
       "    <tr>\n",
       "      <th>Trent</th>\n",
       "      <td>150000.0</td>\n",
       "      <td>NaN</td>\n",
       "      <td>45000</td>\n",
       "    </tr>\n",
       "  </tbody>\n",
       "</table>\n",
       "</div>"
      ],
      "text/plain": [
       "              Wage  Goal Bonus  Image Rights\n",
       "Mane      120000.0      4000.0         30000\n",
       "Van Dijk       NaN         NaN         25000\n",
       "Salah          NaN      4500.0         60000\n",
       "Trent     150000.0         NaN         45000"
      ]
     },
     "execution_count": 415,
     "metadata": {},
     "output_type": "execute_result"
    }
   ],
   "source": []
  },
  {
   "cell_type": "code",
   "execution_count": 416,
   "metadata": {},
   "outputs": [],
   "source": [
    "import pandas as pd"
   ]
  },
  {
   "cell_type": "code",
   "execution_count": 420,
   "metadata": {},
   "outputs": [],
   "source": [
    "data = {\"Opponent\":[\"PSG\",\"Red Star\",\"Napoli\",\"Bayern\",\"Porto\",\"Barca\",\"Spurs\"],\n",
    "        \"Location\":[\"Home\",\"Away\",\"Home\",\"Away\",\"Away\",\"Home\",\"Neutral\"],\n",
    "        \"Goals_for\":[3,0,1,3,4,4,2],\n",
    "        \"Goals_against\":[2,2,0,1,2,0,0]}\n",
    "matches=pd.DataFrame(data,\n",
    "                    index=[\"G1\",\"G2\",\"G3\",\"R16\",\"QF\",\"SF\",\"F\"])"
   ]
  },
  {
   "cell_type": "code",
   "execution_count": 421,
   "metadata": {},
   "outputs": [
    {
     "data": {
      "text/html": [
       "<div>\n",
       "<style scoped>\n",
       "    .dataframe tbody tr th:only-of-type {\n",
       "        vertical-align: middle;\n",
       "    }\n",
       "\n",
       "    .dataframe tbody tr th {\n",
       "        vertical-align: top;\n",
       "    }\n",
       "\n",
       "    .dataframe thead th {\n",
       "        text-align: right;\n",
       "    }\n",
       "</style>\n",
       "<table border=\"1\" class=\"dataframe\">\n",
       "  <thead>\n",
       "    <tr style=\"text-align: right;\">\n",
       "      <th></th>\n",
       "      <th>Opponent</th>\n",
       "      <th>Location</th>\n",
       "      <th>Goals_for</th>\n",
       "      <th>Goals_against</th>\n",
       "    </tr>\n",
       "  </thead>\n",
       "  <tbody>\n",
       "    <tr>\n",
       "      <th>G1</th>\n",
       "      <td>PSG</td>\n",
       "      <td>Home</td>\n",
       "      <td>3</td>\n",
       "      <td>2</td>\n",
       "    </tr>\n",
       "    <tr>\n",
       "      <th>G2</th>\n",
       "      <td>Red Star</td>\n",
       "      <td>Away</td>\n",
       "      <td>0</td>\n",
       "      <td>2</td>\n",
       "    </tr>\n",
       "    <tr>\n",
       "      <th>G3</th>\n",
       "      <td>Napoli</td>\n",
       "      <td>Home</td>\n",
       "      <td>1</td>\n",
       "      <td>0</td>\n",
       "    </tr>\n",
       "    <tr>\n",
       "      <th>R16</th>\n",
       "      <td>Bayern</td>\n",
       "      <td>Away</td>\n",
       "      <td>3</td>\n",
       "      <td>1</td>\n",
       "    </tr>\n",
       "    <tr>\n",
       "      <th>QF</th>\n",
       "      <td>Porto</td>\n",
       "      <td>Away</td>\n",
       "      <td>4</td>\n",
       "      <td>2</td>\n",
       "    </tr>\n",
       "    <tr>\n",
       "      <th>SF</th>\n",
       "      <td>Barca</td>\n",
       "      <td>Home</td>\n",
       "      <td>4</td>\n",
       "      <td>0</td>\n",
       "    </tr>\n",
       "    <tr>\n",
       "      <th>F</th>\n",
       "      <td>Spurs</td>\n",
       "      <td>Neutral</td>\n",
       "      <td>2</td>\n",
       "      <td>0</td>\n",
       "    </tr>\n",
       "  </tbody>\n",
       "</table>\n",
       "</div>"
      ],
      "text/plain": [
       "     Opponent Location  Goals_for  Goals_against\n",
       "G1        PSG     Home          3              2\n",
       "G2   Red Star     Away          0              2\n",
       "G3     Napoli     Home          1              0\n",
       "R16    Bayern     Away          3              1\n",
       "QF      Porto     Away          4              2\n",
       "SF      Barca     Home          4              0\n",
       "F       Spurs  Neutral          2              0"
      ]
     },
     "execution_count": 421,
     "metadata": {},
     "output_type": "execute_result"
    }
   ],
   "source": [
    "matches"
   ]
  },
  {
   "cell_type": "code",
   "execution_count": 431,
   "metadata": {},
   "outputs": [
    {
     "data": {
      "text/html": [
       "<div>\n",
       "<style scoped>\n",
       "    .dataframe tbody tr th:only-of-type {\n",
       "        vertical-align: middle;\n",
       "    }\n",
       "\n",
       "    .dataframe tbody tr th {\n",
       "        vertical-align: top;\n",
       "    }\n",
       "\n",
       "    .dataframe thead th {\n",
       "        text-align: right;\n",
       "    }\n",
       "</style>\n",
       "<table border=\"1\" class=\"dataframe\">\n",
       "  <thead>\n",
       "    <tr style=\"text-align: right;\">\n",
       "      <th></th>\n",
       "      <th>Goals_for</th>\n",
       "      <th>Goals_against</th>\n",
       "    </tr>\n",
       "    <tr>\n",
       "      <th>Location</th>\n",
       "      <th></th>\n",
       "      <th></th>\n",
       "    </tr>\n",
       "  </thead>\n",
       "  <tbody>\n",
       "    <tr>\n",
       "      <th>Away</th>\n",
       "      <td>2.333333</td>\n",
       "      <td>1.666667</td>\n",
       "    </tr>\n",
       "    <tr>\n",
       "      <th>Home</th>\n",
       "      <td>2.666667</td>\n",
       "      <td>0.666667</td>\n",
       "    </tr>\n",
       "    <tr>\n",
       "      <th>Neutral</th>\n",
       "      <td>2.000000</td>\n",
       "      <td>0.000000</td>\n",
       "    </tr>\n",
       "  </tbody>\n",
       "</table>\n",
       "</div>"
      ],
      "text/plain": [
       "          Goals_for  Goals_against\n",
       "Location                          \n",
       "Away       2.333333       1.666667\n",
       "Home       2.666667       0.666667\n",
       "Neutral    2.000000       0.000000"
      ]
     },
     "execution_count": 431,
     "metadata": {},
     "output_type": "execute_result"
    }
   ],
   "source": [
    "matches.groupby(\"Location\").mean()"
   ]
  },
  {
   "cell_type": "code",
   "execution_count": 433,
   "metadata": {},
   "outputs": [
    {
     "data": {
      "text/html": [
       "<div>\n",
       "<style scoped>\n",
       "    .dataframe tbody tr th:only-of-type {\n",
       "        vertical-align: middle;\n",
       "    }\n",
       "\n",
       "    .dataframe tbody tr th {\n",
       "        vertical-align: top;\n",
       "    }\n",
       "\n",
       "    .dataframe thead tr th {\n",
       "        text-align: left;\n",
       "    }\n",
       "\n",
       "    .dataframe thead tr:last-of-type th {\n",
       "        text-align: right;\n",
       "    }\n",
       "</style>\n",
       "<table border=\"1\" class=\"dataframe\">\n",
       "  <thead>\n",
       "    <tr>\n",
       "      <th></th>\n",
       "      <th colspan=\"8\" halign=\"left\">Goals_for</th>\n",
       "      <th colspan=\"8\" halign=\"left\">Goals_against</th>\n",
       "    </tr>\n",
       "    <tr>\n",
       "      <th></th>\n",
       "      <th>count</th>\n",
       "      <th>mean</th>\n",
       "      <th>std</th>\n",
       "      <th>min</th>\n",
       "      <th>25%</th>\n",
       "      <th>50%</th>\n",
       "      <th>75%</th>\n",
       "      <th>max</th>\n",
       "      <th>count</th>\n",
       "      <th>mean</th>\n",
       "      <th>std</th>\n",
       "      <th>min</th>\n",
       "      <th>25%</th>\n",
       "      <th>50%</th>\n",
       "      <th>75%</th>\n",
       "      <th>max</th>\n",
       "    </tr>\n",
       "    <tr>\n",
       "      <th>Location</th>\n",
       "      <th></th>\n",
       "      <th></th>\n",
       "      <th></th>\n",
       "      <th></th>\n",
       "      <th></th>\n",
       "      <th></th>\n",
       "      <th></th>\n",
       "      <th></th>\n",
       "      <th></th>\n",
       "      <th></th>\n",
       "      <th></th>\n",
       "      <th></th>\n",
       "      <th></th>\n",
       "      <th></th>\n",
       "      <th></th>\n",
       "      <th></th>\n",
       "    </tr>\n",
       "  </thead>\n",
       "  <tbody>\n",
       "    <tr>\n",
       "      <th>Away</th>\n",
       "      <td>3.0</td>\n",
       "      <td>2.333333</td>\n",
       "      <td>2.081666</td>\n",
       "      <td>0.0</td>\n",
       "      <td>1.5</td>\n",
       "      <td>3.0</td>\n",
       "      <td>3.5</td>\n",
       "      <td>4.0</td>\n",
       "      <td>3.0</td>\n",
       "      <td>1.666667</td>\n",
       "      <td>0.577350</td>\n",
       "      <td>1.0</td>\n",
       "      <td>1.5</td>\n",
       "      <td>2.0</td>\n",
       "      <td>2.0</td>\n",
       "      <td>2.0</td>\n",
       "    </tr>\n",
       "    <tr>\n",
       "      <th>Home</th>\n",
       "      <td>3.0</td>\n",
       "      <td>2.666667</td>\n",
       "      <td>1.527525</td>\n",
       "      <td>1.0</td>\n",
       "      <td>2.0</td>\n",
       "      <td>3.0</td>\n",
       "      <td>3.5</td>\n",
       "      <td>4.0</td>\n",
       "      <td>3.0</td>\n",
       "      <td>0.666667</td>\n",
       "      <td>1.154701</td>\n",
       "      <td>0.0</td>\n",
       "      <td>0.0</td>\n",
       "      <td>0.0</td>\n",
       "      <td>1.0</td>\n",
       "      <td>2.0</td>\n",
       "    </tr>\n",
       "    <tr>\n",
       "      <th>Neutral</th>\n",
       "      <td>1.0</td>\n",
       "      <td>2.000000</td>\n",
       "      <td>0.000000</td>\n",
       "      <td>2.0</td>\n",
       "      <td>2.0</td>\n",
       "      <td>2.0</td>\n",
       "      <td>2.0</td>\n",
       "      <td>2.0</td>\n",
       "      <td>1.0</td>\n",
       "      <td>0.000000</td>\n",
       "      <td>0.000000</td>\n",
       "      <td>0.0</td>\n",
       "      <td>0.0</td>\n",
       "      <td>0.0</td>\n",
       "      <td>0.0</td>\n",
       "      <td>0.0</td>\n",
       "    </tr>\n",
       "  </tbody>\n",
       "</table>\n",
       "</div>"
      ],
      "text/plain": [
       "         Goals_for                                              Goals_against  \\\n",
       "             count      mean       std  min  25%  50%  75%  max         count   \n",
       "Location                                                                        \n",
       "Away           3.0  2.333333  2.081666  0.0  1.5  3.0  3.5  4.0           3.0   \n",
       "Home           3.0  2.666667  1.527525  1.0  2.0  3.0  3.5  4.0           3.0   \n",
       "Neutral        1.0  2.000000  0.000000  2.0  2.0  2.0  2.0  2.0           1.0   \n",
       "\n",
       "                                                       \n",
       "              mean       std  min  25%  50%  75%  max  \n",
       "Location                                               \n",
       "Away      1.666667  0.577350  1.0  1.5  2.0  2.0  2.0  \n",
       "Home      0.666667  1.154701  0.0  0.0  0.0  1.0  2.0  \n",
       "Neutral   0.000000  0.000000  0.0  0.0  0.0  0.0  0.0  "
      ]
     },
     "execution_count": 433,
     "metadata": {},
     "output_type": "execute_result"
    }
   ],
   "source": [
    "matches.groupby(\"Location\").describe().fillna(value=0)"
   ]
  },
  {
   "cell_type": "code",
   "execution_count": 437,
   "metadata": {},
   "outputs": [
    {
     "data": {
      "text/plain": [
       "Goals_for      count    3.000000\n",
       "               mean     2.333333\n",
       "               std      2.081666\n",
       "               min      0.000000\n",
       "               25%      1.500000\n",
       "               50%      3.000000\n",
       "               75%      3.500000\n",
       "               max      4.000000\n",
       "Goals_against  count    3.000000\n",
       "               mean     1.666667\n",
       "               std      0.577350\n",
       "               min      1.000000\n",
       "               25%      1.500000\n",
       "               50%      2.000000\n",
       "               75%      2.000000\n",
       "               max      2.000000\n",
       "Name: Away, dtype: float64"
      ]
     },
     "execution_count": 437,
     "metadata": {},
     "output_type": "execute_result"
    }
   ],
   "source": [
    "matches.groupby(\"Location\").describe().transpose()[\"Away\"]"
   ]
  },
  {
   "cell_type": "code",
   "execution_count": 457,
   "metadata": {},
   "outputs": [
    {
     "name": "stdout",
     "output_type": "stream",
     "text": [
      "All that work done in just 58 characters!\n"
     ]
    }
   ],
   "source": [
    "print(\"All that work done in just \" +str(len(\"matches.groupby('Location').describe().transpose()['Away']\")) +\" characters!\")"
   ]
  },
  {
   "cell_type": "code",
   "execution_count": 508,
   "metadata": {},
   "outputs": [],
   "source": [
    "import numpy as np\n",
    "import pandas as pd"
   ]
  },
  {
   "cell_type": "code",
   "execution_count": 527,
   "metadata": {},
   "outputs": [],
   "source": [
    "game1 = pd.DataFrame({'Opponent':['Stuttgart'],'goalsfor':[3],'goalsagainst':[0],'Ground':['Austria']})"
   ]
  },
  {
   "cell_type": "code",
   "execution_count": 528,
   "metadata": {},
   "outputs": [],
   "source": [
    "game2 = pd.DataFrame({'Opponent':['Salzburg'],'goalsfor':[2],'goalsagainst':[2],'Ground':['Austria']})"
   ]
  },
  {
   "cell_type": "code",
   "execution_count": 529,
   "metadata": {},
   "outputs": [],
   "source": [
    "game3 = pd.DataFrame({'Opponent':['Blackpool'],'goalsfor':[7],'goalsagainst':[2],'Ground':['Anfield']})"
   ]
  },
  {
   "cell_type": "code",
   "execution_count": 530,
   "metadata": {},
   "outputs": [],
   "source": [
    "Allgames = pd.concat([game1,game2,game3])"
   ]
  },
  {
   "cell_type": "code",
   "execution_count": 531,
   "metadata": {},
   "outputs": [],
   "source": [
    "game1scorers = pd.DataFrame({'First':['Firmino'],'Last':['Brewster'],'Opponent':['Stuttgart']})"
   ]
  },
  {
   "cell_type": "code",
   "execution_count": 532,
   "metadata": {},
   "outputs": [],
   "source": [
    "game2scorers = pd.DataFrame({'First':['Brewster'],'Last':['Brewster'],'Opponent':['Salzburg']})"
   ]
  },
  {
   "cell_type": "code",
   "execution_count": 533,
   "metadata": {},
   "outputs": [],
   "source": [
    "game3scorers = pd.DataFrame({'First':['Matip'],'Last':['Van Dem Berg'],'Opponent':['Blackpool']})"
   ]
  },
  {
   "cell_type": "code",
   "execution_count": 534,
   "metadata": {},
   "outputs": [],
   "source": [
    "scorers = pd.concat([game1scorers,game2scorers,game3scorers])"
   ]
  },
  {
   "cell_type": "code",
   "execution_count": null,
   "metadata": {},
   "outputs": [],
   "source": []
  },
  {
   "cell_type": "code",
   "execution_count": null,
   "metadata": {},
   "outputs": [],
   "source": []
  },
  {
   "cell_type": "code",
   "execution_count": 535,
   "metadata": {},
   "outputs": [
    {
     "data": {
      "text/html": [
       "<div>\n",
       "<style scoped>\n",
       "    .dataframe tbody tr th:only-of-type {\n",
       "        vertical-align: middle;\n",
       "    }\n",
       "\n",
       "    .dataframe tbody tr th {\n",
       "        vertical-align: top;\n",
       "    }\n",
       "\n",
       "    .dataframe thead th {\n",
       "        text-align: right;\n",
       "    }\n",
       "</style>\n",
       "<table border=\"1\" class=\"dataframe\">\n",
       "  <thead>\n",
       "    <tr style=\"text-align: right;\">\n",
       "      <th></th>\n",
       "      <th>Opponent</th>\n",
       "      <th>GoalsFor</th>\n",
       "      <th>GoalsAgainst</th>\n",
       "      <th>Attendance</th>\n",
       "    </tr>\n",
       "  </thead>\n",
       "  <tbody>\n",
       "    <tr>\n",
       "      <th>0</th>\n",
       "      <td>Ouestjambon United</td>\n",
       "      <td>4</td>\n",
       "      <td>1</td>\n",
       "      <td>53225</td>\n",
       "    </tr>\n",
       "  </tbody>\n",
       "</table>\n",
       "</div>"
      ],
      "text/plain": [
       "             Opponent  GoalsFor  GoalsAgainst  Attendance\n",
       "0  Ouestjambon United         4             1       53225"
      ]
     },
     "execution_count": 535,
     "metadata": {},
     "output_type": "execute_result"
    }
   ],
   "source": [
    "import numpy as np\n",
    "import pandas as pd\n",
    "\n",
    "match1 = pd.DataFrame({'Opponent':['Selche FC'],\n",
    "                      'GoalsFor':[1],\n",
    "                       'GoalsAgainst':[1],\n",
    "                       'Attendance':[53225]})\n",
    "\n",
    "match2 = pd.DataFrame({'Opponent':['Sudaton FC'],\n",
    "                      'GoalsFor':[3],\n",
    "                       'GoalsAgainst':[0],\n",
    "                       'Attendance':[53256]})\n",
    "\n",
    "match3 = pd.DataFrame({'Opponent':['Ouestjambon United'],\n",
    "                      'GoalsFor':[4],\n",
    "                       'GoalsAgainst':[1],\n",
    "                       'Attendance':[53225]})\n",
    "\n",
    "match3"
   ]
  },
  {
   "cell_type": "code",
   "execution_count": 536,
   "metadata": {},
   "outputs": [
    {
     "data": {
      "text/html": [
       "<div>\n",
       "<style scoped>\n",
       "    .dataframe tbody tr th:only-of-type {\n",
       "        vertical-align: middle;\n",
       "    }\n",
       "\n",
       "    .dataframe tbody tr th {\n",
       "        vertical-align: top;\n",
       "    }\n",
       "\n",
       "    .dataframe thead th {\n",
       "        text-align: right;\n",
       "    }\n",
       "</style>\n",
       "<table border=\"1\" class=\"dataframe\">\n",
       "  <thead>\n",
       "    <tr style=\"text-align: right;\">\n",
       "      <th></th>\n",
       "      <th>Opponent</th>\n",
       "      <th>GoalsFor</th>\n",
       "      <th>GoalsAgainst</th>\n",
       "      <th>Attendance</th>\n",
       "    </tr>\n",
       "  </thead>\n",
       "  <tbody>\n",
       "    <tr>\n",
       "      <th>0</th>\n",
       "      <td>Selche FC</td>\n",
       "      <td>1</td>\n",
       "      <td>1</td>\n",
       "      <td>53225</td>\n",
       "    </tr>\n",
       "    <tr>\n",
       "      <th>0</th>\n",
       "      <td>Sudaton FC</td>\n",
       "      <td>3</td>\n",
       "      <td>0</td>\n",
       "      <td>53256</td>\n",
       "    </tr>\n",
       "    <tr>\n",
       "      <th>0</th>\n",
       "      <td>Ouestjambon United</td>\n",
       "      <td>4</td>\n",
       "      <td>1</td>\n",
       "      <td>53225</td>\n",
       "    </tr>\n",
       "  </tbody>\n",
       "</table>\n",
       "</div>"
      ],
      "text/plain": [
       "             Opponent  GoalsFor  GoalsAgainst  Attendance\n",
       "0           Selche FC         1             1       53225\n",
       "0          Sudaton FC         3             0       53256\n",
       "0  Ouestjambon United         4             1       53225"
      ]
     },
     "execution_count": 536,
     "metadata": {},
     "output_type": "execute_result"
    }
   ],
   "source": [
    "AllMatches = pd.concat([match1,match2,match3])\n",
    "AllMatches"
   ]
  },
  {
   "cell_type": "code",
   "execution_count": 537,
   "metadata": {},
   "outputs": [
    {
     "data": {
      "text/html": [
       "<div>\n",
       "<style scoped>\n",
       "    .dataframe tbody tr th:only-of-type {\n",
       "        vertical-align: middle;\n",
       "    }\n",
       "\n",
       "    .dataframe tbody tr th {\n",
       "        vertical-align: top;\n",
       "    }\n",
       "\n",
       "    .dataframe thead th {\n",
       "        text-align: right;\n",
       "    }\n",
       "</style>\n",
       "<table border=\"1\" class=\"dataframe\">\n",
       "  <thead>\n",
       "    <tr style=\"text-align: right;\">\n",
       "      <th></th>\n",
       "      <th>First</th>\n",
       "      <th>Last</th>\n",
       "      <th>Opponent</th>\n",
       "    </tr>\n",
       "  </thead>\n",
       "  <tbody>\n",
       "    <tr>\n",
       "      <th>0</th>\n",
       "      <td>Sally</td>\n",
       "      <td>Billy</td>\n",
       "      <td>Selche FC</td>\n",
       "    </tr>\n",
       "    <tr>\n",
       "      <th>0</th>\n",
       "      <td>Sally</td>\n",
       "      <td>Pip</td>\n",
       "      <td>Sudaton FC</td>\n",
       "    </tr>\n",
       "    <tr>\n",
       "      <th>0</th>\n",
       "      <td>Sally</td>\n",
       "      <td>Sally</td>\n",
       "      <td>Ouestjambon United</td>\n",
       "    </tr>\n",
       "  </tbody>\n",
       "</table>\n",
       "</div>"
      ],
      "text/plain": [
       "   First   Last            Opponent\n",
       "0  Sally  Billy           Selche FC\n",
       "0  Sally    Pip          Sudaton FC\n",
       "0  Sally  Sally  Ouestjambon United"
      ]
     },
     "execution_count": 537,
     "metadata": {},
     "output_type": "execute_result"
    }
   ],
   "source": [
    "match1scorers = pd.DataFrame({'First':['Sally'],\n",
    "                              'Last':['Billy'],\n",
    "                            'Opponent':['Selche FC']})\n",
    "                      \n",
    "match2scorers = pd.DataFrame({'First':['Sally'],\n",
    "                              'Last':['Pip'],\n",
    "                             'Opponent':['Sudaton FC']})\n",
    "\n",
    "match3scorers = pd.DataFrame({'First':['Sally'],\n",
    "                             'Last':['Sally'],\n",
    "                             'Opponent':['Ouestjambon United']})\n",
    "\n",
    "AllScorers = pd.concat([match1scorers,match2scorers,match3scorers]) \n",
    "AllScorers"
   ]
  },
  {
   "cell_type": "code",
   "execution_count": 538,
   "metadata": {},
   "outputs": [
    {
     "data": {
      "text/html": [
       "<div>\n",
       "<style scoped>\n",
       "    .dataframe tbody tr th:only-of-type {\n",
       "        vertical-align: middle;\n",
       "    }\n",
       "\n",
       "    .dataframe tbody tr th {\n",
       "        vertical-align: top;\n",
       "    }\n",
       "\n",
       "    .dataframe thead th {\n",
       "        text-align: right;\n",
       "    }\n",
       "</style>\n",
       "<table border=\"1\" class=\"dataframe\">\n",
       "  <thead>\n",
       "    <tr style=\"text-align: right;\">\n",
       "      <th></th>\n",
       "      <th>Opponent</th>\n",
       "      <th>GoalsFor</th>\n",
       "      <th>GoalsAgainst</th>\n",
       "      <th>Attendance</th>\n",
       "      <th>First</th>\n",
       "      <th>Last</th>\n",
       "    </tr>\n",
       "  </thead>\n",
       "  <tbody>\n",
       "    <tr>\n",
       "      <th>0</th>\n",
       "      <td>Selche FC</td>\n",
       "      <td>1</td>\n",
       "      <td>1</td>\n",
       "      <td>53225</td>\n",
       "      <td>Sally</td>\n",
       "      <td>Billy</td>\n",
       "    </tr>\n",
       "    <tr>\n",
       "      <th>1</th>\n",
       "      <td>Sudaton FC</td>\n",
       "      <td>3</td>\n",
       "      <td>0</td>\n",
       "      <td>53256</td>\n",
       "      <td>Sally</td>\n",
       "      <td>Pip</td>\n",
       "    </tr>\n",
       "    <tr>\n",
       "      <th>2</th>\n",
       "      <td>Ouestjambon United</td>\n",
       "      <td>4</td>\n",
       "      <td>1</td>\n",
       "      <td>53225</td>\n",
       "      <td>Sally</td>\n",
       "      <td>Sally</td>\n",
       "    </tr>\n",
       "  </tbody>\n",
       "</table>\n",
       "</div>"
      ],
      "text/plain": [
       "             Opponent  GoalsFor  GoalsAgainst  Attendance  First   Last\n",
       "0           Selche FC         1             1       53225  Sally  Billy\n",
       "1          Sudaton FC         3             0       53256  Sally    Pip\n",
       "2  Ouestjambon United         4             1       53225  Sally  Sally"
      ]
     },
     "execution_count": 538,
     "metadata": {},
     "output_type": "execute_result"
    }
   ],
   "source": [
    "pd.merge(AllMatches, AllScorers, how='inner',on='Opponent')"
   ]
  },
  {
   "cell_type": "code",
   "execution_count": 539,
   "metadata": {},
   "outputs": [
    {
     "data": {
      "text/html": [
       "<div>\n",
       "<style scoped>\n",
       "    .dataframe tbody tr th:only-of-type {\n",
       "        vertical-align: middle;\n",
       "    }\n",
       "\n",
       "    .dataframe tbody tr th {\n",
       "        vertical-align: top;\n",
       "    }\n",
       "\n",
       "    .dataframe thead th {\n",
       "        text-align: right;\n",
       "    }\n",
       "</style>\n",
       "<table border=\"1\" class=\"dataframe\">\n",
       "  <thead>\n",
       "    <tr style=\"text-align: right;\">\n",
       "      <th></th>\n",
       "      <th>Opponent</th>\n",
       "      <th>goalsfor</th>\n",
       "      <th>goalsagainst</th>\n",
       "      <th>Ground</th>\n",
       "      <th>First</th>\n",
       "      <th>Last</th>\n",
       "    </tr>\n",
       "  </thead>\n",
       "  <tbody>\n",
       "    <tr>\n",
       "      <th>0</th>\n",
       "      <td>Stuttgart</td>\n",
       "      <td>3</td>\n",
       "      <td>0</td>\n",
       "      <td>Austria</td>\n",
       "      <td>Firmino</td>\n",
       "      <td>Brewster</td>\n",
       "    </tr>\n",
       "    <tr>\n",
       "      <th>1</th>\n",
       "      <td>Salzburg</td>\n",
       "      <td>2</td>\n",
       "      <td>2</td>\n",
       "      <td>Austria</td>\n",
       "      <td>Brewster</td>\n",
       "      <td>Brewster</td>\n",
       "    </tr>\n",
       "    <tr>\n",
       "      <th>2</th>\n",
       "      <td>Blackpool</td>\n",
       "      <td>7</td>\n",
       "      <td>2</td>\n",
       "      <td>Anfield</td>\n",
       "      <td>Matip</td>\n",
       "      <td>Van Dem Berg</td>\n",
       "    </tr>\n",
       "  </tbody>\n",
       "</table>\n",
       "</div>"
      ],
      "text/plain": [
       "    Opponent  goalsfor  goalsagainst   Ground     First          Last\n",
       "0  Stuttgart         3             0  Austria   Firmino      Brewster\n",
       "1   Salzburg         2             2  Austria  Brewster      Brewster\n",
       "2  Blackpool         7             2  Anfield     Matip  Van Dem Berg"
      ]
     },
     "execution_count": 539,
     "metadata": {},
     "output_type": "execute_result"
    }
   ],
   "source": [
    "pd.merge(Allgames, scorers, how='inner', on='Opponent')"
   ]
  },
  {
   "cell_type": "code",
   "execution_count": 27,
   "metadata": {},
   "outputs": [],
   "source": [
    "import numpy as np\n",
    "import pandas as pd\n",
    "import matplotlib.pyplot as plt\n",
    "%matplotlib inline"
   ]
  },
  {
   "cell_type": "code",
   "execution_count": 28,
   "metadata": {},
   "outputs": [],
   "source": [
    "df = pd.read_csv(\"1920matchreports.csv\")"
   ]
  },
  {
   "cell_type": "code",
   "execution_count": 29,
   "metadata": {},
   "outputs": [
    {
     "data": {
      "text/html": [
       "<div>\n",
       "<style scoped>\n",
       "    .dataframe tbody tr th:only-of-type {\n",
       "        vertical-align: middle;\n",
       "    }\n",
       "\n",
       "    .dataframe tbody tr th {\n",
       "        vertical-align: top;\n",
       "    }\n",
       "\n",
       "    .dataframe thead th {\n",
       "        text-align: right;\n",
       "    }\n",
       "</style>\n",
       "<table border=\"1\" class=\"dataframe\">\n",
       "  <thead>\n",
       "    <tr style=\"text-align: right;\">\n",
       "      <th></th>\n",
       "      <th>Wk</th>\n",
       "      <th>Day</th>\n",
       "      <th>Date</th>\n",
       "      <th>Time</th>\n",
       "      <th>Home</th>\n",
       "      <th>xG</th>\n",
       "      <th>Score</th>\n",
       "      <th>xG.1</th>\n",
       "      <th>Away</th>\n",
       "      <th>Attendance</th>\n",
       "      <th>Venue</th>\n",
       "      <th>Referee</th>\n",
       "    </tr>\n",
       "  </thead>\n",
       "  <tbody>\n",
       "    <tr>\n",
       "      <th>0</th>\n",
       "      <td>1.0</td>\n",
       "      <td>Fri</td>\n",
       "      <td>09/08/2019</td>\n",
       "      <td>20:00</td>\n",
       "      <td>Liverpool</td>\n",
       "      <td>1.8</td>\n",
       "      <td>4–1</td>\n",
       "      <td>1.0</td>\n",
       "      <td>Norwich City</td>\n",
       "      <td>53333.0</td>\n",
       "      <td>Anfield</td>\n",
       "      <td>Michael Oliver</td>\n",
       "    </tr>\n",
       "    <tr>\n",
       "      <th>1</th>\n",
       "      <td>1.0</td>\n",
       "      <td>Sat</td>\n",
       "      <td>10/08/2019</td>\n",
       "      <td>12:30</td>\n",
       "      <td>West Ham</td>\n",
       "      <td>0.8</td>\n",
       "      <td>0–5</td>\n",
       "      <td>3.0</td>\n",
       "      <td>Manchester City</td>\n",
       "      <td>59870.0</td>\n",
       "      <td>London Stadium</td>\n",
       "      <td>Mike Dean</td>\n",
       "    </tr>\n",
       "    <tr>\n",
       "      <th>2</th>\n",
       "      <td>1.0</td>\n",
       "      <td>Sat</td>\n",
       "      <td>10/08/2019</td>\n",
       "      <td>15:00</td>\n",
       "      <td>Burnley</td>\n",
       "      <td>0.6</td>\n",
       "      <td>3–0</td>\n",
       "      <td>0.9</td>\n",
       "      <td>Southampton</td>\n",
       "      <td>19784.0</td>\n",
       "      <td>Turf Moor</td>\n",
       "      <td>Graham Scott</td>\n",
       "    </tr>\n",
       "    <tr>\n",
       "      <th>3</th>\n",
       "      <td>1.0</td>\n",
       "      <td>Sat</td>\n",
       "      <td>10/08/2019</td>\n",
       "      <td>15:00</td>\n",
       "      <td>Watford</td>\n",
       "      <td>1.0</td>\n",
       "      <td>0–3</td>\n",
       "      <td>0.6</td>\n",
       "      <td>Brighton</td>\n",
       "      <td>20245.0</td>\n",
       "      <td>Vicarage Road Stadium</td>\n",
       "      <td>Craig Pawson</td>\n",
       "    </tr>\n",
       "    <tr>\n",
       "      <th>4</th>\n",
       "      <td>1.0</td>\n",
       "      <td>Sat</td>\n",
       "      <td>10/08/2019</td>\n",
       "      <td>15:00</td>\n",
       "      <td>Bournemouth</td>\n",
       "      <td>1.1</td>\n",
       "      <td>1–1</td>\n",
       "      <td>1.0</td>\n",
       "      <td>Sheffield Utd</td>\n",
       "      <td>10714.0</td>\n",
       "      <td>Vitality Stadium</td>\n",
       "      <td>Kevin Friend</td>\n",
       "    </tr>\n",
       "  </tbody>\n",
       "</table>\n",
       "</div>"
      ],
      "text/plain": [
       "    Wk  Day        Date   Time         Home   xG Score  xG.1             Away  \\\n",
       "0  1.0  Fri  09/08/2019  20:00    Liverpool  1.8   4–1   1.0     Norwich City   \n",
       "1  1.0  Sat  10/08/2019  12:30     West Ham  0.8   0–5   3.0  Manchester City   \n",
       "2  1.0  Sat  10/08/2019  15:00      Burnley  0.6   3–0   0.9      Southampton   \n",
       "3  1.0  Sat  10/08/2019  15:00      Watford  1.0   0–3   0.6         Brighton   \n",
       "4  1.0  Sat  10/08/2019  15:00  Bournemouth  1.1   1–1   1.0    Sheffield Utd   \n",
       "\n",
       "   Attendance                  Venue         Referee  \n",
       "0     53333.0                Anfield  Michael Oliver  \n",
       "1     59870.0         London Stadium       Mike Dean  \n",
       "2     19784.0              Turf Moor    Graham Scott  \n",
       "3     20245.0  Vicarage Road Stadium    Craig Pawson  \n",
       "4     10714.0       Vitality Stadium    Kevin Friend  "
      ]
     },
     "execution_count": 29,
     "metadata": {},
     "output_type": "execute_result"
    }
   ],
   "source": [
    "df.head()"
   ]
  },
  {
   "cell_type": "code",
   "execution_count": 30,
   "metadata": {},
   "outputs": [],
   "source": [
    "df.columns = ['Week','Day','Date','Time','Home','H_xG','Score','A_xG','Away','Attendance','Venue','Ref']"
   ]
  },
  {
   "cell_type": "code",
   "execution_count": 31,
   "metadata": {},
   "outputs": [
    {
     "data": {
      "text/plain": [
       "418"
      ]
     },
     "execution_count": 31,
     "metadata": {},
     "output_type": "execute_result"
    }
   ],
   "source": [
    "len(df)"
   ]
  },
  {
   "cell_type": "code",
   "execution_count": 32,
   "metadata": {},
   "outputs": [],
   "source": [
    "grouped_refs = df.groupby('Ref')"
   ]
  },
  {
   "cell_type": "code",
   "execution_count": 33,
   "metadata": {},
   "outputs": [
    {
     "data": {
      "text/html": [
       "<div>\n",
       "<style scoped>\n",
       "    .dataframe tbody tr th:only-of-type {\n",
       "        vertical-align: middle;\n",
       "    }\n",
       "\n",
       "    .dataframe tbody tr th {\n",
       "        vertical-align: top;\n",
       "    }\n",
       "\n",
       "    .dataframe thead th {\n",
       "        text-align: right;\n",
       "    }\n",
       "</style>\n",
       "<table border=\"1\" class=\"dataframe\">\n",
       "  <thead>\n",
       "    <tr style=\"text-align: right;\">\n",
       "      <th></th>\n",
       "      <th>count</th>\n",
       "      <th>mean</th>\n",
       "      <th>std</th>\n",
       "      <th>min</th>\n",
       "      <th>25%</th>\n",
       "      <th>50%</th>\n",
       "      <th>75%</th>\n",
       "      <th>max</th>\n",
       "    </tr>\n",
       "    <tr>\n",
       "      <th>Ref</th>\n",
       "      <th></th>\n",
       "      <th></th>\n",
       "      <th></th>\n",
       "      <th></th>\n",
       "      <th></th>\n",
       "      <th></th>\n",
       "      <th></th>\n",
       "      <th></th>\n",
       "    </tr>\n",
       "  </thead>\n",
       "  <tbody>\n",
       "    <tr>\n",
       "      <th>Andre Marriner</th>\n",
       "      <td>24.0</td>\n",
       "      <td>1.420833</td>\n",
       "      <td>0.678220</td>\n",
       "      <td>0.4</td>\n",
       "      <td>0.800</td>\n",
       "      <td>1.45</td>\n",
       "      <td>1.900</td>\n",
       "      <td>2.8</td>\n",
       "    </tr>\n",
       "    <tr>\n",
       "      <th>Andy Madley</th>\n",
       "      <td>11.0</td>\n",
       "      <td>1.400000</td>\n",
       "      <td>0.938083</td>\n",
       "      <td>0.4</td>\n",
       "      <td>0.850</td>\n",
       "      <td>1.10</td>\n",
       "      <td>1.350</td>\n",
       "      <td>3.3</td>\n",
       "    </tr>\n",
       "    <tr>\n",
       "      <th>Anthony Taylor</th>\n",
       "      <td>32.0</td>\n",
       "      <td>1.503125</td>\n",
       "      <td>0.869736</td>\n",
       "      <td>0.3</td>\n",
       "      <td>0.675</td>\n",
       "      <td>1.40</td>\n",
       "      <td>2.225</td>\n",
       "      <td>3.2</td>\n",
       "    </tr>\n",
       "    <tr>\n",
       "      <th>Chris Kavanagh</th>\n",
       "      <td>26.0</td>\n",
       "      <td>1.603846</td>\n",
       "      <td>0.874291</td>\n",
       "      <td>0.2</td>\n",
       "      <td>0.775</td>\n",
       "      <td>1.65</td>\n",
       "      <td>2.200</td>\n",
       "      <td>3.4</td>\n",
       "    </tr>\n",
       "    <tr>\n",
       "      <th>Craig Pawson</th>\n",
       "      <td>23.0</td>\n",
       "      <td>1.513043</td>\n",
       "      <td>0.852965</td>\n",
       "      <td>0.3</td>\n",
       "      <td>0.850</td>\n",
       "      <td>1.10</td>\n",
       "      <td>2.000</td>\n",
       "      <td>3.2</td>\n",
       "    </tr>\n",
       "    <tr>\n",
       "      <th>Darren England</th>\n",
       "      <td>1.0</td>\n",
       "      <td>0.700000</td>\n",
       "      <td>NaN</td>\n",
       "      <td>0.7</td>\n",
       "      <td>0.700</td>\n",
       "      <td>0.70</td>\n",
       "      <td>0.700</td>\n",
       "      <td>0.7</td>\n",
       "    </tr>\n",
       "    <tr>\n",
       "      <th>David Coote</th>\n",
       "      <td>16.0</td>\n",
       "      <td>1.712500</td>\n",
       "      <td>0.589774</td>\n",
       "      <td>0.9</td>\n",
       "      <td>1.275</td>\n",
       "      <td>1.55</td>\n",
       "      <td>2.100</td>\n",
       "      <td>2.8</td>\n",
       "    </tr>\n",
       "    <tr>\n",
       "      <th>Graham Scott</th>\n",
       "      <td>19.0</td>\n",
       "      <td>1.194737</td>\n",
       "      <td>0.681888</td>\n",
       "      <td>0.1</td>\n",
       "      <td>0.650</td>\n",
       "      <td>1.00</td>\n",
       "      <td>1.600</td>\n",
       "      <td>2.6</td>\n",
       "    </tr>\n",
       "    <tr>\n",
       "      <th>Jonathan Moss</th>\n",
       "      <td>25.0</td>\n",
       "      <td>1.452000</td>\n",
       "      <td>0.755050</td>\n",
       "      <td>0.3</td>\n",
       "      <td>0.700</td>\n",
       "      <td>1.50</td>\n",
       "      <td>2.200</td>\n",
       "      <td>2.6</td>\n",
       "    </tr>\n",
       "    <tr>\n",
       "      <th>Kevin Friend</th>\n",
       "      <td>25.0</td>\n",
       "      <td>1.396000</td>\n",
       "      <td>0.747485</td>\n",
       "      <td>0.3</td>\n",
       "      <td>0.800</td>\n",
       "      <td>1.30</td>\n",
       "      <td>1.900</td>\n",
       "      <td>3.2</td>\n",
       "    </tr>\n",
       "    <tr>\n",
       "      <th>Lee Mason</th>\n",
       "      <td>16.0</td>\n",
       "      <td>1.406250</td>\n",
       "      <td>0.726149</td>\n",
       "      <td>0.6</td>\n",
       "      <td>0.800</td>\n",
       "      <td>1.25</td>\n",
       "      <td>1.800</td>\n",
       "      <td>3.1</td>\n",
       "    </tr>\n",
       "    <tr>\n",
       "      <th>Martin Atkinson</th>\n",
       "      <td>32.0</td>\n",
       "      <td>1.353125</td>\n",
       "      <td>0.680125</td>\n",
       "      <td>0.2</td>\n",
       "      <td>0.875</td>\n",
       "      <td>1.15</td>\n",
       "      <td>1.800</td>\n",
       "      <td>2.9</td>\n",
       "    </tr>\n",
       "    <tr>\n",
       "      <th>Michael Oliver</th>\n",
       "      <td>32.0</td>\n",
       "      <td>1.381250</td>\n",
       "      <td>0.663051</td>\n",
       "      <td>0.1</td>\n",
       "      <td>0.900</td>\n",
       "      <td>1.35</td>\n",
       "      <td>1.825</td>\n",
       "      <td>2.9</td>\n",
       "    </tr>\n",
       "    <tr>\n",
       "      <th>Mike Dean</th>\n",
       "      <td>27.0</td>\n",
       "      <td>1.437037</td>\n",
       "      <td>1.183264</td>\n",
       "      <td>0.2</td>\n",
       "      <td>0.800</td>\n",
       "      <td>1.10</td>\n",
       "      <td>1.700</td>\n",
       "      <td>5.8</td>\n",
       "    </tr>\n",
       "    <tr>\n",
       "      <th>Oliver Langford</th>\n",
       "      <td>1.0</td>\n",
       "      <td>1.400000</td>\n",
       "      <td>NaN</td>\n",
       "      <td>1.4</td>\n",
       "      <td>1.400</td>\n",
       "      <td>1.40</td>\n",
       "      <td>1.400</td>\n",
       "      <td>1.4</td>\n",
       "    </tr>\n",
       "    <tr>\n",
       "      <th>Paul Tierney</th>\n",
       "      <td>25.0</td>\n",
       "      <td>1.244000</td>\n",
       "      <td>0.613786</td>\n",
       "      <td>0.4</td>\n",
       "      <td>0.900</td>\n",
       "      <td>1.20</td>\n",
       "      <td>1.500</td>\n",
       "      <td>3.0</td>\n",
       "    </tr>\n",
       "    <tr>\n",
       "      <th>Peter Bankes</th>\n",
       "      <td>11.0</td>\n",
       "      <td>1.509091</td>\n",
       "      <td>0.439214</td>\n",
       "      <td>0.9</td>\n",
       "      <td>1.300</td>\n",
       "      <td>1.40</td>\n",
       "      <td>1.800</td>\n",
       "      <td>2.2</td>\n",
       "    </tr>\n",
       "    <tr>\n",
       "      <th>Robert Jones</th>\n",
       "      <td>1.0</td>\n",
       "      <td>0.500000</td>\n",
       "      <td>NaN</td>\n",
       "      <td>0.5</td>\n",
       "      <td>0.500</td>\n",
       "      <td>0.50</td>\n",
       "      <td>0.500</td>\n",
       "      <td>0.5</td>\n",
       "    </tr>\n",
       "    <tr>\n",
       "      <th>Simon Hooper</th>\n",
       "      <td>11.0</td>\n",
       "      <td>1.118182</td>\n",
       "      <td>0.708263</td>\n",
       "      <td>0.5</td>\n",
       "      <td>0.600</td>\n",
       "      <td>1.00</td>\n",
       "      <td>1.350</td>\n",
       "      <td>2.7</td>\n",
       "    </tr>\n",
       "    <tr>\n",
       "      <th>Stuart Attwell</th>\n",
       "      <td>21.0</td>\n",
       "      <td>1.347619</td>\n",
       "      <td>0.688926</td>\n",
       "      <td>0.4</td>\n",
       "      <td>0.900</td>\n",
       "      <td>1.20</td>\n",
       "      <td>1.700</td>\n",
       "      <td>2.9</td>\n",
       "    </tr>\n",
       "    <tr>\n",
       "      <th>Tim Robinson</th>\n",
       "      <td>1.0</td>\n",
       "      <td>1.100000</td>\n",
       "      <td>NaN</td>\n",
       "      <td>1.1</td>\n",
       "      <td>1.100</td>\n",
       "      <td>1.10</td>\n",
       "      <td>1.100</td>\n",
       "      <td>1.1</td>\n",
       "    </tr>\n",
       "  </tbody>\n",
       "</table>\n",
       "</div>"
      ],
      "text/plain": [
       "                 count      mean       std  min    25%   50%    75%  max\n",
       "Ref                                                                     \n",
       "Andre Marriner    24.0  1.420833  0.678220  0.4  0.800  1.45  1.900  2.8\n",
       "Andy Madley       11.0  1.400000  0.938083  0.4  0.850  1.10  1.350  3.3\n",
       "Anthony Taylor    32.0  1.503125  0.869736  0.3  0.675  1.40  2.225  3.2\n",
       "Chris Kavanagh    26.0  1.603846  0.874291  0.2  0.775  1.65  2.200  3.4\n",
       "Craig Pawson      23.0  1.513043  0.852965  0.3  0.850  1.10  2.000  3.2\n",
       "Darren England     1.0  0.700000       NaN  0.7  0.700  0.70  0.700  0.7\n",
       "David Coote       16.0  1.712500  0.589774  0.9  1.275  1.55  2.100  2.8\n",
       "Graham Scott      19.0  1.194737  0.681888  0.1  0.650  1.00  1.600  2.6\n",
       "Jonathan Moss     25.0  1.452000  0.755050  0.3  0.700  1.50  2.200  2.6\n",
       "Kevin Friend      25.0  1.396000  0.747485  0.3  0.800  1.30  1.900  3.2\n",
       "Lee Mason         16.0  1.406250  0.726149  0.6  0.800  1.25  1.800  3.1\n",
       "Martin Atkinson   32.0  1.353125  0.680125  0.2  0.875  1.15  1.800  2.9\n",
       "Michael Oliver    32.0  1.381250  0.663051  0.1  0.900  1.35  1.825  2.9\n",
       "Mike Dean         27.0  1.437037  1.183264  0.2  0.800  1.10  1.700  5.8\n",
       "Oliver Langford    1.0  1.400000       NaN  1.4  1.400  1.40  1.400  1.4\n",
       "Paul Tierney      25.0  1.244000  0.613786  0.4  0.900  1.20  1.500  3.0\n",
       "Peter Bankes      11.0  1.509091  0.439214  0.9  1.300  1.40  1.800  2.2\n",
       "Robert Jones       1.0  0.500000       NaN  0.5  0.500  0.50  0.500  0.5\n",
       "Simon Hooper      11.0  1.118182  0.708263  0.5  0.600  1.00  1.350  2.7\n",
       "Stuart Attwell    21.0  1.347619  0.688926  0.4  0.900  1.20  1.700  2.9\n",
       "Tim Robinson       1.0  1.100000       NaN  1.1  1.100  1.10  1.100  1.1"
      ]
     },
     "execution_count": 33,
     "metadata": {},
     "output_type": "execute_result"
    }
   ],
   "source": [
    "grouped_refs.describe()['H_xG']"
   ]
  },
  {
   "cell_type": "code",
   "execution_count": 34,
   "metadata": {},
   "outputs": [],
   "source": [
    "table = pd.read_csv('1920leaguetable.csv')"
   ]
  },
  {
   "cell_type": "code",
   "execution_count": 36,
   "metadata": {},
   "outputs": [
    {
     "data": {
      "text/html": [
       "<div>\n",
       "<style scoped>\n",
       "    .dataframe tbody tr th:only-of-type {\n",
       "        vertical-align: middle;\n",
       "    }\n",
       "\n",
       "    .dataframe tbody tr th {\n",
       "        vertical-align: top;\n",
       "    }\n",
       "\n",
       "    .dataframe thead th {\n",
       "        text-align: right;\n",
       "    }\n",
       "</style>\n",
       "<table border=\"1\" class=\"dataframe\">\n",
       "  <thead>\n",
       "    <tr style=\"text-align: right;\">\n",
       "      <th></th>\n",
       "      <th>Rk</th>\n",
       "      <th>Squad</th>\n",
       "      <th>MP</th>\n",
       "      <th>W</th>\n",
       "      <th>D</th>\n",
       "      <th>L</th>\n",
       "      <th>GF</th>\n",
       "      <th>GA</th>\n",
       "      <th>GDiff</th>\n",
       "      <th>Pts</th>\n",
       "      <th>xG</th>\n",
       "      <th>xGA</th>\n",
       "      <th>xGDiff</th>\n",
       "      <th>xGDiff/90</th>\n",
       "      <th>Attendance</th>\n",
       "      <th>Top Team Scorer</th>\n",
       "      <th>Goalkeeper</th>\n",
       "      <th>Notes</th>\n",
       "      <th>Kit</th>\n",
       "    </tr>\n",
       "  </thead>\n",
       "  <tbody>\n",
       "    <tr>\n",
       "      <th>15</th>\n",
       "      <td>16</td>\n",
       "      <td>West Ham</td>\n",
       "      <td>38</td>\n",
       "      <td>10</td>\n",
       "      <td>9</td>\n",
       "      <td>19</td>\n",
       "      <td>49</td>\n",
       "      <td>62</td>\n",
       "      <td>-13</td>\n",
       "      <td>39</td>\n",
       "      <td>46.0</td>\n",
       "      <td>61.9</td>\n",
       "      <td>-15.8</td>\n",
       "      <td>-0.42</td>\n",
       "      <td>44155</td>\n",
       "      <td>Michail Antonio - 10</td>\n",
       "      <td>Łukasz Fabiański</td>\n",
       "      <td>NaN</td>\n",
       "      <td>#c5385c</td>\n",
       "    </tr>\n",
       "    <tr>\n",
       "      <th>16</th>\n",
       "      <td>17</td>\n",
       "      <td>Aston Villa</td>\n",
       "      <td>38</td>\n",
       "      <td>9</td>\n",
       "      <td>8</td>\n",
       "      <td>21</td>\n",
       "      <td>41</td>\n",
       "      <td>67</td>\n",
       "      <td>-26</td>\n",
       "      <td>35</td>\n",
       "      <td>40.2</td>\n",
       "      <td>65.8</td>\n",
       "      <td>-25.6</td>\n",
       "      <td>-0.67</td>\n",
       "      <td>28505</td>\n",
       "      <td>Jack Grealish - 8</td>\n",
       "      <td>Tom Heaton</td>\n",
       "      <td>NaN</td>\n",
       "      <td>#c5064a</td>\n",
       "    </tr>\n",
       "    <tr>\n",
       "      <th>17</th>\n",
       "      <td>18</td>\n",
       "      <td>Bournemouth</td>\n",
       "      <td>38</td>\n",
       "      <td>9</td>\n",
       "      <td>7</td>\n",
       "      <td>22</td>\n",
       "      <td>40</td>\n",
       "      <td>65</td>\n",
       "      <td>-25</td>\n",
       "      <td>34</td>\n",
       "      <td>42.5</td>\n",
       "      <td>56.7</td>\n",
       "      <td>-14.3</td>\n",
       "      <td>-0.38</td>\n",
       "      <td>7745</td>\n",
       "      <td>Callum Wilson - 8</td>\n",
       "      <td>Aaron Ramsdale</td>\n",
       "      <td>Relegated</td>\n",
       "      <td>#d83309</td>\n",
       "    </tr>\n",
       "    <tr>\n",
       "      <th>18</th>\n",
       "      <td>19</td>\n",
       "      <td>Watford</td>\n",
       "      <td>38</td>\n",
       "      <td>8</td>\n",
       "      <td>10</td>\n",
       "      <td>20</td>\n",
       "      <td>36</td>\n",
       "      <td>64</td>\n",
       "      <td>-28</td>\n",
       "      <td>34</td>\n",
       "      <td>45.5</td>\n",
       "      <td>57.1</td>\n",
       "      <td>-11.5</td>\n",
       "      <td>-0.30</td>\n",
       "      <td>15353</td>\n",
       "      <td>Troy Deeney - 10</td>\n",
       "      <td>Ben Foster</td>\n",
       "      <td>Relegated</td>\n",
       "      <td>#f2e80a</td>\n",
       "    </tr>\n",
       "    <tr>\n",
       "      <th>19</th>\n",
       "      <td>20</td>\n",
       "      <td>Norwich City</td>\n",
       "      <td>38</td>\n",
       "      <td>5</td>\n",
       "      <td>6</td>\n",
       "      <td>27</td>\n",
       "      <td>26</td>\n",
       "      <td>75</td>\n",
       "      <td>-49</td>\n",
       "      <td>21</td>\n",
       "      <td>38.2</td>\n",
       "      <td>61.8</td>\n",
       "      <td>-23.6</td>\n",
       "      <td>-0.62</td>\n",
       "      <td>19913</td>\n",
       "      <td>Teemu Pukki - 11</td>\n",
       "      <td>Tim Krul</td>\n",
       "      <td>Relegated</td>\n",
       "      <td>#FFFF00</td>\n",
       "    </tr>\n",
       "  </tbody>\n",
       "</table>\n",
       "</div>"
      ],
      "text/plain": [
       "    Rk         Squad  MP   W   D   L  GF  GA  GDiff  Pts    xG   xGA  xGDiff  \\\n",
       "15  16      West Ham  38  10   9  19  49  62    -13   39  46.0  61.9   -15.8   \n",
       "16  17   Aston Villa  38   9   8  21  41  67    -26   35  40.2  65.8   -25.6   \n",
       "17  18   Bournemouth  38   9   7  22  40  65    -25   34  42.5  56.7   -14.3   \n",
       "18  19       Watford  38   8  10  20  36  64    -28   34  45.5  57.1   -11.5   \n",
       "19  20  Norwich City  38   5   6  27  26  75    -49   21  38.2  61.8   -23.6   \n",
       "\n",
       "    xGDiff/90  Attendance       Top Team Scorer        Goalkeeper      Notes  \\\n",
       "15      -0.42       44155  Michail Antonio - 10  Łukasz Fabiański        NaN   \n",
       "16      -0.67       28505     Jack Grealish - 8        Tom Heaton        NaN   \n",
       "17      -0.38        7745     Callum Wilson - 8    Aaron Ramsdale  Relegated   \n",
       "18      -0.30       15353      Troy Deeney - 10        Ben Foster  Relegated   \n",
       "19      -0.62       19913      Teemu Pukki - 11          Tim Krul  Relegated   \n",
       "\n",
       "        Kit  \n",
       "15  #c5385c  \n",
       "16  #c5064a  \n",
       "17  #d83309  \n",
       "18  #f2e80a  \n",
       "19  #FFFF00  "
      ]
     },
     "execution_count": 36,
     "metadata": {},
     "output_type": "execute_result"
    }
   ],
   "source": [
    "table.tail()"
   ]
  },
  {
   "cell_type": "code",
   "execution_count": 49,
   "metadata": {},
   "outputs": [
    {
     "data": {
      "text/plain": [
       "[<matplotlib.lines.Line2D at 0x7ffa1dc97590>]"
      ]
     },
     "execution_count": 49,
     "metadata": {},
     "output_type": "execute_result"
    },
    {
     "data": {
      "image/png": "[encoded data removed]",
      "text/plain": [
       "<Figure size 432x288 with 1 Axes>"
      ]
     },
     "metadata": {
      "needs_background": "light"
     },
     "output_type": "display_data"
    }
   ],
   "source": [
    "plt.plot(table['GF'],table['GA'],'o')"
   ]
  },
  {
   "cell_type": "code",
   "execution_count": 50,
   "metadata": {},
   "outputs": [
    {
     "data": {
      "text/plain": [
       "Text(0, 0.5, 'Goals Against')"
      ]
     },
     "execution_count": 50,
     "metadata": {},
     "output_type": "execute_result"
    },
    {
     "data": {
      "image/png": "[encoded data removed]",
      "text/plain": [
       "<Figure size 504x360 with 1 Axes>"
      ]
     },
     "metadata": {
      "needs_background": "light"
     },
     "output_type": "display_data"
    }
   ],
   "source": [
    "fig, ax = plt.subplots()\n",
    "fig.set_size_inches(7, 5)\n",
    "plt.plot(table['GF'],table['GA'],'*')\n",
    "ax.set_title('Goals For vs Goals Against')\n",
    "ax.set_xlabel('Goals For')\n",
    "ax.set_ylabel('Goals Against')"
   ]
  },
  {
   "cell_type": "code",
   "execution_count": 69,
   "metadata": {},
   "outputs": [
    {
     "data": {
      "text/plain": [
       "Text(18, 30, 'Poor Attack, Good Defence')"
      ]
     },
     "execution_count": 69,
     "metadata": {},
     "output_type": "execute_result"
    },
    {
     "data": {
      "image/png": "[encoded data removed]",
      "text/plain": [
       "<Figure size 504x360 with 1 Axes>"
      ]
     },
     "metadata": {
      "needs_background": "light"
     },
     "output_type": "display_data"
    }
   ],
   "source": [
    "fig, ax = plt.subplots()\n",
    "fig.set_size_inches(7, 5)\n",
    "\n",
    "\n",
    "plt.plot(table['GF'],table['GA'],'o')\n",
    "plt.plot([table['GF'].mean(),table['GF'].mean()],[80,30],'k-',linestyle = ':', lw=1)\n",
    "plt.plot([20,105],[table['GA'].mean(),table['GA'].mean()],'k-',linestyle = \":\", lw=1)\n",
    "\n",
    "ax.set_title('Goals For vs Goals Against')\n",
    "ax.set_xlabel('Goals For')\n",
    "ax.set_ylabel('Goals Against')\n",
    "\n",
    "ax.text(18,80,\"Poor Attack, Poor Defence\",color=\"red\",size=\"8\")\n",
    "ax.text(80,30,\"Good Attack, Good Defence\",color=\"green\",size='8')\n",
    "ax.text(80,80,'Good Attack, Poor Defence',color='blue',size='8')\n",
    "ax.text(18,30,'Poor Attack, Good Defence',color='orange',size='8')"
   ]
  },
  {
   "cell_type": "code",
   "execution_count": null,
   "metadata": {},
   "outputs": [],
   "source": []
  },
  {
   "cell_type": "code",
   "execution_count": 64,
   "metadata": {},
   "outputs": [
    {
     "data": {
      "text/plain": [
       "Text(80, 30, 'Good Attack, Good Defence')"
      ]
     },
     "execution_count": 64,
     "metadata": {},
     "output_type": "execute_result"
    }
   ],
   "source": [
    "ax.text(18,90,\"Poor Attack, Poor Defence\",color=\"red\",size=\"8\")\n",
    "ax.text(80,30,\"Good Attack, Good Defence\",color=\"green\",size='8')"
   ]
  },
  {
   "cell_type": "code",
   "execution_count": null,
   "metadata": {},
   "outputs": [],
   "source": []
  }
 ],
 "metadata": {
  "kernelspec": {
   "display_name": "Python 3",
   "language": "python",
   "name": "python3"
  },
  "language_info": {
   "codemirror_mode": {
    "name": "ipython",
    "version": 3
   },
   "file_extension": ".py",
   "mimetype": "text/x-python",
   "name": "python",
   "nbconvert_exporter": "python",
   "pygments_lexer": "ipython3",
   "version": "3.7.6"
  }
 },
 "nbformat": 4,
 "nbformat_minor": 4
}
